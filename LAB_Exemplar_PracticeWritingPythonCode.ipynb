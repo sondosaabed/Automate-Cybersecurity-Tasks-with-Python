{
 "cells": [
  {
   "cell_type": "markdown",
   "metadata": {
    "id": "a3e8ad96"
   },
   "source": [
    "# Exemplar: Practice writing Python code"
   ]
  },
  {
   "cell_type": "markdown",
   "metadata": {
    "id": "KHyRsMAO1Zz2"
   },
   "source": [
    "## Introduction\n",
    "\n",
    "Python is a programming language that helps in automating instructions to the computer in a variety of contexts, including security contexts. Writing code in Python is a valuable skill that helps security analysts thrive in their technical work.  \n",
    "\n",
    "In this lab, you'll practice writing your first Python code while learning about a notebook environment. The hands-on practice you engage in throughout the labs will help you apply Python coding skills to your work as a security analyst. You'll benefit the most from the labs if you make sure to not only write in the cells that you're prompted to fill in, but also analyze all the cells thoroughly."
   ]
  },
  {
   "cell_type": "markdown",
   "metadata": {
    "id": "dd587165"
   },
   "source": [
    "<details><summary><h2>Tips for completing this lab</h2></summary>\n",
    "\n",
    "As you navigate this lab, keep the following tips in mind:\n",
    "\n",
    "- `### YOUR CODE HERE ###` indicates where you should write code. Be sure to replace this with your own code before running the code cell.\n",
    "- Feel free to open the hints for additional guidance as you work on each task. \n",
    "- To enter your answer to a question, double-click the markdown cell to edit. Be sure to replace the \"[Double-click to enter your responses here.]\" with your own answer.\n",
    "- You can save your work manually by clicking File and then Save in the menu bar at the top of the notebook. \n",
    "- You can download your work locally by clicking File and then Download and then specifying your preferred file format in the menu bar at the top of the notebook. \n",
    "</details>"
   ]
  },
  {
   "cell_type": "markdown",
   "metadata": {
    "id": "ALaLE1bw111w"
   },
   "source": [
    "## Scenario\n",
    "\n",
    "As a security analyst, you'll often use notebook environments and notebooks to write and run code. This lab will help you get familiar with working in a notebook environment, writing code comments in Python, and displaying strings with the `print()` function.\n",
    "\n",
    "In this lab, you'll complete a series of tasks that involve observing and running some pre-written cells of text and code, as well as filling in cells with your own text, Python code, and code comments. "
   ]
  },
  {
   "cell_type": "markdown",
   "metadata": {
    "id": "23c95356-a357-4401-aaf3-a15b696c5537"
   },
   "source": [
    "## Task 1    \n",
    "\n",
    "The lab environment you're working in is a notebook-based coding environment. Notebooks, such as this one, consist of two types of cells: (1) text cells, also known as markdown cells, and (2) code cells.\n",
    "\n",
    "Markdown cells allow you to write plain text and format it in the markdown language. Markdown language is used for formatting plain text in text editors and code editors. For example, you can use markdown to make headers, bold or italicize words, format text as code, add hyperlinks,  and more.\n",
    "\n",
    "For this task, write something into the following markdown cell. Be sure to replace the \"[Double-click to edit this markdown cell and write something here.]\" with your own text. When you have finished editing, press the *Shift* and *Enter* keys (or on some keyboards, the *Shift* and *Return* keys) to display your text."
   ]
  },
  {
   "cell_type": "markdown",
   "metadata": {},
   "source": [
    "This is a markdown cell, and you can write text in here."
   ]
  },
  {
   "cell_type": "markdown",
   "metadata": {
    "id": "5feb3cea"
   },
   "source": [
    "<details>\n",
    "    <summary><h4><strong>Hint 1</strong></h4></summary>\n",
    "\n",
    "Double-click the markdown cell and replace the placeholder statement with your own. You can write any statement of your choice.\n",
    "    \n",
    "</details>"
   ]
  },
  {
   "cell_type": "markdown",
   "metadata": {
    "id": "19984c9e"
   },
   "source": [
    "## Task 2\n",
    "\n",
    "In Python notebooks, code cells allow you to write code comments and code in Python.\n",
    "\n",
    "To run a code cell, first place your cursor on the cell. Then, you can either click on the play icon, or press the *Shift* and *Enter* keys (or on some keyboards, the *Shift* and *Return* keys).\n",
    "\n",
    "For this task, run the following code cell as is and observe the output."
   ]
  },
  {
   "cell_type": "code",
   "execution_count": 1,
   "metadata": {
    "id": "d77f8dae"
   },
   "outputs": [
    {
     "name": "stdout",
     "output_type": "stream",
     "text": [
      "Hello world!\n"
     ]
    }
   ],
   "source": [
    "# This cell displays \"Hello world!\"\n",
    "\n",
    "print(\"Hello world!\")"
   ]
  },
  {
   "cell_type": "markdown",
   "metadata": {
    "id": "5feb3cea"
   },
   "source": [
    "<details>\n",
    "    <summary><h4><strong>Hint 1</strong></h4></summary>\n",
    "\n",
    "Once you click on the code cell, you can run the code by either clicking on the triangular play icon, or press the *Shift* and *Enter* keys (or on some keyboards, the *Shift* and *Return* keys).\n",
    "    \n",
    "</details>"
   ]
  },
  {
   "cell_type": "markdown",
   "metadata": {
    "id": "99a5403f"
   },
   "source": [
    "#### **Question 1**\n",
    "**What do you observe about the output after you ran the code cell?**"
   ]
  },
  {
   "cell_type": "markdown",
   "metadata": {
    "id": "9f2fa87f"
   },
   "source": [
    "The output shows the statement `Hello world!` on the screen."
   ]
  },
  {
   "cell_type": "markdown",
   "metadata": {
    "id": "2f9b484c-85b7-46a2-bcdd-b4ba21741094"
   },
   "source": [
    "## Task 3\n",
    "\n",
    "Writing code comments is a way to document the intention behind code. It's a standard that analysts commonly use in their workflow. Writing comments that accompany code allows you to keep track of the technical decisions you've made in your project. This makes it easier for you and your team to read and revisit your code in order to understand what it does and why you took certain approaches.\n",
    "\n",
    "For this task, run the following code cell as is and observe the output."
   ]
  },
  {
   "cell_type": "code",
   "execution_count": 2,
   "metadata": {
    "colab": {
     "base_uri": "https://localhost:8080/"
    },
    "executionInfo": {
     "elapsed": 267,
     "status": "ok",
     "timestamp": 1675409433313,
     "user": {
      "displayName": "Lavanya Vijayan",
      "userId": "09394087000910120547"
     },
     "user_tz": 480
    },
    "id": "8f93d4f9",
    "outputId": "e79a2b33-b9f9-4153-d68c-1844a1bddf52"
   },
   "outputs": [],
   "source": [
    "# In Python, comments do not get displayed\n",
    "# This code cell contains only comments"
   ]
  },
  {
   "cell_type": "markdown",
   "metadata": {
    "id": "a69c0c7c"
   },
   "source": [
    "<details>\n",
    "    <summary><h4><strong>Hint 1</strong></h4></summary>\n",
    "\n",
    "Once you click on the code cell, you can run the code by either clicking on the triangular play icon, or press the *Shift* and *Enter* keys (or on some keyboards, the *Shift* and *Return* keys).\n",
    "    \n",
    "</details>"
   ]
  },
  {
   "cell_type": "markdown",
   "metadata": {
    "id": "9d7c15f6"
   },
   "source": [
    "#### **Question 2**\n",
    "**What do you observe about the output after you ran the cell above?**"
   ]
  },
  {
   "cell_type": "markdown",
   "metadata": {
    "id": "d49b13ff"
   },
   "source": [
    "There is no output. This is because the code cell above consists of two code comments, each comment starting with a hash symbol (`#`). When executing code, Python ignores comments. Code comments aren't interpreted by computers; they're interpreted by analysts. "
   ]
  },
  {
   "cell_type": "markdown",
   "metadata": {
    "id": "8bfe6696"
   },
   "source": [
    "## Task 4\n",
    "\n",
    "To type in a code cell, first click into the cell. Then you can write comments and code inside the cell. \n",
    "\n",
    "For this task, add a comment at the beginning of the following code cell, describing what the code is doing. Write the comment to say `# This cell displays \"I am using Python.\"`. Be sure to replace the `# YOUR COMMENT HERE` with your own comment before running the following cell."
   ]
  },
  {
   "cell_type": "code",
   "execution_count": 3,
   "metadata": {
    "id": "44d46c34"
   },
   "outputs": [
    {
     "name": "stdout",
     "output_type": "stream",
     "text": [
      "I am using Python.\n"
     ]
    }
   ],
   "source": [
    "# This cell displays \"I am using Python.\"\n",
    "\n",
    "print(\"I am using Python.\")"
   ]
  },
  {
   "cell_type": "markdown",
   "metadata": {
    "id": "a69c0c7c"
   },
   "source": [
    "<details>\n",
    "    <summary><h4><strong>Hint 1</strong></h4></summary>\n",
    "\n",
    "Once you click into the code cell, replace the placeholder comment with your comment. Recall that comments in Python start with the hash symbol (`#`).\n",
    "    \n",
    "</details>"
   ]
  },
  {
   "cell_type": "markdown",
   "metadata": {
    "id": "322fdf39"
   },
   "source": [
    "#### **Question 3**\n",
    "**What do you observe about the output after you ran the cell above?**"
   ]
  },
  {
   "cell_type": "markdown",
   "metadata": {
    "id": "7017ee16"
   },
   "source": [
    "The output is `I am using Python.` Note that the quotes around a string do not appear in the output when the string is displayed."
   ]
  },
  {
   "cell_type": "markdown",
   "metadata": {
    "id": "b1c2f0ad"
   },
   "source": [
    "## Task 5\n",
    "\n",
    "In Python, `print()` helps you to display information to the screen.\n",
    "\n",
    "For this task, use `print()` to display the message `\"I am a security analyst.\"` by placing that message within the parentheses. Be sure to replace the `### YOUR CODE HERE ###` with your own code before running the following code cell."
   ]
  },
  {
   "cell_type": "code",
   "execution_count": 4,
   "metadata": {
    "id": "adeacdd1"
   },
   "outputs": [
    {
     "name": "stdout",
     "output_type": "stream",
     "text": [
      "I am a security analyst.\n"
     ]
    }
   ],
   "source": [
    "# This cell displays \"I am a security analyst.\"\n",
    "\n",
    "print(\"I am a security analyst.\")"
   ]
  },
  {
   "cell_type": "markdown",
   "metadata": {
    "id": "b9e3cbeb"
   },
   "source": [
    "<details>\n",
    "    <summary><h4><strong>Hint 1</strong></h4></summary>\n",
    "\n",
    "Once you click into the code cell, replace the `### YOUR CODE HERE ###` with `\"I am a security analyst.\"`.\n",
    "    \n",
    "</details>"
   ]
  },
  {
   "cell_type": "markdown",
   "metadata": {
    "id": "d499bc7b"
   },
   "source": [
    "#### **Question 4**\n",
    "**What do you observe about the output after you ran the cell above?**"
   ]
  },
  {
   "cell_type": "markdown",
   "metadata": {
    "id": "b569efad"
   },
   "source": [
    "The output is `I am a security analyst.` Note that the quotes around a string do not appear in the output when the string is displayed. "
   ]
  },
  {
   "cell_type": "markdown",
   "metadata": {
    "id": "eFvoDtdsCcYo"
   },
   "source": [
    "## Task 6\n",
    "\n",
    "For this task, write a `print()` statement to display the string `\"Python is useful for security!\"` Be sure to replace the `### YOUR CODE HERE ###` with your own code before running the following code cell."
   ]
  },
  {
   "cell_type": "code",
   "execution_count": 5,
   "metadata": {
    "colab": {
     "base_uri": "https://localhost:8080/"
    },
    "executionInfo": {
     "elapsed": 10,
     "status": "ok",
     "timestamp": 1675409433314,
     "user": {
      "displayName": "Lavanya Vijayan",
      "userId": "09394087000910120547"
     },
     "user_tz": 480
    },
    "id": "9543e585",
    "outputId": "9d9d4796-4e1f-441b-f749-b1e3ee17128b"
   },
   "outputs": [
    {
     "name": "stdout",
     "output_type": "stream",
     "text": [
      "Python is useful for security!\n"
     ]
    }
   ],
   "source": [
    "# This cell displays \"Python is useful for security!\"\n",
    "\n",
    "print(\"Python is useful for security!\")"
   ]
  },
  {
   "cell_type": "markdown",
   "metadata": {
    "id": "c8bd427d"
   },
   "source": [
    "<details>\n",
    "    <summary><h4><strong>Hint 1</strong></h4></summary>\n",
    "\n",
    "Click into the code cell and use `print()` to display the message.\n",
    "    \n",
    "</details>"
   ]
  },
  {
   "cell_type": "markdown",
   "metadata": {
    "id": "7b7b7e49"
   },
   "source": [
    "<details>\n",
    "    <summary><h4><strong>Hint 2</strong></h4></summary>\n",
    "\n",
    "Place the message inside the parentheses of `print()`.\n",
    "    \n",
    "</details>"
   ]
  },
  {
   "cell_type": "markdown",
   "metadata": {
    "id": "d499bc7b"
   },
   "source": [
    "#### **Question 5**\n",
    "**What do you observe about the output after you ran the cell above?**"
   ]
  },
  {
   "cell_type": "markdown",
   "metadata": {},
   "source": [
    "The output is `Python is useful for security!` Note that the quotes around a string do not appear in the output when the string is displayed. "
   ]
  },
  {
   "cell_type": "markdown",
   "metadata": {
    "id": "563f6d9c"
   },
   "source": [
    "## Task 7\n",
    "\n",
    "For your final task, you'll combine all the `print()` statements you've encountered and written in this lab up to this point, into one code cell. \n",
    "\n",
    "Complete the following code with the remaining messages. Be sure to replace each `### YOUR CODE HERE ###` with your own code before running the following cell."
   ]
  },
  {
   "cell_type": "code",
   "execution_count": 6,
   "metadata": {
    "colab": {
     "base_uri": "https://localhost:8080/"
    },
    "executionInfo": {
     "elapsed": 9,
     "status": "ok",
     "timestamp": 1675409433314,
     "user": {
      "displayName": "Lavanya Vijayan",
      "userId": "09394087000910120547"
     },
     "user_tz": 480
    },
    "id": "a9e2a586",
    "outputId": "14464f98-56b2-4ffc-d067-402e35131334"
   },
   "outputs": [
    {
     "name": "stdout",
     "output_type": "stream",
     "text": [
      "Hello world!\n",
      "I am using Python.\n",
      "I am a security analyst.\n",
      "Python is useful for security!\n"
     ]
    }
   ],
   "source": [
    "# This cell displays all the statements written so far\n",
    "\n",
    "print(\"Hello world!\")\n",
    "print(\"I am using Python.\")\n",
    "print(\"I am a security analyst.\")\n",
    "print(\"Python is useful for security!\")"
   ]
  },
  {
   "cell_type": "markdown",
   "metadata": {
    "id": "47d653b4"
   },
   "source": [
    "<details>\n",
    "    <summary><h4><strong>Hint 1</strong></h4></summary>\n",
    "\n",
    "First click into the code cell. \n",
    "\n",
    "For the third `print()` statement, place the string `\"I am a security analyst.\"` inside the parantheses of `print()`.\n",
    "\n",
    "For the fourth `print()` statement, place the string `\"Python is useful for security!\"` inside the parantheses of `print()`.\n",
    "    \n",
    "</details>"
   ]
  },
  {
   "cell_type": "markdown",
   "metadata": {
    "id": "b66c64c8"
   },
   "source": [
    "#### **Question 6**\n",
    "**What do you observe about the output after you ran the cell above?**"
   ]
  },
  {
   "cell_type": "markdown",
   "metadata": {
    "id": "37aefacb"
   },
   "source": [
    "Each line in the output resulted from a `print()` statement in the code. `Hello world!` appears in the first line of the output, `I am using Python.` appears on the next line of the output, `I am a security analyst.` appears next, and finally `Python is useful for security!` appears last. Note that Python interprets and executes code in order, from top to bottom and left to right."
   ]
  },
  {
   "cell_type": "markdown",
   "metadata": {
    "id": "39b25c13"
   },
   "source": [
    "## Conclusion\n",
    "**What are your key takeaways from this lab?**\n",
    "- It's helpful to use code comments to document the decisions you make as you code. \n",
    "- Code comments are ignored by computers; they're read by you and your team to understand the intentions behind the code.\n",
    "- You can write comments in Python using the hash symbol (`#`).\n",
    "- You can use `print()` in Python to display information to the screen.\n",
    "  - When you use `print()` to display a string, the quotes around the string do not appear in the output on the screen.\n",
    "\n",
    "\n",
    "\n"
   ]
  }
 ],
 "metadata": {
  "colab": {
   "provenance": [
    {
     "file_id": "1iWn3JNPPBvsHRSvEKMGIaN8d9PB5H8T0",
     "timestamp": 1667953385116
    }
   ]
  },
  "kernelspec": {
   "display_name": "Python 3",
   "language": "python",
   "name": "python3"
  },
  "language_info": {
   "codemirror_mode": {
    "name": "ipython",
    "version": 3
   },
   "file_extension": ".py",
   "mimetype": "text/x-python",
   "name": "python",
   "nbconvert_exporter": "python",
   "pygments_lexer": "ipython3",
   "version": "3.7.6"
  }
 },
 "nbformat": 4,
 "nbformat_minor": 5
}
