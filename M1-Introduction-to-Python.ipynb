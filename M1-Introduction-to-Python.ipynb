{
 "cells": [
  {
   "cell_type": "markdown",
   "metadata": {},
   "source": [
    "## Get to know Python\n",
    "\n",
    "In this reading, you will explore how programming works, how a computer processes the Python programming language, and how Python is used in cybersecurity.\n",
    "\n",
    "### How programming works \n",
    "\n",
    "Programming is a process that can be used to create a specific set of instructions for a computer to execute tasks. Computer programs exist everywhere. Computers, cell phones, and many other electronic devices are all given instructions by computer programs. \n",
    "\n",
    "There are multiple programming languages used to create computer programs. Python is one of these. Programming languages are converted to binary numbers, which are a series of 0s and 1s that represent the operations that the computer's central processing unit (CPU) should perform. Each instruction corresponds to a specific operation, such as adding two numbers or loading a value from memory. \n",
    "\n",
    "It would be very time-consuming for humans to communicate this way. Programming languages like Python make it easier to write code because you can use less syntax when instructing computers to perform complex processes.\n",
    "\n",
    "### Using Python to program\n",
    "\n",
    "Python is a general purpose programming language that can be used to solve a variety of problems. For example, it can be used to build websites, perform data analysis, and automate tasks. \n",
    "\n",
    "Python code must be converted through an interpreter before the computer can process it. An interpreter is a computer program that translates Python code into runnable instructions line by line. \n",
    "\n",
    "### Python versions\n",
    "\n",
    "There are multiple versions of Python. In this course, you are using Python 3. While using Python, it's important to keep track of the version you're using. There are differences in the syntax of each version. Syntax refers to the rules that determine what is correctly structured in a computing language.\n",
    "\n",
    "### Python in cybersecurity\n",
    "\n",
    "In cybersecurity, Python is used especially for automation. Automation is the use of technology to reduce human and manual effort to perform common and repetitive tasks. These are some specific areas of cybersecurity in which Python might be used to automate specific tasks:\n",
    "\n",
    "- Log analysis\n",
    "- Malware analysis\n",
    "- Access control list management\n",
    "- Intrusion detection\n",
    "- Compliance checks\n",
    "- Network scanning\n",
    "\n",
    "## Key takeaways\n",
    "\n",
    "Python is a programming language, or in other words, a language used to create instructions for a computer to complete tasks. Programming languages are converted to binary numbers that a machine can understand. It's important to be aware that there are multiple versions of Python, and they have differences in syntax. Python is especially useful in cybersecurity for automating repetitive tasks."
   ]
  },
  {
   "cell_type": "markdown",
   "metadata": {},
   "source": [
    "## Python environments\n",
    "\n",
    "You can run Python through a variety of environments. These environments include notebooks, integrated development environments (IDEs), and the command line. This reading will introduce you to these environments. It will focus primarily on notebooks because this is how you'll interact with Python in this course.\n",
    "\n",
    "### Notebooks\n",
    "\n",
    "One way to write Python code is through a notebook. In this course, you'll interact with Python through notebooks. A notebook is an online interface for writing, storing, and running code. They also allow you to document information about the code. Notebook content either appears in a code cell or markdown cell.\n",
    "\n",
    "#### Code cells\n",
    "\n",
    "Code cells are meant for writing and running code. A notebook provides a mechanism for running these code cells. Often, this is a play button located within the cell. When you run the code, its output appears after the code. \n",
    "\n",
    "#### Markdown cells\n",
    "\n",
    "Markdown cells are meant for describing the code. They allow you to format text in the markdown language. Markdown language is used for formatting plain text in text editors and code editors. For example, you might indicate that text should be in a certain header style. \n",
    "\n",
    "#### Common notebook environments\n",
    "\n",
    "Two common notebook environments are Jupyter Notebook and Google Colaboratory (or Google Colab). They allow you to run several programming languages, including Python. \n",
    "\n",
    "### Integrated development environments (IDEs)\n",
    "\n",
    "Another option for writing Python code is through an integrated development environment (IDE), or a software application for writing code that provides editing assistance and error correction tools. Integrated development environments include a graphical user interface (GUI) that provides programmers with a variety of options to customize and build their programs. \n",
    "\n",
    "### Command line\n",
    "\n",
    "The command line is another environment that allows you to run Python programs. Previously, you learned that a command-line interface (CLI) is a text-based user interface that uses commands to interact with the computer. By entering commands into the command line, you can access all files and directories saved on your hard drive, including files containing Python code you want to run. You can also use the command line to open a file editor and create a new Python file.\n",
    "\n",
    "## Key takeaways\n",
    "\n",
    "Security analysts can access Python through a variety of environments, including notebooks, integrated development environments, and the command line. In this course, you'll use notebooks, which are online interfaces for interacting with code. Notebooks contain code cells for writing and running code as well as markdown cells for plain text descriptions."
   ]
  },
  {
   "cell_type": "markdown",
   "metadata": {},
   "source": [
    "## More about data types\n",
    "\n",
    "Previously, you explored data types in Python. A data type is a category for a particular type of data item. You focused on string, list, float, integer, and Boolean data. These are the data types you'll work with in this course. This reading will expand on these data types. It will also introduce three additional types.\n",
    "\n",
    "### String\n",
    "\n",
    "In Python, string data is data consisting of an ordered sequence of characters. Characters in a string may include letters, numbers, symbols, and spaces. These characters must be placed within quotation marks. These are all valid strings:\n",
    "\n",
    "- \"updates needed\"\n",
    "- \"20%\"\n",
    "- \"5.0\"\n",
    "- \"35\"\n",
    "- \"**/**/**\" \n",
    "- \"\"\n",
    "\n",
    "Note: The last item (\"\"), which doesn't contain anything within the quotation marks, is called an empty string.\n",
    "\n",
    "You can use the print() function to display a string. You can explore this by running this code: "
   ]
  },
  {
   "cell_type": "code",
   "execution_count": 1,
   "metadata": {},
   "outputs": [
    {
     "name": "stdout",
     "output_type": "stream",
     "text": [
      "updates needed\n"
     ]
    }
   ],
   "source": [
    "print(\"updates needed\")"
   ]
  },
  {
   "cell_type": "markdown",
   "metadata": {},
   "source": [
    "The code prints \"updates needed\". \n",
    "\n",
    "You can place strings in either double quotation marks (\"\") or single quotation marks (''). The following code demonstrates that the same message prints when the string is in single quotation marks:"
   ]
  },
  {
   "cell_type": "code",
   "execution_count": 2,
   "metadata": {},
   "outputs": [
    {
     "name": "stdout",
     "output_type": "stream",
     "text": [
      "updates needed\n"
     ]
    }
   ],
   "source": [
    "print('updates needed') "
   ]
  },
  {
   "cell_type": "markdown",
   "metadata": {},
   "source": [
    "Note: Choosing one type of quotation marks and using it consistently makes it easier to read your code. This course uses double quotation marks."
   ]
  },
  {
   "cell_type": "markdown",
   "metadata": {},
   "source": [
    "### List\n",
    "\n",
    "In Python, list data is a data structure that consists of a collection of data in sequential form. Lists elements can be of any data type, such as strings, integers, Booleans, or even other lists. The elements of a list are placed within square brackets, and each element is separated by a comma. The following lists contains elements of various data types:\n",
    "\n",
    "- [12, 36, 54, 1, 7]\n",
    "- [\"eraab\", \"arusso\", \"drosas\"]\n",
    "- [True, False, True, True]\n",
    "- [15, \"approved\", True, 45.5, False]\n",
    "- []\n",
    "\n",
    "Note: The last item [], which doesn't contain anything within the brackets, is called an empty list.\n",
    "\n",
    "You can also use the print() function to display a list:"
   ]
  },
  {
   "cell_type": "code",
   "execution_count": 3,
   "metadata": {},
   "outputs": [
    {
     "name": "stdout",
     "output_type": "stream",
     "text": [
      "[12, 36, 54, 1, 7]\n"
     ]
    }
   ],
   "source": [
    "print([12, 36, 54, 1, 7])"
   ]
  },
  {
   "cell_type": "markdown",
   "metadata": {},
   "source": [
    "This displays a list containing the integers 12, 36, 54, 1, and 7.\n",
    "Integer\n",
    "\n",
    "In Python, integer data is data consisting of a number that does not include a decimal point. These are all examples of integer data:\n",
    "\n",
    "- -100 \n",
    "- -12\n",
    "- -1\n",
    "- 0\n",
    "- 1\n",
    "- 20\n",
    "- 500 \n",
    "\n",
    "Integers are not placed in quotation marks. You can use the print() function to display an integer. When you run this code, it displays 5: "
   ]
  },
  {
   "cell_type": "code",
   "execution_count": 4,
   "metadata": {},
   "outputs": [
    {
     "name": "stdout",
     "output_type": "stream",
     "text": [
      "5\n"
     ]
    }
   ],
   "source": [
    "print(5)"
   ]
  },
  {
   "cell_type": "markdown",
   "metadata": {},
   "source": [
    "You can also use the print() function to perform mathematical operations with integers. For example, this code adds two integers:"
   ]
  },
  {
   "cell_type": "code",
   "execution_count": 5,
   "metadata": {},
   "outputs": [
    {
     "name": "stdout",
     "output_type": "stream",
     "text": [
      "7\n"
     ]
    }
   ],
   "source": [
    "print(5 + 2)"
   ]
  },
  {
   "cell_type": "markdown",
   "metadata": {},
   "source": [
    "The result is 7. You can also subtract, multiply, or divide two integers."
   ]
  },
  {
   "cell_type": "markdown",
   "metadata": {},
   "source": [
    "### Float\n",
    "\n",
    "Float data is data consisting of a number with a decimal point. All of the following are examples of float data: \n",
    "\n",
    "- -2.2\n",
    "- -1.34\n",
    "- 0.0\n",
    "- 0.34 \n",
    "\n",
    "Just like integer data, float data is not placed in quotation marks. In addition, you can also use the print() function to display float data or to perform mathematical calculations with float data. You can run the following code to review the result of this calculation:"
   ]
  },
  {
   "cell_type": "code",
   "execution_count": 6,
   "metadata": {},
   "outputs": [
    {
     "name": "stdout",
     "output_type": "stream",
     "text": [
      "4.0\n"
     ]
    }
   ],
   "source": [
    "print(1.2 + 2.8)"
   ]
  },
  {
   "cell_type": "markdown",
   "metadata": {},
   "source": [
    "Note: Dividing two integer values or two float values results in float output when you use the symbol /:"
   ]
  },
  {
   "cell_type": "code",
   "execution_count": 7,
   "metadata": {},
   "outputs": [
    {
     "name": "stdout",
     "output_type": "stream",
     "text": [
      "0.25\n",
      "0.25\n"
     ]
    }
   ],
   "source": [
    "print(1/4)\n",
    "print(1.0/4.0)"
   ]
  },
  {
   "cell_type": "markdown",
   "metadata": {},
   "source": [
    "If you want to return a whole number from a calculation, you must use the symbol // instead:"
   ]
  },
  {
   "cell_type": "code",
   "execution_count": 8,
   "metadata": {},
   "outputs": [
    {
     "name": "stdout",
     "output_type": "stream",
     "text": [
      "0\n",
      "0.0\n"
     ]
    }
   ],
   "source": [
    "print(1//4)\n",
    "print(1.0//4.0)"
   ]
  },
  {
   "cell_type": "markdown",
   "metadata": {},
   "source": [
    "It will round down to the nearest whole number. In the case of print(1//4), the output is the integer value of 0 because using this symbol rounds down the calculation from .25 to the nearest whole number. In the case of print(1.0//4.0), the output is the float value of 0.0 because it maintains the float data type of the values in the calculation while also rounding down to the nearest whole number."
   ]
  },
  {
   "cell_type": "markdown",
   "metadata": {},
   "source": [
    "### Boolean \n",
    "\n",
    "Boolean data is data that can only be one of two values: either True or False.\n",
    "\n",
    "You should not place Boolean values in quotation marks. When you run the following code, it displays the Boolean value of True:"
   ]
  },
  {
   "cell_type": "code",
   "execution_count": 9,
   "metadata": {},
   "outputs": [
    {
     "name": "stdout",
     "output_type": "stream",
     "text": [
      "True\n"
     ]
    }
   ],
   "source": [
    "print(True)"
   ]
  },
  {
   "cell_type": "markdown",
   "metadata": {},
   "source": [
    "You can also return a Boolean value by comparing numbers. Because 9 is not greater than 10, this code evaluates to False:"
   ]
  },
  {
   "cell_type": "code",
   "execution_count": 10,
   "metadata": {},
   "outputs": [
    {
     "name": "stdout",
     "output_type": "stream",
     "text": [
      "False\n"
     ]
    }
   ],
   "source": [
    "print(9 > 10)"
   ]
  },
  {
   "cell_type": "markdown",
   "metadata": {},
   "source": [
    "### Additional data types\n",
    "\n",
    "In this course, you will work with the string, list, integer, float and Boolean data types, but there are other data types. These additional data types include tuple data, dictionary data, and set data."
   ]
  },
  {
   "cell_type": "markdown",
   "metadata": {},
   "source": [
    "#### Tuple\n",
    "\n",
    "Tuple data is a data structure that consists of a collection of data that cannot be changed. Like lists, tuples can contain elements of varying data types. \n",
    "\n",
    "A difference between tuple data and list data is that it is possible to change the elements in a list, but it is not possible to change the elements in a tuple. This could be useful in a cybersecurity context. For example, if software identifiers are stored in a tuple to ensure that they will not be altered, this can provide assurance that an access control list will only block the intended software.\n",
    "\n",
    "The syntax of a tuple is also different from the syntax of a list. A tuple is placed in parentheses rather than brackets. These are all examples of the tuple data type:\n",
    "\n",
    "- (\"wjaffrey\", \"arutley\", \"dkot\")\n",
    "- (46, 2, 13, 2, 8, 0, 0)\n",
    "- (True, False, True, True)\n",
    "- (\"wjaffrey\", 13, True)\n",
    "\n",
    "Pro tip: Tuples are more memory efficient than lists, so they are useful when you are working with a large quantity of data."
   ]
  },
  {
   "cell_type": "markdown",
   "metadata": {},
   "source": [
    "#### Dictionary\n",
    "\n",
    "Dictionary data is data that consists of one or more key-value pairs. Each key is mapped to a value. A colon (:) is placed between the key and value. Commas separate key-value pairs from other key-value pairs, and the dictionary is placed within curly brackets ({}). \n",
    "\n",
    "Dictionaries are useful when you want to store and retrieve data in a predictable way. For example, the following dictionary maps a building name to a number. The building name is the value, and the number is the key. A colon is placed after the key."
   ]
  },
  {
   "cell_type": "code",
   "execution_count": 11,
   "metadata": {},
   "outputs": [
    {
     "data": {
      "text/plain": [
       "{1: 'East', 2: 'West', 3: 'North', 4: 'South'}"
      ]
     },
     "execution_count": 11,
     "metadata": {},
     "output_type": "execute_result"
    }
   ],
   "source": [
    "{ 1: \"East\",\n",
    "\n",
    "  2: \"West\",\n",
    "\n",
    "  3: \"North\",\n",
    "\n",
    "  4: \"South\" }"
   ]
  },
  {
   "cell_type": "markdown",
   "metadata": {},
   "source": [
    "#### Set\n",
    "\n",
    "In Python, set data is data that consists of an unordered collection of unique values. This means no two values in a set can be the same. \n",
    "\n",
    "Elements in a set are always placed within curly brackets and are separated by a comma. These elements can be of any data type. This example of a set contains strings of usernames:"
   ]
  },
  {
   "cell_type": "code",
   "execution_count": 12,
   "metadata": {},
   "outputs": [
    {
     "data": {
      "text/plain": [
       "{'drosas', 'jlanksy', 'nmason'}"
      ]
     },
     "execution_count": 12,
     "metadata": {},
     "output_type": "execute_result"
    }
   ],
   "source": [
    "{\"jlanksy\", \"drosas\", \"nmason\"}"
   ]
  },
  {
   "cell_type": "markdown",
   "metadata": {},
   "source": [
    "## Key takeaways\n",
    "\n",
    "It's important for security analysts who program in Python to be familiar with various Python data types. The data types that you will work with in this course are string, list, integer, float and Boolean. Additional data types include tuple, dictionary, and set. Each data type has its own purpose and own syntax."
   ]
  },
  {
   "cell_type": "markdown",
   "metadata": {},
   "source": [
    "## Assign and reassign variables in Python\n",
    "\n",
    "Previously, you've explored variables and how to assign and reassign them in Python. In this reading, you'll expand your understanding of these topics. You’ll also learn about the general practice of naming variables so that you can avoid syntax errors and improve code readability. \n",
    "\n",
    "### What are variables?\n",
    "\n",
    "In a programming language, a variable is a container that stores data. It's a named storage location in a computer's memory that can hold a value. It stores the data in a particular data type, such as integer, string, or Boolean. The value that is stored in a variable can change. \n",
    "\n",
    "You can think of variables as boxes with labels on them. Even when you change the contents of a box, the label on the box itself remains the same. Similarly, when you change the value stored in a variable, the name of the variable remains the same. \n",
    "\n",
    "Security analysts working in Python will use a variety of variables. Some examples include variables for login attempts, allow lists, and addresses.\n",
    "\n",
    "### Working with variables\n",
    "\n",
    "In Python, it's important to know both how to assign variables and how to reassign them.\n",
    "\n",
    "#### Assigning and reassigning variables\n",
    "\n",
    "If you want to create a variable called username and assign it a value of \"nzhao\", place the variable to the left of the equals sign and its value to the right:"
   ]
  },
  {
   "cell_type": "code",
   "execution_count": 13,
   "metadata": {},
   "outputs": [],
   "source": [
    "# Assign 'username' \n",
    "username = \"nzhao\""
   ]
  },
  {
   "cell_type": "markdown",
   "metadata": {},
   "source": [
    "If you later reset this username to \"zhao2\", you still refer to that variable container as username. "
   ]
  },
  {
   "cell_type": "code",
   "execution_count": 14,
   "metadata": {},
   "outputs": [],
   "source": [
    "# Reassign 'username' \n",
    "username = \"zhao2\""
   ]
  },
  {
   "cell_type": "markdown",
   "metadata": {},
   "source": [
    "Although the contents have changed from \"nzhao\" to \"zhao2\", the variable username remains the same. \n",
    "\n",
    "Note: You must place \"nzhao\" and \"zhao2\" in quotation marks because they're strings. Python automatically assigns a variable its data type when it runs. For example, when the username variable contains the string \"nzhao\", it’s assigned a string data type."
   ]
  },
  {
   "cell_type": "markdown",
   "metadata": {},
   "source": [
    "#### Assigning variables to variables\n",
    "\n",
    "Using a similar process, you can also assign variables to other variables. In the following example, the variable username is assigned to a new variable old_username: "
   ]
  },
  {
   "cell_type": "code",
   "execution_count": 15,
   "metadata": {},
   "outputs": [],
   "source": [
    "# Assign a variable to another variable\n",
    "username = \"nzhao\"\n",
    "old_username = username"
   ]
  },
  {
   "cell_type": "markdown",
   "metadata": {},
   "source": [
    "Because username contains the string value of \"nzhao\" and old_username contains the value of username, old_username now contains a value of \"nzhao\"."
   ]
  },
  {
   "cell_type": "markdown",
   "metadata": {},
   "source": [
    "#### Putting it together\n",
    "\n",
    "The following code demonstrates how a username can be updated. The username variable is assigned an initial value, which is then stored in a second variable called old_username. After this, the username variable is reassigned a new value. You can run this code to get a message about the previous username and the current username:"
   ]
  },
  {
   "cell_type": "code",
   "execution_count": 16,
   "metadata": {},
   "outputs": [
    {
     "name": "stdout",
     "output_type": "stream",
     "text": [
      "Previous username: nzhao\n",
      "Current username: zhao2\n"
     ]
    }
   ],
   "source": [
    "username = \"nzhao\"\n",
    "old_username = username\n",
    "username = \"zhao2\"\n",
    "print(\"Previous username:\", old_username)\n",
    "print(\"Current username:\", username)"
   ]
  },
  {
   "cell_type": "markdown",
   "metadata": {},
   "source": [
    "### Best practices for naming variables \n",
    "\n",
    "You can name a variable almost anything you want, but there are a few guidelines you should follow to ensure correct syntax and prevent errors:\n",
    "\n",
    "- Use only letters, numbers, and underscores in variable names. Valid examples: date_3, username, interval2\n",
    "\n",
    "- Start a variable name with a letter or underscore. Do not start it with a number. Valid examples: time,  _login\n",
    "\n",
    "- Remember that variable names in Python are case-sensitive. These are all different variables: time, Time, TIME, timE.\n",
    "\n",
    "- Don't use Python’s built-in keywords or functions for variable names. For example, variables shouldn't be named True, False, or if.  \n",
    "\n",
    "Additionally, you should follow these stylistic guidelines to make your code easier for you and other security analysts to read and understand:\n",
    "\n",
    "- Separate two or more words with underscores. Valid examples: login_attempts, invalid_user, status_update\n",
    "\n",
    "- Avoid variables with similar names. These variables could be easily confused with one another: start_time, starting_time, time_starting.\n",
    "\n",
    "- Avoid unnecessarily long names for variables. For instance, don't give variables names like variable_that_equals_3.\n",
    "\n",
    "- Names should describe the data and not be random words. Valid examples: num_login_attempts, device_id, invalid_usernames\n",
    "\n",
    "Note: Using underscores to separate multiple words in variables is recommended, but another convention that you might encounter is capitalizing the first letter of each word except the first word. Example: loginAttempt\n",
    "\n",
    "## Key takeaways\n",
    "\n",
    "It's important for security analysts to have a fundamental understanding of variables. Variables are containers of data. They are assigned values and can also be reassigned other values or variables. It's helpful to remember the best practices for naming variables in order to create more functional, readable code. "
   ]
  }
 ],
 "metadata": {
  "kernelspec": {
   "display_name": "Python 3",
   "language": "python",
   "name": "python3"
  },
  "language_info": {
   "codemirror_mode": {
    "name": "ipython",
    "version": 3
   },
   "file_extension": ".py",
   "mimetype": "text/x-python",
   "name": "python",
   "nbconvert_exporter": "python",
   "pygments_lexer": "ipython3",
   "version": "3.11.0"
  }
 },
 "nbformat": 4,
 "nbformat_minor": 2
}
