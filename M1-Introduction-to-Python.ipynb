{
 "cells": [
  {
   "cell_type": "markdown",
   "metadata": {},
   "source": [
    "## Get to know Python\n",
    "\n",
    "In this reading, you will explore how programming works, how a computer processes the Python programming language, and how Python is used in cybersecurity.\n",
    "\n",
    "### How programming works \n",
    "\n",
    "Programming is a process that can be used to create a specific set of instructions for a computer to execute tasks. Computer programs exist everywhere. Computers, cell phones, and many other electronic devices are all given instructions by computer programs. \n",
    "\n",
    "There are multiple programming languages used to create computer programs. Python is one of these. Programming languages are converted to binary numbers, which are a series of 0s and 1s that represent the operations that the computer's central processing unit (CPU) should perform. Each instruction corresponds to a specific operation, such as adding two numbers or loading a value from memory. \n",
    "\n",
    "It would be very time-consuming for humans to communicate this way. Programming languages like Python make it easier to write code because you can use less syntax when instructing computers to perform complex processes.\n",
    "\n",
    "### Using Python to program\n",
    "\n",
    "Python is a general purpose programming language that can be used to solve a variety of problems. For example, it can be used to build websites, perform data analysis, and automate tasks. \n",
    "\n",
    "Python code must be converted through an interpreter before the computer can process it. An interpreter is a computer program that translates Python code into runnable instructions line by line. \n",
    "\n",
    "### Python versions\n",
    "\n",
    "There are multiple versions of Python. In this course, you are using Python 3. While using Python, it's important to keep track of the version you're using. There are differences in the syntax of each version. Syntax refers to the rules that determine what is correctly structured in a computing language.\n",
    "\n",
    "### Python in cybersecurity\n",
    "\n",
    "In cybersecurity, Python is used especially for automation. Automation is the use of technology to reduce human and manual effort to perform common and repetitive tasks. These are some specific areas of cybersecurity in which Python might be used to automate specific tasks:\n",
    "\n",
    "- Log analysis\n",
    "- Malware analysis\n",
    "- Access control list management\n",
    "- Intrusion detection\n",
    "- Compliance checks\n",
    "- Network scanning\n",
    "\n",
    "## Key takeaways\n",
    "\n",
    "Python is a programming language, or in other words, a language used to create instructions for a computer to complete tasks. Programming languages are converted to binary numbers that a machine can understand. It's important to be aware that there are multiple versions of Python, and they have differences in syntax. Python is especially useful in cybersecurity for automating repetitive tasks."
   ]
  }
 ],
 "metadata": {
  "language_info": {
   "name": "python"
  }
 },
 "nbformat": 4,
 "nbformat_minor": 2
}
