{
 "cells": [
  {
   "cell_type": "markdown",
   "metadata": {},
   "source": [
    "## Essential Python components for automation\n",
    "\n",
    "Throughout this course, you explored coding in Python. You've focused on variables, conditional statements, iterative statements, functions, and a variety of ways to work with strings and lists. In this reading, you will explore why these are all essential components when automating tasks through Python, and you'll be introduced to another necessary component: working with files. \n",
    "\n",
    "### Automating tasks in Python\n",
    "\n",
    "Automation is the use of technology to reduce human and manual effort to perform common and repetitive tasks. As a security analyst, you will primarily use Python to automate tasks.\n",
    "\n",
    "You have encountered multiple examples of how to use Python for automation in this course, including investigating logins, managing access, and updating devices.\n",
    "\n",
    "Automating cybersecurity-related tasks requires understanding the following Python components that you've worked with in this course:\n",
    "\n",
    "#### Variables\n",
    "\n",
    "A variable is a container that stores data. Variables are essential for automation. Without them, you would have to individually rewrite values for each action you took in Python.\n",
    "\n",
    "#### Conditional statements\n",
    "\n",
    "A conditional statement is a statement that evaluates code to determine if it meets a specified set of conditions. Conditional statements allow you to check for conditions before performing actions. This is much more efficient than manually evaluating whether to apply an action to each separate piece of data.\n",
    "\n",
    "#### Iterative statements\n",
    "\n",
    "An iterative statement is code that repeatedly executes a set of instructions. You explored two kinds of iterative statements: for loops and while loops. In both cases, they allow you to perform the same actions a certain number of times without the need to retype the same code each time. Using a for loop allows you to automate repetition of that code based on a sequence, and using a while loop allows you to automate the repetition based on a condition.\n",
    "\n",
    "#### Functions\n",
    "\n",
    "A function is a section of code that can be reused in a program. Functions help you automate your tasks by reducing the need to incorporate the same code multiple places in a program. Instead, you can define the function once and call it wherever you need it. \n",
    "\n",
    "You can develop your own functions based on your particular needs. You can also incorporate the built-in functions that exist directly in Python without needing to manually code them.\n",
    "\n",
    "#### Techniques for working with strings\n",
    "\n",
    "String data is one of the most common data types that you'll encounter when automating cybersecurity tasks through Python, and there are a lot of techniques that make working with strings efficient. You can use bracket notation to access characters in a string through their indices. You can also use a variety of functions and methods when working with strings, including str(), len(), and .index().\n",
    "\n",
    "#### Techniques for working with lists\n",
    "\n",
    "List data is another common data type. Like with strings, you can use bracket notation to access a list element through its index. Several methods also help you with automation when working with lists. These include .insert(), .remove(), .append(), and .index().\n",
    "\n",
    "#### Example: Counting logins made by a flagged user\n",
    "\n",
    "As one example, you may find that you need to investigate the logins of a specific user who has been flagged for unusual activity. Specifically, you are responsible for counting how many times this user has logged in for the day. If you are given a list identifying the username associated with each login attempt made that day, you can automate this investigation in Python.\n",
    "\n",
    "To automate the investigation, you'll need to incorporate the following Python components:\n",
    "\n",
    "- A for loop will allow you to iterate through all the usernames in the list. \n",
    "\n",
    "- Within the for loop, you should incorporate a conditional statement to examine whether each username in the list matches the username of the flagged user.\n",
    "\n",
    "- When the condition evaluates to True, you also need to increment a counter variable that keeps track of the number of times the flagged user appears in the list.\n",
    "\n",
    "Additionally, if you want to reuse this code multiple times, you can incorporate it into a function. The function can include parameters that accept the username of the flagged user and the list to iterate through. (The list would contain the usernames associated with all login attempts made that day.) The function can use the counter variable to return the number of logins for that flagged user.\n",
    "\n",
    "### Working with files in Python\n",
    "\n",
    "One additional component of automating cybersecurity-related tasks in Python is understanding how to work with files. Security-related data will often be initially found in log files. A log is a record of events that occur within an organization's systems. In logs, lines are often appended to the record as time progresses.\n",
    "\n",
    "Two common file formats for security logs are .txt files and .csv files. Both .txt and .csv files are types of text files, meaning they contain only plain text. They do not contain images and do not specify graphical properties of the text, including font, color, or spacing. In a .csv file, or a \"comma-separated values\" file, the values are separated by commas. In a .txt file, there is not a specific format for separating values, and they may be separated in a variety of ways, including spaces.\n",
    "\n",
    "You can easily extract data from .txt and .csv files. You can also convert both into other file formats.\n",
    "\n",
    "Coming up, you'll learn how to import, read from, and write to files. You will also explore how to structure the information contained in files.\n",
    "\n",
    "## Key takeaways\n",
    "\n",
    "It is important for security analysts to be able to automate tasks in Python. This requires knowledge of fundamental Python concepts, including variables, conditional statements, iterative statements, and techniques for working with strings and lists. In addition, the ability to work with files is also essential for automation in Python.\n"
   ]
  },
  {
   "cell_type": "markdown",
   "metadata": {},
   "source": [
    "## Import files into Python\n",
    "\n",
    "Previously, you explored how to open files in Python, convert them into strings, and read them. In this reading, you'll review the syntax needed for this. You'll also focus on why the ability to work with files is important for security analysts using Python, and you will learn about writing files.\n",
    "\n",
    "### Working with files in cybersecurity \n",
    "\n",
    "Security analysts may need to access a variety of files when working in Python. Many of these files will be logs. A log is a record of events that occur within an organization's systems.\n",
    "\n",
    "For instance, there may be a log containing information on login attempts. This might be used to identify unusual activity that signals attempts made by a malicious actor to access the system.\n",
    "\n",
    "As another example, malicious actors that have breached the system might be capable of attacking software applications. An analyst might need to access a log that contains information on software applications that are experiencing issues.\n",
    "\n",
    "### Opening files in Python\n",
    "\n",
    "To open a file called \"update_log.txt\" in Python for purposes of reading it, you can incorporate the following line of code:\n",
    "\n",
    "with open(\"update_log.txt\", \"r\") as file:\n",
    "\n",
    "This line consists of the with keyword, the open() function with its two parameters, and the as keyword followed by a variable name. You must place a colon (:) at the end of the line.\n",
    "\n",
    "#### with\n",
    "\n",
    "The keyword with handles errors and manages external resources when used with other functions. In this case, it's used with the open() function in order to open a file. It will then manage the resources by closing the file after exiting the with statement.\n",
    "\n",
    "Note: You can also use the open() function without the with keyword. However, you should close the file you opened to ensure proper handling of the file. \n",
    "\n",
    "#### open()\n",
    "\n",
    "The open() function opens a file in Python.\n",
    "\n",
    "The first parameter identifies the file you want to open. In the following file structure, \"update_log.txt\" is located in the same directory as the Python file that will access it, \"log_parser.ipynb\":\n",
    "\n",
    "![image](https://github.com/user-attachments/assets/c0e63006-5b25-4752-ade2-428ad4354892)\n",
    "\n",
    "In this file structure, update_log.txt is in the same directory as the log_parser.ipynb file, but access_log.txt is not.\n",
    "\n",
    "Because they're in the same directory, only the name of the file is required. The code can be written as with open(\"update_log.txt\", \"r\") as file:.\n",
    "\n",
    "However, \"access_log.txt\" is not in the same directory as the Python file \"log_parser.ipynb\". Therefore, it's necessary to specify its absolute file path. A file path is the location of a file or directory. An absolute file path starts from the highest-level directory, the root. In the following code, the first parameter of the open() function includes the absolute file path to \"access_log.txt\":\n",
    "\n",
    "with open(\"/home/analyst/logs/access_log.txt\", \"r\") as file:\n",
    "\n",
    "Note: In Python, the names of files or their file paths can be handled as string data, and like all string data, you must place them in quotation marks.\n",
    "\n",
    "The second parameter of the open() function indicates what you want to do with the file. In both of these examples, the second parameter is \"r\", which indicates that you want to read the file. Alternatively, you can use \"w\" if you want to write to a file or \"a\" if you want to append to a file.\n",
    "\n",
    "#### as\n",
    "\n",
    "When you open a file using with open(), you must provide a variable that can store the file while you are within the with statement. You can do this through the keyword as followed by this variable name. The keyword as assigns a variable that references another object. The code with open(\"update_log.txt\", \"r\") as file: assigns file to reference the output of the open() function within the indented code block that follows it.\n",
    "Reading files in Python\n",
    "\n",
    "After you use the code with open(\"update_log.txt\", \"r\") as file: to import \"update_log.txt\" into the file variable, you should indicate what to do with the file on the indented lines that follow it. For example, this code uses the .read() method to read the contents of the file:\n",
    "\n",
    "with open(\"update_log.txt\", \"r\") as file:\n",
    "\n",
    "    updates = file.read()\n",
    "\n",
    "print(updates)\n",
    "\n",
    "The .read() method converts files into strings. This is necessary in order to use and display the contents of the file that was read.\n",
    "\n",
    "In this example, the file variable is used to generate a string of the file contents through .read(). This string is then stored in another variable called updates. After this, print(updates) displays the string.\n",
    "\n",
    "Once the file is read into the updates string, you can perform the same operations on it that you might perform with any other string. For example, you could use the .index() method to return the index where a certain character or substring appears. Or, you could use len() to return the length of this string.\n",
    "\n",
    "### Writing files in Python\n",
    "\n",
    "Security analysts may also need to write to files. This could happen for a variety of reasons. For example, they might need to create a file containing the approved usernames on a new allow list. Or, they might need to edit existing files to add data or to adhere to policies for standardization.\n",
    "\n",
    "To write to a file, you will need to open the file with \"w\" or \"a\" as the second argument of open(). \n",
    "\n",
    "You should use the \"w\" argument when you want to replace the contents of an existing file. When working with the existing file update_log.txt, the code with open(\"update_log.txt\", \"w\") as file: opens it so that its contents can be replaced. \n",
    "\n",
    "Additionally, you can use the \"w\" argument to create a new file. For example, with open(\"update_log2.txt\", \"w\") as file: creates and opens a new file called \"update_log2.txt\". \n",
    "\n",
    "You should use the \"a\" argument if you want to append new information to the end of an existing file rather than writing over it. The code with open(\"update_log.txt\", \"a\") as file: opens \"update_log.txt\" so that new information can be appended to the end. Its existing information will not be deleted.\n",
    "\n",
    "Like when opening a file to read from it, you should indicate what to do with the file on the indented lines that follow when you open a file to write to it. With both \"w\" and \"a\", you can use the .write() method. The .write() method writes string data to a specified file. \n",
    "\n",
    "The following example uses the .write() method to append the content of the line variable to the file \"access_log.txt\".\n",
    "\n",
    "line = \"jrafael,192.168.243.140,4:56:27,True\"\n",
    "\n",
    "with open(\"access_log.txt\", \"a\") as file:\n",
    "\n",
    "    file.write(line)\n",
    "\n",
    "Note: Calling the .write() method without using the with keyword when importing the file might result in its arguments not being completely written to the file if the file is not properly closed in another way.\n",
    "\n",
    "## Key takeaways\n",
    "\n",
    "It's important for security analysts to be able to import files into Python and then read from or write to them. Importing Python files involves using the with keyword, the open() function, and the as keyword. Reading from and writing to files requires knowledge of the .read() and .write() methods and the arguments to the open() function of \"r\", \"w\", and \"a\". "
   ]
  },
  {
   "cell_type": "markdown",
   "metadata": {},
   "source": [
    "## Work with files in Python\n",
    "\n",
    "You previously explored how to open files in Python as well as how to read them and write to them. You also examined how to adjust the structure of file contents through the .split() method. In this reading, you'll review the .split() method, and you'll also learn an additional method that can help you work with file contents. \n",
    "\n",
    "### arsing\n",
    "\n",
    "Part of working with files involves structuring its contents to meet your needs. Parsing is the process of converting data into a more readable format. Data may need to become more readable in a couple of different ways. First, certain parts of your Python code may require modification into a specific format. By converting data into this format, you enable Python to process it in a specific way. Second, programmers need to read and interpret the results of their code, and parsing can also make the data more readable for them.\n",
    "\n",
    "Methods that can help you parse your data include .split() and .join().\n",
    "\n",
    "### .split()\n",
    "#### The basics of .split()\n",
    "\n",
    "The .split() method converts a string into a list. It separates the string based on a specified character that's passed into .split() as an argument. \n",
    "\n",
    "In the following example, the usernames in the approved_users string are separated by a comma. For this reason, a string containing the comma (\",\") is passed into .split() in order to parse it into a list. Run this code and analyze the different contents of approved_users before and after the .split() method is applied to it:"
   ]
  },
  {
   "cell_type": "code",
   "execution_count": 1,
   "metadata": {},
   "outputs": [
    {
     "name": "stdout",
     "output_type": "stream",
     "text": [
      "before .split(): elarson,bmoreno,tshah,sgilmore,eraab\n",
      "after .split(): ['elarson', 'bmoreno', 'tshah', 'sgilmore', 'eraab']\n"
     ]
    }
   ],
   "source": [
    "approved_users = \"elarson,bmoreno,tshah,sgilmore,eraab\"\n",
    "print(\"before .split():\", approved_users)\n",
    "approved_users = approved_users.split(\",\")\n",
    "print(\"after .split():\", approved_users)"
   ]
  },
  {
   "cell_type": "markdown",
   "metadata": {},
   "source": [
    "Before the .split() method is applied to approved_users, it contains a string, but after it is applied, this string is converted to a list.\n",
    "\n",
    "If you do not pass an argument into .split(), it will separate the string every time it encounters a whitespace.\n",
    "\n",
    "Note: A variety of characters are considered whitespaces by Python. These characters include spaces between characters, returns for new lines, and others.\n",
    "\n",
    "The following example demonstrates how a string of usernames that are separated by space can be split into a list through the .split() method:"
   ]
  },
  {
   "cell_type": "code",
   "execution_count": 2,
   "metadata": {},
   "outputs": [
    {
     "name": "stdout",
     "output_type": "stream",
     "text": [
      "before .split(): wjaffrey jsoto abernard jhill awilliam\n",
      "after .split(): ['wjaffrey', 'jsoto', 'abernard', 'jhill', 'awilliam']\n"
     ]
    }
   ],
   "source": [
    "removed_users = \"wjaffrey jsoto abernard jhill awilliam\"\n",
    "print(\"before .split():\", removed_users)\n",
    "removed_users = removed_users.split()\n",
    "print(\"after .split():\", removed_users)"
   ]
  },
  {
   "cell_type": "markdown",
   "metadata": {},
   "source": [
    "Because an argument isn't passed into .split(), Python splits the removed_users string at each space when separating it into a list.\n",
    "\n",
    "#### Applying .split() to files\n",
    "\n",
    "The .split() method allows you to work with file content as a list after you've converted it to a string through the .read() method. This is useful in a variety of ways. For example, if you want to iterate through the file contents in a for loop, this can be easily done when it's converted into a list.\n",
    "\n",
    "The following code opens the \"update_log.txt\" file. It then reads all of the file contents into the updates variable as a string and splits the string in the updates variable into a list by creating a new element at each whitespace:"
   ]
  },
  {
   "cell_type": "code",
   "execution_count": null,
   "metadata": {},
   "outputs": [],
   "source": [
    "with open(\"update_log.txt\", \"r\") as file:\n",
    "    updates = file.read()\n",
    "updates = updates.split()"
   ]
  },
  {
   "cell_type": "markdown",
   "metadata": {},
   "source": [
    "After this, through the updates variable, you can work with the contents of the \"update_log.txt\" file in parts of your code that require it to be structured as a list. \n",
    "\n",
    "Note: Because the line that contains .split() is not indented as part of the with statement, the file closes first. Closing a file as soon as it is no longer needed helps maintain code readability. Once a file is read into the updates variable, it is not needed and can be closed.\n",
    "\n",
    "### .join()\n",
    "#### The basics of .join()\n",
    "\n",
    "If you need to convert a list into a string, there is also a method for that. The .join() method concatenates the elements of an iterable into a string. The syntax used with .join() is distinct from the syntax used with .split() and other methods that you've worked with, such as .index(). \n",
    "\n",
    "In methods like .split() or .index(), you append the method to the string or list that you're working with and then pass in other arguments. For example, the code usernames.index(2), appends the .index() method to the variable usernames, which contains a list. It passes in 2 as the argument to indicate which element to return.\n",
    "\n",
    "However, with .join(), you must pass the list that you want to concatenate into a string in as an argument. You append .join() to a character that you want to separate each element with once they are joined into a string.\n",
    "\n",
    "For example, in the following code, the approved_users variable contains a list. If you want to join that list into a string and separate each element with a comma, you can use \",\".join(approved_users). Run the code and examine what it returns:"
   ]
  },
  {
   "cell_type": "code",
   "execution_count": 3,
   "metadata": {},
   "outputs": [
    {
     "name": "stdout",
     "output_type": "stream",
     "text": [
      "before .join(): ['elarson', 'bmoreno', 'tshah', 'sgilmore', 'eraab']\n",
      "after .join(): elarson,bmoreno,tshah,sgilmore,eraab\n"
     ]
    }
   ],
   "source": [
    "approved_users = [\"elarson\", \"bmoreno\", \"tshah\", \"sgilmore\", \"eraab\"]\n",
    "print(\"before .join():\", approved_users)\n",
    "approved_users = \",\".join(approved_users)\n",
    "print(\"after .join():\", approved_users)"
   ]
  },
  {
   "cell_type": "markdown",
   "metadata": {},
   "source": [
    "Before .join() is applied, approved_users is a list of five elements. After it is applied, it is a string with each username separated by a comma.\n",
    "\n",
    "Note: Another way to separate elements when using the .join() method is to use \"\\n\", which is the newline character. The \"\\n\" character indicates to separate the elements by placing them on new lines.\n",
    "\n",
    "#### Applying .join() to files\n",
    "\n",
    "When working with files, it may also be necessary to convert its contents back into a string. For example, you may want to use the .write() method. The .write() method writes string data to a file. This means that if you have converted a file's contents into a list while working with it, you'll need to convert it back into a string before using .write(). You can use the .join() method for this.\n",
    "\n",
    "You already examined how .split() could be applied to the contents of the \"update_log.txt\" file once it is converted into a string through .read() and stored as updates:"
   ]
  },
  {
   "cell_type": "code",
   "execution_count": null,
   "metadata": {},
   "outputs": [],
   "source": [
    "with open(\"update_log.txt\", \"r\") as file:\n",
    "    updates = file.read()\n",
    "updates = updates.split()"
   ]
  },
  {
   "cell_type": "markdown",
   "metadata": {},
   "source": [
    "After you're through performing operations using the list in the updates variable, you might want to replace \"update_log.txt\" with the new contents. To do so, you need to first convert updates back into a string using .join(). Then, you can open the file using a with statement and use the .write() method to write the updates string to the file:"
   ]
  },
  {
   "cell_type": "code",
   "execution_count": null,
   "metadata": {},
   "outputs": [],
   "source": [
    "updates = \" \".join(updates)\n",
    "with open(\"update_log.txt\", \"w\") as file:\n",
    "    file.write(updates)"
   ]
  },
  {
   "cell_type": "markdown",
   "metadata": {},
   "source": [
    "The code \" \".join(updates) indicates to separate each of the list elements in updates with a space once joined back into a string. And because \"w\" is specified as the second argument of open(), Python will overwrite the contents of \"update_log.txt\" with the string currently in the updates variable. \n",
    "\n",
    "## Key takeaways\n",
    "\n",
    "An important element of working with files is being able to parse the data it contains. Parsing means converting the data into a readable format. The .split() and .join() methods are both useful for parsing data. The .split() method allows you to convert a string into a list, and the .join() method allows you to convert a list into a string."
   ]
  },
  {
   "cell_type": "markdown",
   "metadata": {},
   "source": [
    "## Explore debugging techniques\n",
    "\n",
    "Previously, you examined three types of errors you may encounter while working in Python and explored strategies for debugging these errors. This reading further explores these concepts with additional strategies and examples for debugging Python code.\n",
    "\n",
    "### Types of errors \n",
    "\n",
    "It's a normal part of developing code in Python to get error messages or find that the code you're running isn't working as you intended. The important thing is that you can figure out how to fix errors when they occur. Understanding the three main types of errors can help. These types include syntax errors, logic errors, and exceptions.\n",
    "\n",
    "#### Syntax errors \n",
    "\n",
    "A syntax error is an error that involves invalid usage of a programming language. Syntax errors occur when there is a mistake with the Python syntax itself. Common examples of syntax errors include forgetting a punctuation mark, such as a closing bracket for a list or a colon after a function header.  \n",
    "\n",
    "When you run code with syntax errors, the output will identify the location of the error with the line number and a portion of the affected code. It also describes the error. Syntax errors often begin with the label  \"SyntaxError:\" . Then, this is followed by a  description of the error. The description might simply be \"invalid syntax\" . Or if you forget a closing parentheses on a function, the description might be \"unexpected EOF while parsing\". \"EOF\" stands for \"end of file.\"  \n",
    "\n",
    "The following code contains a syntax error. Run it and examine its output:"
   ]
  },
  {
   "cell_type": "code",
   "execution_count": 5,
   "metadata": {},
   "outputs": [
    {
     "ename": "SyntaxError",
     "evalue": "unterminated string literal (detected at line 1) (2621567672.py, line 1)",
     "output_type": "error",
     "traceback": [
      "\u001b[1;36m  Cell \u001b[1;32mIn[5], line 1\u001b[1;36m\u001b[0m\n\u001b[1;33m    message = \"You are debugging a syntax error\u001b[0m\n\u001b[1;37m              ^\u001b[0m\n\u001b[1;31mSyntaxError\u001b[0m\u001b[1;31m:\u001b[0m unterminated string literal (detected at line 1)\n"
     ]
    }
   ],
   "source": [
    "message = \"You are debugging a syntax error\n",
    "print(message)"
   ]
  },
  {
   "cell_type": "markdown",
   "metadata": {},
   "source": [
    "This outputs the message \"SyntaxError: EOL while scanning string literal\". \"EOL\" stands for \"end of line\". The error message also indicates that the error happens on the first line. The error occurred because a quotation mark was missing at the end of the string on the first line. You can fix it by adding that quotation mark.\n",
    "\n",
    "Note: You will sometimes encounter the error label \"IndentationError\" instead of \"SyntaxError\". \"IndentationError\" is a subclass of \"SyntaxError\" that occurs when the indentation used with a line of code is not syntactically correct. \n",
    "\n",
    "#### Logic errors \n",
    "\n",
    "A logic error is an error that results when the logic used in code produces unintended results.  Logic errors may not produce error messages. In other words, the code will not do what you expect it to do, but it is still valid to the interpreter. \n",
    "\n",
    "For example, using the wrong logical operator, such as a greater than or equal to sign (>=) instead of greater than sign (>) can result in a logic error.  Python will not evaluate a condition as you intended. However, the code is valid, so it will run without an error message. \n",
    "\n",
    "The following example outputs a message related to whether or not a user has reached a maximum number of five login attempts. The condition in the if statement should be login_attempts < 5, but it is written as login_attempts >= 5.  A value of 5 has been assigned to login_attempts so that you can explore what it outputs in that instance:"
   ]
  },
  {
   "cell_type": "code",
   "execution_count": 6,
   "metadata": {},
   "outputs": [
    {
     "name": "stdout",
     "output_type": "stream",
     "text": [
      "User has not reached maximum number of login attempts.\n"
     ]
    }
   ],
   "source": [
    "login_attempts = 5\n",
    "if login_attempts >= 5:\n",
    "    print(\"User has not reached maximum number of login attempts.\")\n",
    "else:\n",
    "    print(\"User has reached maximum number of login attempts.\")"
   ]
  },
  {
   "cell_type": "markdown",
   "metadata": {},
   "source": [
    "The output displays the message \"User has not reached maximum number of login attempts.\" However, this is not true since the maximum number of login attempts is five. This is a logic error.\n",
    "\n",
    "Logic errors can also result when you assign the wrong value in a condition or when a mistake with indentation means that a line of code executes in a way that was not planned.\n",
    "\n",
    "#### Exceptions\n",
    "\n",
    "An exception is an error that involves code that cannot be executed even though it is syntactically correct. This happens for a variety of reasons.\n",
    "\n",
    "One common cause of an exception is when the code includes a variable that hasn't been assigned or a function that hasn't been defined. In this case, your output will include \"NameError\" to indicate that this is a name error. After you run the following code, use the error message to determine which variable was not assigned:"
   ]
  },
  {
   "cell_type": "code",
   "execution_count": 7,
   "metadata": {},
   "outputs": [
    {
     "name": "stdout",
     "output_type": "stream",
     "text": [
      "Login report for elarson in March\n",
      "Total logins: 75\n",
      "Failed logins: 18\n"
     ]
    },
    {
     "ename": "NameError",
     "evalue": "name 'unusual_logins' is not defined",
     "output_type": "error",
     "traceback": [
      "\u001b[1;31m---------------------------------------------------------------------------\u001b[0m",
      "\u001b[1;31mNameError\u001b[0m                                 Traceback (most recent call last)",
      "Cell \u001b[1;32mIn[7], line 8\u001b[0m\n\u001b[0;32m      6\u001b[0m \u001b[38;5;28mprint\u001b[39m(\u001b[38;5;124m\"\u001b[39m\u001b[38;5;124mTotal logins:\u001b[39m\u001b[38;5;124m\"\u001b[39m, total_logins)\n\u001b[0;32m      7\u001b[0m \u001b[38;5;28mprint\u001b[39m(\u001b[38;5;124m\"\u001b[39m\u001b[38;5;124mFailed logins:\u001b[39m\u001b[38;5;124m\"\u001b[39m, failed_logins)\n\u001b[1;32m----> 8\u001b[0m \u001b[38;5;28mprint\u001b[39m(\u001b[38;5;124m\"\u001b[39m\u001b[38;5;124mUnusual logins:\u001b[39m\u001b[38;5;124m\"\u001b[39m, \u001b[43munusual_logins\u001b[49m)\n",
      "\u001b[1;31mNameError\u001b[0m: name 'unusual_logins' is not defined"
     ]
    }
   ],
   "source": [
    "username = \"elarson\"\n",
    "month = \"March\"\n",
    "total_logins = 75\n",
    "failed_logins = 18\n",
    "print(\"Login report for\", username, \"in\", month)\n",
    "print(\"Total logins:\", total_logins)\n",
    "print(\"Failed logins:\", failed_logins)\n",
    "print(\"Unusual logins:\", unusual_logins)"
   ]
  },
  {
   "cell_type": "markdown",
   "metadata": {},
   "source": [
    "The output indicates there is a \"NameError\" involving the unusual_logins variable. You can fix this by assigning this variable a value.\n",
    "\n",
    "In addition to name errors, the following messages are output for other types of exceptions:\n",
    "\n",
    "- \"IndexError\": An index error occurs when you place an index in bracket notation that does not exist in the sequence being referenced. For example, in the list usernames = [\"bmoreno\", \"tshah\", \"elarson\"], the indices are 0, 1, and 2. If you referenced this list with the statement print(usernames[3]), this would result in an index error.\n",
    "\n",
    "- \"TypeError\": A type error results from using the wrong data type. For example, if you tried to perform a mathematical calculation by adding a string value to an integer, you would get a type error.\n",
    "\n",
    "- \"FileNotFound\": A file not found error occurs when you try to open a file that does not exist in the specified location.\n",
    "\n",
    "### Debugging strategies  \n",
    "\n",
    "Keep in mind that if you have multiple errors, the Python interpreter will output error messages one at a time, starting with the first error it encounters. After you fix that error and run the code again, the interpreter will output another message for the next syntax error or exception it encounters.\n",
    "\n",
    "When dealing with syntax errors, the error messages you receive in the output will generally help you fix the error. However, with logic errors and exceptions, additional strategies may be needed.\n",
    "\n",
    "#### Debuggers \n",
    "\n",
    "In this course, you have been running code in a notebook environment. However, you may write Python code in an Integrated Development Environment (IDE). An Integrated Development Environment (IDE) is a software application for writing code that provides editing assistance and error correction tools. Many IDEs offer error detection tools in the form of a debugger. A debugger is a software tool that helps to locate the source of an error and assess its causes.\n",
    "\n",
    "In cases when you can't find the line of code that is causing the issue, debuggers help you narrow down the source of the error in your program. They do this by working with  breakpoints. Breakpoints are markers placed on certain lines of executable code that indicate which sections of code should run when debugging.\n",
    "\n",
    "Some debuggers also have a feature that allows you to check the values stored in variables as they change throughout your code. This is especially helpful for logic errors so that you can locate where variable values have unintentionally changed. \n",
    "\n",
    "#### Use print statements \n",
    "\n",
    "Another debugging strategy is to incorporate temporary print statements that are designed to identify the source of the error. You should strategically incorporate these print statements to print at various locations in the code. You can specify line numbers as well as descriptive text about the location. \n",
    "\n",
    "For example, you may have code that is intended to add new users to an approved list and then display the approved list. The code should not add users that are already on the approved list. If you analyze the output of this code after you run it, you will realize that there is a logic error:"
   ]
  },
  {
   "cell_type": "code",
   "execution_count": 8,
   "metadata": {},
   "outputs": [
    {
     "name": "stdout",
     "output_type": "stream",
     "text": [
      "bmoreno already in list\n",
      "['bmoreno', 'tshah', 'elarson', 'sgilmore', 'bmoreno']\n"
     ]
    }
   ],
   "source": [
    "new_users = [\"sgilmore\", \"bmoreno\"]\n",
    "approved_users = [\"bmoreno\", \"tshah\", \"elarson\"]\n",
    "def add_users():\n",
    "    for user in new_users:\n",
    "        if user in approved_users:\n",
    "            print(user,\"already in list\")\n",
    "        approved_users.append(user)\n",
    "add_users()\n",
    "print(approved_users)"
   ]
  },
  {
   "cell_type": "markdown",
   "metadata": {},
   "source": [
    "Even though you get the message \"bmoreno already in list\", a second instance of \"bmoreno\" is added to the list. In the following code, print statements have been added to the code. When you run it, you can examine what prints:"
   ]
  },
  {
   "cell_type": "code",
   "execution_count": 9,
   "metadata": {},
   "outputs": [
    {
     "name": "stdout",
     "output_type": "stream",
     "text": [
      "line 5 - inside for loop\n",
      "line 9 - before .append method\n",
      "line 5 - inside for loop\n",
      "line 7 - inside if statement\n",
      "bmoreno already in list\n",
      "line 9 - before .append method\n",
      "['bmoreno', 'tshah', 'elarson', 'sgilmore', 'bmoreno']\n"
     ]
    }
   ],
   "source": [
    "new_users = [\"sgilmore\", \"bmoreno\"]\n",
    "approved_users = [\"bmoreno\", \"tshah\", \"elarson\"]\n",
    "def add_users():\n",
    "    for user in new_users:\n",
    "        print(\"line 5 - inside for loop\")\n",
    "        if user in approved_users:\n",
    "            print(\"line 7 - inside if statement\")\n",
    "            print(user,\"already in list\")\n",
    "        print(\"line 9 - before .append method\")\n",
    "        approved_users.append(user)\n",
    "add_users()\n",
    "print(approved_users)"
   ]
  },
  {
   "cell_type": "markdown",
   "metadata": {},
   "source": [
    "The print statement \"line 5 - inside for loop\" outputs twice, indicating that Python has entered the for loop for each username in new_users. This is as expected. Additionally, the print statement \"line 7 - inside if statement\" only outputs once, and this is also as expected because only one of these usernames was already in approved_users.\n",
    "\n",
    "However, the print statement \"line 9 - before .append method\" outputs twice. This means the code calls the .append() method for both usernames even though one is already in approved_users. This helps isolate the logic error to this area. This can help you realize that the line of code approved_users.append(user) should be the body of an else statement so that it only executes when user is not in approved_users.\n",
    "\n",
    "## Key takeaways\n",
    "\n",
    "There are three main types of errors you'll encounter while coding in Python. Syntax errors involve invalid usage of the programming language. Logic errors occur when the logic produced in the code produces unintended results. Exceptions involve code that cannot be executed even though it is syntactically correct. You will receive error messages for syntax errors and exceptions that can help you fix these mistakes. Additionally, using debuggers and inserting print statements can help you identify logic errors and further debug exceptions. \n",
    "\n"
   ]
  }
 ],
 "metadata": {
  "kernelspec": {
   "display_name": "Python 3",
   "language": "python",
   "name": "python3"
  },
  "language_info": {
   "codemirror_mode": {
    "name": "ipython",
    "version": 3
   },
   "file_extension": ".py",
   "mimetype": "text/x-python",
   "name": "python",
   "nbconvert_exporter": "python",
   "pygments_lexer": "ipython3",
   "version": "3.11.0"
  }
 },
 "nbformat": 4,
 "nbformat_minor": 2
}
