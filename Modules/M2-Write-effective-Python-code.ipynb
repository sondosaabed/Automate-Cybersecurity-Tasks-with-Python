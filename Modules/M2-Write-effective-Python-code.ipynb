{
 "cells": [
  {
   "cell_type": "markdown",
   "metadata": {},
   "source": [
    "## Python functions in cybersecurity\n",
    "\n",
    "Previously, you explored how to define and call your own functions. In this reading, you’ll revisit what you learned about functions and examine how functions can improve efficiency in a cybersecurity setting.\n",
    "\n",
    "### Functions in cybersecurity\n",
    "\n",
    "A function is a section of code that can be reused in a program. Functions are important in Python because they allow you to automate repetitive parts of your code. In cybersecurity, you will likely adopt some processes that you will often repeat.\n",
    "\n",
    "When working with security logs, you will often encounter tasks that need to be repeated. For example, if you were responsible for finding malicious login activity based on failed login attempts, you might have to repeat the process for multiple logs.\n",
    "\n",
    "To work around that, you could define a function that takes a log as its input and returns all potentially malicious logins. It would be easy to apply this function to different logs.\n",
    "\n",
    "### Defining a function\n",
    "\n",
    "In Python, you'll work with built-in functions and user-defined functions. Built-in functions are functions that exist within Python and can be called directly. The print() function is an example of a built-in function.\n",
    "\n",
    "User-defined functions are functions that programmers design for their specific needs. To define a function, you need to include a function header and the body of your function.\n",
    "\n",
    "#### Function header\n",
    "\n",
    "The function header is what tells Python that you are starting to define a function. For example, if you want to define a function that displays an \"investigate activity\" message, you can include this function header:\n",
    "\n",
    "def display_investigation_message():\n",
    "\n",
    "The def keyword is placed before a function name to define a function. In this case, the name of that function is display_investigation_message. \n",
    "\n",
    "The parentheses that follow the name of the function and the colon (:) at the end of the function header are also essential parts of the syntax.\n",
    "\n",
    "Pro tip: When naming a function, give it a name that indicates what it does. This will make it easier to remember when calling it later.\n",
    "\n",
    "#### Function body\n",
    "\n",
    "The body of the function is an indented block of code after the function header that defines what the function does. The indentation is very important when writing a function because it separates the definition of a function from the rest of the code.\n",
    "\n",
    "To add a body to your definition of the display_investigation_message() function, add an indented line with the print() function. Your function definition becomes the following:"
   ]
  },
  {
   "cell_type": "code",
   "execution_count": 1,
   "metadata": {},
   "outputs": [],
   "source": [
    "def display_investigation_message():\n",
    "    print(\"investigate activity\")"
   ]
  },
  {
   "cell_type": "markdown",
   "metadata": {},
   "source": [
    "#### Calling a function\n",
    "\n",
    "After defining a function, you can use it as many times as needed in your code. Using a function after defining it is referred to as calling a function. To call a function, write its name followed by parentheses. So, for the function you previously defined, you can use the following code to call it:\n",
    "\n",
    "display_investigation_message()\n",
    "\n",
    "Although you'll use functions in more complex ways as you expand your understanding, the following code provides an introduction to how the display_investigation_message() function might be part of a larger section of code. You can run it and analyze its output:"
   ]
  },
  {
   "cell_type": "code",
   "execution_count": 2,
   "metadata": {},
   "outputs": [
    {
     "name": "stdout",
     "output_type": "stream",
     "text": [
      "application_log:\n",
      "investigate activity\n"
     ]
    }
   ],
   "source": [
    "def display_investigation_message():\n",
    "    print(\"investigate activity\")\n",
    "\n",
    "application_status = \"potential concern\"\n",
    "email_status = \"okay\"\n",
    "\n",
    "if application_status == \"potential concern\":\n",
    "    print(\"application_log:\")\n",
    "    display_investigation_message()\n",
    "if email_status == \"potential concern\":\n",
    "    print(\"email log:\")\n",
    "    display_investigation_message()"
   ]
  },
  {
   "cell_type": "markdown",
   "metadata": {},
   "source": [
    "The display_investigation_message() function is used twice within the code. It will print \"investigate activity\" messages about two different logs when the specified conditions evaluate to True. In this example, only the first conditional statement evaluates to True, so the message prints once.\n",
    "\n",
    "This code calls the function from within conditionals, but you might call a function from a variety of locations within the code.\n",
    "\n",
    "Note: Calling a function inside of the body of its function definition can create an infinite loop. This happens when it is not combined with logic that stops the function call when certain conditions are met. For example, in the following function definition, after you first call func1(), it will continue to call itself and create an infinite loop: "
   ]
  },
  {
   "cell_type": "code",
   "execution_count": 3,
   "metadata": {},
   "outputs": [],
   "source": [
    "def func1():\n",
    "    func1()"
   ]
  },
  {
   "cell_type": "markdown",
   "metadata": {},
   "source": [
    "## Key takeaways\n",
    "\n",
    "Python’s functions are important when writing code. To define your own functions, you need the two essential components of the function header and the function body. After defining a function, you can call it when needed."
   ]
  },
  {
   "cell_type": "markdown",
   "metadata": {},
   "source": [
    "## Functions and variables\n",
    "\n",
    "Previously, you focused on working with multiple parameters and arguments in functions and returning information from functions. In this reading, you’ll review these concepts. You'll also be introduced to a new concept: global and local variables.\n",
    "\n",
    "### Working with variables in functions\n",
    "\n",
    "Working with variables in functions requires an understanding of both parameters and arguments. The terms parameters and arguments have distinct uses when referring to variables in a function. Additionally, if you want the function to return output, you should be familiar with return statements.\n",
    "\n",
    "#### Parameters\n",
    "\n",
    "A parameter is an object that is included in a function definition for use in that function. When you define a function, you create variables in the function header. They can then be used in the body of the function. In this context, these variables are called parameters.  For example, consider the following function:"
   ]
  },
  {
   "cell_type": "code",
   "execution_count": 1,
   "metadata": {},
   "outputs": [],
   "source": [
    "def remaining_login_attempts(maximum_attempts, total_attempts):\n",
    "    print(maximum_attempts - total_attempts)"
   ]
  },
  {
   "cell_type": "markdown",
   "metadata": {},
   "source": [
    "This function takes in two variables, maximum_attempts and total_attempts and uses them to perform a calculation. In this example, maximum_attempts and total_attempts are parameters.\n",
    "\n",
    "#### Arguments\n",
    "\n",
    "In Python, an argument is the data brought into a function when it is called. When calling remaining_login_attempts in the following example, the integers 3 and 2 are considered arguments:\n",
    "\n",
    "remaining_login_attempts(3, 2)\n",
    "\n",
    "These integers pass into the function through the parameters that were identified when defining the function. In this case, those parameters would be maximum_attempts and total_attempts. 3 is in the first position, so it passes into maximum_attempts. Similarly, 2 is in the second position and passes into total_attempts\n",
    "\n",
    "#### Return statements\n",
    "\n",
    "When defining functions in Python, you use return statements if you want the function to return output. The return keyword is used to return information from a function.\n",
    "\n",
    "The return keyword appears in front of the information that you want to return. In the following example, it is before the calculation of how many login attempts remain:"
   ]
  },
  {
   "cell_type": "code",
   "execution_count": 2,
   "metadata": {},
   "outputs": [],
   "source": [
    "def remaining_login_attempts(maximum_attempts, total_attempts):\n",
    "    return maximum_attempts - total_attempts"
   ]
  },
  {
   "cell_type": "markdown",
   "metadata": {},
   "source": [
    "Note: The return keyword is not a function, so you should not place parentheses after it.\n",
    "\n",
    "Return statements are useful when you want to store what a function returns inside of a variable to use elsewhere in the code. For example, you might use this variable for calculations or within conditional statements. In the following example, the information returned from the call to remaining_login_attempts is stored in a variable called remaining_attempts. Then, this variable is used in a conditional that prints a \"Your account is locked\" message when remaining_attempts is less than or equal to 0. You can run this code to explore its output:"
   ]
  },
  {
   "cell_type": "code",
   "execution_count": 3,
   "metadata": {},
   "outputs": [
    {
     "name": "stdout",
     "output_type": "stream",
     "text": [
      "Your account is locked\n"
     ]
    }
   ],
   "source": [
    "def remaining_login_attempts(maximum_attempts, total_attempts):\n",
    "    return maximum_attempts - total_attempts\n",
    "\n",
    "remaining_attempts = remaining_login_attempts(3, 3)\n",
    "if remaining_attempts <= 0:\n",
    "    print(\"Your account is locked\")"
   ]
  },
  {
   "cell_type": "markdown",
   "metadata": {},
   "source": [
    "In this example, the message prints because the calculation in the function results in 0.\n",
    "\n",
    "Note: When Python encounters a return statement, it executes this statement and then exits the function. If there are lines of code that follow the return statement within the function, they will not be run. The previous example didn't contain any lines of code after the return statement, but this might apply in other functions, such as one containing a conditional statement."
   ]
  },
  {
   "cell_type": "markdown",
   "metadata": {},
   "source": [
    "### Global and local variables\n",
    "\n",
    "To better understand how functions interact with variables, you should know the difference between global and local variables. \n",
    "\n",
    "When defining and calling functions, you're working with local variables, which are different from the variables you define outside the scope of a function.\n",
    "\n",
    "#### Global variables\n",
    "\n",
    "A global variable is a variable that is available through the entire program. Global variables are assigned outside of a function definition. Whenever that variable is called, whether inside or outside a function, it will return the value it is assigned.\n",
    "\n",
    "For example, you might assign the following variable at the beginning of your code:"
   ]
  },
  {
   "cell_type": "code",
   "execution_count": 4,
   "metadata": {},
   "outputs": [],
   "source": [
    "device_id = \"7ad2130bd\""
   ]
  },
  {
   "cell_type": "markdown",
   "metadata": {},
   "source": [
    "#### Local variables\n",
    "\n",
    "A local variable is a variable assigned within a function. These variables cannot be called or accessed outside of the body of a function. Local variables include parameters as well as other variables assigned within a function definition.\n",
    "\n",
    "In the following function definition, total_string and name are local variables:"
   ]
  },
  {
   "cell_type": "code",
   "execution_count": 5,
   "metadata": {},
   "outputs": [],
   "source": [
    "def greet_employee(name):\n",
    "\n",
    "    total_string = \"Welcome\" + name\n",
    "\n",
    "    return total_string"
   ]
  },
  {
   "cell_type": "markdown",
   "metadata": {},
   "source": [
    "The variable total_string is a local variable because it's assigned inside of the function. The parameter name is a local variable because it is also created when the function is defined. \n",
    "\n",
    "Whenever you call a function, Python creates these variables temporarily while the function is running and deletes them from memory after the function stops running.\n",
    "\n",
    "This means that if you call the greet_employee() function with an argument and then use the total_string variable outside of this function, you'll get an error.\n",
    "\n",
    "#### Best practices for global and local variables\n",
    "\n",
    "When working with variables and functions, it is very important to make sure that you only use a certain variable name once, even if one is defined globally and the other is defined locally. \n",
    "\n",
    "When using global variables inside functions, functions can access the values of a global variable. You can run the following example to explore this:"
   ]
  },
  {
   "cell_type": "code",
   "execution_count": 6,
   "metadata": {},
   "outputs": [
    {
     "name": "stdout",
     "output_type": "stream",
     "text": [
      "elarson\n"
     ]
    }
   ],
   "source": [
    "username = \"elarson\"\n",
    "\n",
    "def identify_user():\n",
    "    print(username)\n",
    "    \n",
    "identify_user()"
   ]
  },
  {
   "cell_type": "markdown",
   "metadata": {},
   "source": [
    "The code block returns \"elarson\" even though that name isn't defined locally. The function accesses the global variable. If you wanted the identify_user() function to accommodate other usernames, you would have to reassign the global username variable outside of the function. This isn't good practice. A better way to pass different values into a function is to use a parameter instead of a global variable.\n",
    "\n",
    "There's something else to consider too. If you reuse the name of a global variable within a function, it will create a new local variable with that name. In other words, there will be both a global variable with that name and a local variable with that name, and they'll have different values. You can consider the following code block:"
   ]
  },
  {
   "cell_type": "code",
   "execution_count": 7,
   "metadata": {},
   "outputs": [
    {
     "name": "stdout",
     "output_type": "stream",
     "text": [
      "1:elarson\n",
      "2:bmoreno\n",
      "3:elarson\n"
     ]
    }
   ],
   "source": [
    "username = \"elarson\"\n",
    "print(\"1:\" + username)\n",
    "def greet():\n",
    "    username = \"bmoreno\"\n",
    "    print(\"2:\" + username)\n",
    "greet()\n",
    "print(\"3:\" + username)"
   ]
  },
  {
   "cell_type": "markdown",
   "metadata": {},
   "source": [
    "The first print statement occurs before the function, and Python returns the value of the global username variable, \"elarson\". The second print statement is within the function, and it returns the value of the local username variable, which is \"bmoreno\". But this doesn't change the value of the global variable, and when username is printed a third time after the function call, it's still \"elarson\".\n",
    "\n",
    "Due to this complexity, it's best to avoid combining global and local variables within functions. \n",
    "\n",
    "## Key takeaways\n",
    "\n",
    "Working with variables in functions requires understanding various concepts. A parameter is an object that is included in a function definition for use in that function, an argument is the data brought into a function when it is called, and the return keyword is used to return information from a function. Additionally, global variables are variables accessible throughout the program, and local variables are parameters and variables assigned within a function that aren't usable outside of a function. It's important to make sure your variables all have distinct names, even if one is a local variable and the other is a global variable."
   ]
  }
 ],
 "metadata": {
  "kernelspec": {
   "display_name": "Python 3",
   "language": "python",
   "name": "python3"
  },
  "language_info": {
   "codemirror_mode": {
    "name": "ipython",
    "version": 3
   },
   "file_extension": ".py",
   "mimetype": "text/x-python",
   "name": "python",
   "nbconvert_exporter": "python",
   "pygments_lexer": "ipython3",
   "version": "3.11.0"
  }
 },
 "nbformat": 4,
 "nbformat_minor": 2
}
