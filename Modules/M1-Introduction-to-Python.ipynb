{
 "cells": [
  {
   "cell_type": "markdown",
   "metadata": {},
   "source": [
    "## Get to know Python\n",
    "\n",
    "In this reading, you will explore how programming works, how a computer processes the Python programming language, and how Python is used in cybersecurity.\n",
    "\n",
    "### How programming works \n",
    "\n",
    "Programming is a process that can be used to create a specific set of instructions for a computer to execute tasks. Computer programs exist everywhere. Computers, cell phones, and many other electronic devices are all given instructions by computer programs. \n",
    "\n",
    "There are multiple programming languages used to create computer programs. Python is one of these. Programming languages are converted to binary numbers, which are a series of 0s and 1s that represent the operations that the computer's central processing unit (CPU) should perform. Each instruction corresponds to a specific operation, such as adding two numbers or loading a value from memory. \n",
    "\n",
    "It would be very time-consuming for humans to communicate this way. Programming languages like Python make it easier to write code because you can use less syntax when instructing computers to perform complex processes.\n",
    "\n",
    "### Using Python to program\n",
    "\n",
    "Python is a general purpose programming language that can be used to solve a variety of problems. For example, it can be used to build websites, perform data analysis, and automate tasks. \n",
    "\n",
    "Python code must be converted through an interpreter before the computer can process it. An interpreter is a computer program that translates Python code into runnable instructions line by line. \n",
    "\n",
    "### Python versions\n",
    "\n",
    "There are multiple versions of Python. In this course, you are using Python 3. While using Python, it's important to keep track of the version you're using. There are differences in the syntax of each version. Syntax refers to the rules that determine what is correctly structured in a computing language.\n",
    "\n",
    "### Python in cybersecurity\n",
    "\n",
    "In cybersecurity, Python is used especially for automation. Automation is the use of technology to reduce human and manual effort to perform common and repetitive tasks. These are some specific areas of cybersecurity in which Python might be used to automate specific tasks:\n",
    "\n",
    "- Log analysis\n",
    "- Malware analysis\n",
    "- Access control list management\n",
    "- Intrusion detection\n",
    "- Compliance checks\n",
    "- Network scanning\n",
    "\n",
    "## Key takeaways\n",
    "\n",
    "Python is a programming language, or in other words, a language used to create instructions for a computer to complete tasks. Programming languages are converted to binary numbers that a machine can understand. It's important to be aware that there are multiple versions of Python, and they have differences in syntax. Python is especially useful in cybersecurity for automating repetitive tasks."
   ]
  },
  {
   "cell_type": "markdown",
   "metadata": {},
   "source": [
    "## Python environments\n",
    "\n",
    "You can run Python through a variety of environments. These environments include notebooks, integrated development environments (IDEs), and the command line. This reading will introduce you to these environments. It will focus primarily on notebooks because this is how you'll interact with Python in this course.\n",
    "\n",
    "### Notebooks\n",
    "\n",
    "One way to write Python code is through a notebook. In this course, you'll interact with Python through notebooks. A notebook is an online interface for writing, storing, and running code. They also allow you to document information about the code. Notebook content either appears in a code cell or markdown cell.\n",
    "\n",
    "#### Code cells\n",
    "\n",
    "Code cells are meant for writing and running code. A notebook provides a mechanism for running these code cells. Often, this is a play button located within the cell. When you run the code, its output appears after the code. \n",
    "\n",
    "#### Markdown cells\n",
    "\n",
    "Markdown cells are meant for describing the code. They allow you to format text in the markdown language. Markdown language is used for formatting plain text in text editors and code editors. For example, you might indicate that text should be in a certain header style. \n",
    "\n",
    "#### Common notebook environments\n",
    "\n",
    "Two common notebook environments are Jupyter Notebook and Google Colaboratory (or Google Colab). They allow you to run several programming languages, including Python. \n",
    "\n",
    "### Integrated development environments (IDEs)\n",
    "\n",
    "Another option for writing Python code is through an integrated development environment (IDE), or a software application for writing code that provides editing assistance and error correction tools. Integrated development environments include a graphical user interface (GUI) that provides programmers with a variety of options to customize and build their programs. \n",
    "\n",
    "### Command line\n",
    "\n",
    "The command line is another environment that allows you to run Python programs. Previously, you learned that a command-line interface (CLI) is a text-based user interface that uses commands to interact with the computer. By entering commands into the command line, you can access all files and directories saved on your hard drive, including files containing Python code you want to run. You can also use the command line to open a file editor and create a new Python file.\n",
    "\n",
    "## Key takeaways\n",
    "\n",
    "Security analysts can access Python through a variety of environments, including notebooks, integrated development environments, and the command line. In this course, you'll use notebooks, which are online interfaces for interacting with code. Notebooks contain code cells for writing and running code as well as markdown cells for plain text descriptions."
   ]
  },
  {
   "cell_type": "markdown",
   "metadata": {},
   "source": [
    "## More about data types\n",
    "\n",
    "Previously, you explored data types in Python. A data type is a category for a particular type of data item. You focused on string, list, float, integer, and Boolean data. These are the data types you'll work with in this course. This reading will expand on these data types. It will also introduce three additional types.\n",
    "\n",
    "### String\n",
    "\n",
    "In Python, string data is data consisting of an ordered sequence of characters. Characters in a string may include letters, numbers, symbols, and spaces. These characters must be placed within quotation marks. These are all valid strings:\n",
    "\n",
    "- \"updates needed\"\n",
    "- \"20%\"\n",
    "- \"5.0\"\n",
    "- \"35\"\n",
    "- \"**/**/**\" \n",
    "- \"\"\n",
    "\n",
    "Note: The last item (\"\"), which doesn't contain anything within the quotation marks, is called an empty string.\n",
    "\n",
    "You can use the print() function to display a string. You can explore this by running this code: "
   ]
  },
  {
   "cell_type": "code",
   "execution_count": 1,
   "metadata": {},
   "outputs": [
    {
     "name": "stdout",
     "output_type": "stream",
     "text": [
      "updates needed\n"
     ]
    }
   ],
   "source": [
    "print(\"updates needed\")"
   ]
  },
  {
   "cell_type": "markdown",
   "metadata": {},
   "source": [
    "The code prints \"updates needed\". \n",
    "\n",
    "You can place strings in either double quotation marks (\"\") or single quotation marks (''). The following code demonstrates that the same message prints when the string is in single quotation marks:"
   ]
  },
  {
   "cell_type": "code",
   "execution_count": 2,
   "metadata": {},
   "outputs": [
    {
     "name": "stdout",
     "output_type": "stream",
     "text": [
      "updates needed\n"
     ]
    }
   ],
   "source": [
    "print('updates needed') "
   ]
  },
  {
   "cell_type": "markdown",
   "metadata": {},
   "source": [
    "Note: Choosing one type of quotation marks and using it consistently makes it easier to read your code. This course uses double quotation marks."
   ]
  },
  {
   "cell_type": "markdown",
   "metadata": {},
   "source": [
    "### List\n",
    "\n",
    "In Python, list data is a data structure that consists of a collection of data in sequential form. Lists elements can be of any data type, such as strings, integers, Booleans, or even other lists. The elements of a list are placed within square brackets, and each element is separated by a comma. The following lists contains elements of various data types:\n",
    "\n",
    "- [12, 36, 54, 1, 7]\n",
    "- [\"eraab\", \"arusso\", \"drosas\"]\n",
    "- [True, False, True, True]\n",
    "- [15, \"approved\", True, 45.5, False]\n",
    "- []\n",
    "\n",
    "Note: The last item [], which doesn't contain anything within the brackets, is called an empty list.\n",
    "\n",
    "You can also use the print() function to display a list:"
   ]
  },
  {
   "cell_type": "code",
   "execution_count": 3,
   "metadata": {},
   "outputs": [
    {
     "name": "stdout",
     "output_type": "stream",
     "text": [
      "[12, 36, 54, 1, 7]\n"
     ]
    }
   ],
   "source": [
    "print([12, 36, 54, 1, 7])"
   ]
  },
  {
   "cell_type": "markdown",
   "metadata": {},
   "source": [
    "This displays a list containing the integers 12, 36, 54, 1, and 7.\n",
    "Integer\n",
    "\n",
    "In Python, integer data is data consisting of a number that does not include a decimal point. These are all examples of integer data:\n",
    "\n",
    "- -100 \n",
    "- -12\n",
    "- -1\n",
    "- 0\n",
    "- 1\n",
    "- 20\n",
    "- 500 \n",
    "\n",
    "Integers are not placed in quotation marks. You can use the print() function to display an integer. When you run this code, it displays 5: "
   ]
  },
  {
   "cell_type": "code",
   "execution_count": 4,
   "metadata": {},
   "outputs": [
    {
     "name": "stdout",
     "output_type": "stream",
     "text": [
      "5\n"
     ]
    }
   ],
   "source": [
    "print(5)"
   ]
  },
  {
   "cell_type": "markdown",
   "metadata": {},
   "source": [
    "You can also use the print() function to perform mathematical operations with integers. For example, this code adds two integers:"
   ]
  },
  {
   "cell_type": "code",
   "execution_count": 5,
   "metadata": {},
   "outputs": [
    {
     "name": "stdout",
     "output_type": "stream",
     "text": [
      "7\n"
     ]
    }
   ],
   "source": [
    "print(5 + 2)"
   ]
  },
  {
   "cell_type": "markdown",
   "metadata": {},
   "source": [
    "The result is 7. You can also subtract, multiply, or divide two integers."
   ]
  },
  {
   "cell_type": "markdown",
   "metadata": {},
   "source": [
    "### Float\n",
    "\n",
    "Float data is data consisting of a number with a decimal point. All of the following are examples of float data: \n",
    "\n",
    "- -2.2\n",
    "- -1.34\n",
    "- 0.0\n",
    "- 0.34 \n",
    "\n",
    "Just like integer data, float data is not placed in quotation marks. In addition, you can also use the print() function to display float data or to perform mathematical calculations with float data. You can run the following code to review the result of this calculation:"
   ]
  },
  {
   "cell_type": "code",
   "execution_count": 6,
   "metadata": {},
   "outputs": [
    {
     "name": "stdout",
     "output_type": "stream",
     "text": [
      "4.0\n"
     ]
    }
   ],
   "source": [
    "print(1.2 + 2.8)"
   ]
  },
  {
   "cell_type": "markdown",
   "metadata": {},
   "source": [
    "Note: Dividing two integer values or two float values results in float output when you use the symbol /:"
   ]
  },
  {
   "cell_type": "code",
   "execution_count": 7,
   "metadata": {},
   "outputs": [
    {
     "name": "stdout",
     "output_type": "stream",
     "text": [
      "0.25\n",
      "0.25\n"
     ]
    }
   ],
   "source": [
    "print(1/4)\n",
    "print(1.0/4.0)"
   ]
  },
  {
   "cell_type": "markdown",
   "metadata": {},
   "source": [
    "If you want to return a whole number from a calculation, you must use the symbol // instead:"
   ]
  },
  {
   "cell_type": "code",
   "execution_count": 8,
   "metadata": {},
   "outputs": [
    {
     "name": "stdout",
     "output_type": "stream",
     "text": [
      "0\n",
      "0.0\n"
     ]
    }
   ],
   "source": [
    "print(1//4)\n",
    "print(1.0//4.0)"
   ]
  },
  {
   "cell_type": "markdown",
   "metadata": {},
   "source": [
    "It will round down to the nearest whole number. In the case of print(1//4), the output is the integer value of 0 because using this symbol rounds down the calculation from .25 to the nearest whole number. In the case of print(1.0//4.0), the output is the float value of 0.0 because it maintains the float data type of the values in the calculation while also rounding down to the nearest whole number."
   ]
  },
  {
   "cell_type": "markdown",
   "metadata": {},
   "source": [
    "### Boolean \n",
    "\n",
    "Boolean data is data that can only be one of two values: either True or False.\n",
    "\n",
    "You should not place Boolean values in quotation marks. When you run the following code, it displays the Boolean value of True:"
   ]
  },
  {
   "cell_type": "code",
   "execution_count": 9,
   "metadata": {},
   "outputs": [
    {
     "name": "stdout",
     "output_type": "stream",
     "text": [
      "True\n"
     ]
    }
   ],
   "source": [
    "print(True)"
   ]
  },
  {
   "cell_type": "markdown",
   "metadata": {},
   "source": [
    "You can also return a Boolean value by comparing numbers. Because 9 is not greater than 10, this code evaluates to False:"
   ]
  },
  {
   "cell_type": "code",
   "execution_count": 10,
   "metadata": {},
   "outputs": [
    {
     "name": "stdout",
     "output_type": "stream",
     "text": [
      "False\n"
     ]
    }
   ],
   "source": [
    "print(9 > 10)"
   ]
  },
  {
   "cell_type": "markdown",
   "metadata": {},
   "source": [
    "### Additional data types\n",
    "\n",
    "In this course, you will work with the string, list, integer, float and Boolean data types, but there are other data types. These additional data types include tuple data, dictionary data, and set data."
   ]
  },
  {
   "cell_type": "markdown",
   "metadata": {},
   "source": [
    "#### Tuple\n",
    "\n",
    "Tuple data is a data structure that consists of a collection of data that cannot be changed. Like lists, tuples can contain elements of varying data types. \n",
    "\n",
    "A difference between tuple data and list data is that it is possible to change the elements in a list, but it is not possible to change the elements in a tuple. This could be useful in a cybersecurity context. For example, if software identifiers are stored in a tuple to ensure that they will not be altered, this can provide assurance that an access control list will only block the intended software.\n",
    "\n",
    "The syntax of a tuple is also different from the syntax of a list. A tuple is placed in parentheses rather than brackets. These are all examples of the tuple data type:\n",
    "\n",
    "- (\"wjaffrey\", \"arutley\", \"dkot\")\n",
    "- (46, 2, 13, 2, 8, 0, 0)\n",
    "- (True, False, True, True)\n",
    "- (\"wjaffrey\", 13, True)\n",
    "\n",
    "Pro tip: Tuples are more memory efficient than lists, so they are useful when you are working with a large quantity of data."
   ]
  },
  {
   "cell_type": "markdown",
   "metadata": {},
   "source": [
    "#### Dictionary\n",
    "\n",
    "Dictionary data is data that consists of one or more key-value pairs. Each key is mapped to a value. A colon (:) is placed between the key and value. Commas separate key-value pairs from other key-value pairs, and the dictionary is placed within curly brackets ({}). \n",
    "\n",
    "Dictionaries are useful when you want to store and retrieve data in a predictable way. For example, the following dictionary maps a building name to a number. The building name is the value, and the number is the key. A colon is placed after the key."
   ]
  },
  {
   "cell_type": "code",
   "execution_count": 11,
   "metadata": {},
   "outputs": [
    {
     "data": {
      "text/plain": [
       "{1: 'East', 2: 'West', 3: 'North', 4: 'South'}"
      ]
     },
     "execution_count": 11,
     "metadata": {},
     "output_type": "execute_result"
    }
   ],
   "source": [
    "{ 1: \"East\",\n",
    "\n",
    "  2: \"West\",\n",
    "\n",
    "  3: \"North\",\n",
    "\n",
    "  4: \"South\" }"
   ]
  },
  {
   "cell_type": "markdown",
   "metadata": {},
   "source": [
    "#### Set\n",
    "\n",
    "In Python, set data is data that consists of an unordered collection of unique values. This means no two values in a set can be the same. \n",
    "\n",
    "Elements in a set are always placed within curly brackets and are separated by a comma. These elements can be of any data type. This example of a set contains strings of usernames:"
   ]
  },
  {
   "cell_type": "code",
   "execution_count": 12,
   "metadata": {},
   "outputs": [
    {
     "data": {
      "text/plain": [
       "{'drosas', 'jlanksy', 'nmason'}"
      ]
     },
     "execution_count": 12,
     "metadata": {},
     "output_type": "execute_result"
    }
   ],
   "source": [
    "{\"jlanksy\", \"drosas\", \"nmason\"}"
   ]
  },
  {
   "cell_type": "markdown",
   "metadata": {},
   "source": [
    "## Key takeaways\n",
    "\n",
    "It's important for security analysts who program in Python to be familiar with various Python data types. The data types that you will work with in this course are string, list, integer, float and Boolean. Additional data types include tuple, dictionary, and set. Each data type has its own purpose and own syntax."
   ]
  },
  {
   "cell_type": "markdown",
   "metadata": {},
   "source": [
    "## Assign and reassign variables in Python\n",
    "\n",
    "Previously, you've explored variables and how to assign and reassign them in Python. In this reading, you'll expand your understanding of these topics. You’ll also learn about the general practice of naming variables so that you can avoid syntax errors and improve code readability. \n",
    "\n",
    "### What are variables?\n",
    "\n",
    "In a programming language, a variable is a container that stores data. It's a named storage location in a computer's memory that can hold a value. It stores the data in a particular data type, such as integer, string, or Boolean. The value that is stored in a variable can change. \n",
    "\n",
    "You can think of variables as boxes with labels on them. Even when you change the contents of a box, the label on the box itself remains the same. Similarly, when you change the value stored in a variable, the name of the variable remains the same. \n",
    "\n",
    "Security analysts working in Python will use a variety of variables. Some examples include variables for login attempts, allow lists, and addresses.\n",
    "\n",
    "### Working with variables\n",
    "\n",
    "In Python, it's important to know both how to assign variables and how to reassign them.\n",
    "\n",
    "#### Assigning and reassigning variables\n",
    "\n",
    "If you want to create a variable called username and assign it a value of \"nzhao\", place the variable to the left of the equals sign and its value to the right:"
   ]
  },
  {
   "cell_type": "code",
   "execution_count": 13,
   "metadata": {},
   "outputs": [],
   "source": [
    "# Assign 'username' \n",
    "username = \"nzhao\""
   ]
  },
  {
   "cell_type": "markdown",
   "metadata": {},
   "source": [
    "If you later reset this username to \"zhao2\", you still refer to that variable container as username. "
   ]
  },
  {
   "cell_type": "code",
   "execution_count": 14,
   "metadata": {},
   "outputs": [],
   "source": [
    "# Reassign 'username' \n",
    "username = \"zhao2\""
   ]
  },
  {
   "cell_type": "markdown",
   "metadata": {},
   "source": [
    "Although the contents have changed from \"nzhao\" to \"zhao2\", the variable username remains the same. \n",
    "\n",
    "Note: You must place \"nzhao\" and \"zhao2\" in quotation marks because they're strings. Python automatically assigns a variable its data type when it runs. For example, when the username variable contains the string \"nzhao\", it’s assigned a string data type."
   ]
  },
  {
   "cell_type": "markdown",
   "metadata": {},
   "source": [
    "#### Assigning variables to variables\n",
    "\n",
    "Using a similar process, you can also assign variables to other variables. In the following example, the variable username is assigned to a new variable old_username: "
   ]
  },
  {
   "cell_type": "code",
   "execution_count": 15,
   "metadata": {},
   "outputs": [],
   "source": [
    "# Assign a variable to another variable\n",
    "username = \"nzhao\"\n",
    "old_username = username"
   ]
  },
  {
   "cell_type": "markdown",
   "metadata": {},
   "source": [
    "Because username contains the string value of \"nzhao\" and old_username contains the value of username, old_username now contains a value of \"nzhao\"."
   ]
  },
  {
   "cell_type": "markdown",
   "metadata": {},
   "source": [
    "#### Putting it together\n",
    "\n",
    "The following code demonstrates how a username can be updated. The username variable is assigned an initial value, which is then stored in a second variable called old_username. After this, the username variable is reassigned a new value. You can run this code to get a message about the previous username and the current username:"
   ]
  },
  {
   "cell_type": "code",
   "execution_count": 16,
   "metadata": {},
   "outputs": [
    {
     "name": "stdout",
     "output_type": "stream",
     "text": [
      "Previous username: nzhao\n",
      "Current username: zhao2\n"
     ]
    }
   ],
   "source": [
    "username = \"nzhao\"\n",
    "old_username = username\n",
    "username = \"zhao2\"\n",
    "print(\"Previous username:\", old_username)\n",
    "print(\"Current username:\", username)"
   ]
  },
  {
   "cell_type": "markdown",
   "metadata": {},
   "source": [
    "### Best practices for naming variables \n",
    "\n",
    "You can name a variable almost anything you want, but there are a few guidelines you should follow to ensure correct syntax and prevent errors:\n",
    "\n",
    "- Use only letters, numbers, and underscores in variable names. Valid examples: date_3, username, interval2\n",
    "\n",
    "- Start a variable name with a letter or underscore. Do not start it with a number. Valid examples: time,  _login\n",
    "\n",
    "- Remember that variable names in Python are case-sensitive. These are all different variables: time, Time, TIME, timE.\n",
    "\n",
    "- Don't use Python’s built-in keywords or functions for variable names. For example, variables shouldn't be named True, False, or if.  \n",
    "\n",
    "Additionally, you should follow these stylistic guidelines to make your code easier for you and other security analysts to read and understand:\n",
    "\n",
    "- Separate two or more words with underscores. Valid examples: login_attempts, invalid_user, status_update\n",
    "\n",
    "- Avoid variables with similar names. These variables could be easily confused with one another: start_time, starting_time, time_starting.\n",
    "\n",
    "- Avoid unnecessarily long names for variables. For instance, don't give variables names like variable_that_equals_3.\n",
    "\n",
    "- Names should describe the data and not be random words. Valid examples: num_login_attempts, device_id, invalid_usernames\n",
    "\n",
    "Note: Using underscores to separate multiple words in variables is recommended, but another convention that you might encounter is capitalizing the first letter of each word except the first word. Example: loginAttempt\n",
    "\n",
    "## Key takeaways\n",
    "\n",
    "It's important for security analysts to have a fundamental understanding of variables. Variables are containers of data. They are assigned values and can also be reassigned other values or variables. It's helpful to remember the best practices for naming variables in order to create more functional, readable code. "
   ]
  },
  {
   "cell_type": "markdown",
   "metadata": {},
   "source": [
    "## More on conditionals in Python\n",
    "\n",
    "Previously, you explored conditional statements and how they’re useful in automating tasks in Python. So far, you’ve focused on the if and else keywords. In this reading, you’ll review these and learn another keyword, elif. You’ll also learn how you can apply the and, or, and not operators to your conditions.\n",
    "\n",
    "### How conditional statements work\n",
    "\n",
    "A conditional statement is a statement that evaluates code to determine whether it meets a specific set of conditions. When a condition is met, it evaluates to a Boolean value of True and performs specified actions. When the condition isn’t met, it evaluates a Boolean value of False and doesn’t perform the specified actions. \n",
    "\n",
    "In conditional statements, the condition is often based on a comparison of two values. This table summarizes common comparison operators used to compare numerical values.\n",
    "\n",
    "![image](https://github.com/user-attachments/assets/c4b64a68-9c55-415b-afe3-682116c326bc)\n",
    "\n",
    "Note: The equal to (==) and not equal to (!=) operators are also commonly used to compare string data.\n",
    "\n",
    "#### if statements\n",
    "\n",
    "The keyword if starts a conditional statement. It’s a necessary component of any conditional statement. In the following example, if begins a statement that tells Python to print an \"OK\" message when the HTTP response status code equals 200:\n",
    "\n",
    "This code consists of a header and a body."
   ]
  },
  {
   "cell_type": "code",
   "execution_count": 17,
   "metadata": {},
   "outputs": [
    {
     "name": "stdout",
     "output_type": "stream",
     "text": [
      "OK\n"
     ]
    }
   ],
   "source": [
    "status = 200\n",
    "if status == 200:\n",
    "    print(\"OK\")"
   ]
  },
  {
   "cell_type": "markdown",
   "metadata": {},
   "source": [
    "The first line of this code is the header. In the header of an if statement, the keyword if is followed by the condition. Here, the condition is that the status variable is equal to a value of 200. The condition can be placed in parentheses:"
   ]
  },
  {
   "cell_type": "code",
   "execution_count": 18,
   "metadata": {},
   "outputs": [
    {
     "name": "stdout",
     "output_type": "stream",
     "text": [
      "OK\n"
     ]
    }
   ],
   "source": [
    "if (status == 200):\n",
    "    print(\"OK\")"
   ]
  },
  {
   "cell_type": "markdown",
   "metadata": {},
   "source": [
    "In cases like this one, placing parentheses around conditions in Python is optional. You might want to include them if it helps you with code readability. However, this condition will be processed the same way if written without parentheses. \n",
    "\n",
    "In other situations, because Python evaluates the conditions in parentheses first, parentheses can affect how Python processes conditions. You will read more about one of these in the section of this reading on not.\n",
    "\n",
    "Note: You must always place a colon (:) at the end of the header. Without this syntax, the code will produce an error."
   ]
  },
  {
   "cell_type": "markdown",
   "metadata": {},
   "source": [
    "The body of an if statement\n",
    "\n",
    "After the header of an if statement comes the body of the if statement. This tells Python what action or actions to perform when the condition evaluates to True. In this example, there is just one action, printing \"OK\" to the screen. In other cases, there might be more lines of code with additional actions.\n",
    "\n",
    "Note: For the body of the if statement to execute as intended, it must be indented further than the header. Additionally, if there are multiple lines of code within the body, they must all be indented consistently. "
   ]
  },
  {
   "cell_type": "markdown",
   "metadata": {},
   "source": [
    "Continuing conditionals with else and elif\n",
    "\n",
    "In the previous example, if the HTTP status response code was not equal to 200, the condition would evaluate to False and Python would continue with the rest of the program. However, it’s also possible to specify alternative actions with else and elif.\n",
    "else statements\n",
    "\n",
    "The keyword else precedes a code section that only evaluates when all conditions that precede it within the conditional statement evaluate to False.\n",
    "\n",
    "In the following example, when the HTTP response status code is not equal to 200, it prints an alternative message of \"check other status\":"
   ]
  },
  {
   "cell_type": "code",
   "execution_count": 19,
   "metadata": {},
   "outputs": [
    {
     "name": "stdout",
     "output_type": "stream",
     "text": [
      "OK\n"
     ]
    }
   ],
   "source": [
    "if status == 200:\n",
    "    print(\"OK\")\n",
    "else:\n",
    "    print(\"check other status\")"
   ]
  },
  {
   "cell_type": "markdown",
   "metadata": {},
   "source": [
    "Note: Like with if, a colon (:) is required after else, and the body that follows the else header is indented.\n",
    "elif statements\n",
    "\n",
    "In some cases, you might have multiple alternative actions that depend on new conditions. In that case, you can use elif. The elif keyword precedes a condition that is only evaluated when previous conditions evaluate to False. Unlike with else, there can be multiple elif statements following if.\n",
    "\n",
    "For example, you might want to print one message if the HTTP response status code is 200, one message if it is 400, and one if it is 500. The following code demonstrates how you can use elif for this: "
   ]
  },
  {
   "cell_type": "code",
   "execution_count": 20,
   "metadata": {},
   "outputs": [
    {
     "name": "stdout",
     "output_type": "stream",
     "text": [
      "OK\n"
     ]
    }
   ],
   "source": [
    "if status == 200:\n",
    "    print(\"OK\")\n",
    "\n",
    "elif status == 400:\n",
    "    print(\"Bad Request\")\n",
    "\n",
    "elif status == 500:\n",
    "    print(\"Internal Server Error\") "
   ]
  },
  {
   "cell_type": "markdown",
   "metadata": {},
   "source": [
    "Python will first check if the value of status is 200, and if this evaluates to False, it will go onto the first elif statement. There, it will check whether the value of status is 400. If that evaluates to True, it will print \"Bad Request\", but if it evaluates to False, it will go on to the next elif statement. \n",
    "\n",
    "If you want the code to print another message when all conditions evaluate to False, then you can incorporate else after the last elif. In this example, if it reaches the else statement, it prints a message to check the status:"
   ]
  },
  {
   "cell_type": "code",
   "execution_count": 21,
   "metadata": {},
   "outputs": [
    {
     "name": "stdout",
     "output_type": "stream",
     "text": [
      "OK\n"
     ]
    }
   ],
   "source": [
    "if status == 200:\n",
    "    print(\"OK\")\n",
    "\n",
    "elif status == 400:\n",
    "    print(\"Bad Request\")\n",
    "\n",
    "elif status == 500:\n",
    "    print(\"Internal Server Error\")\n",
    "\n",
    "else:\n",
    "    print(\"check other status\")"
   ]
  },
  {
   "cell_type": "markdown",
   "metadata": {},
   "source": [
    "Just like with if and else, it’s important to place a colon (:) after the elif header and indent the code that follows this header.\n",
    "\n",
    "Note: Python processes multiple elif statements differently than multiple if statements. When it reaches an elif statement that evaluates to True, it won’t check the following elif statements. On the other hand, Python will run all if statements.\n",
    "\n",
    "### Logical operators for multiple conditions\n",
    "\n",
    "In some cases, you might want Python to perform an action based on a more complex condition. You might require two conditions to evaluate to True. Or, you might require only one of two conditions to evaluate to True. Or, you might want Python to perform an action when a condition evaluates to False. The operators and, or, and not can be used in these cases.\n",
    "and\n",
    "\n",
    "The and operator requires both conditions on either side of the operator to evaluate to True. For example, all HTTP status response codes between 200 and 226 relate to successful responses. You can use and to join a condition of being greater than or equal to 200 with another condition of being less than or equal to 226:"
   ]
  },
  {
   "cell_type": "code",
   "execution_count": 22,
   "metadata": {},
   "outputs": [
    {
     "name": "stdout",
     "output_type": "stream",
     "text": [
      "successful response\n"
     ]
    }
   ],
   "source": [
    "if status >= 200 and status <= 226:\n",
    "\n",
    "    print(\"successful response\")"
   ]
  },
  {
   "cell_type": "markdown",
   "metadata": {},
   "source": [
    "When both conditions are True, then the \"successful response\" message will print.\n",
    "or\n",
    "\n",
    "The or operator requires only one of the conditions on either side of the operator to evaluate to True. For example, both a status code of 100 and a status code of 102 are informational responses. Using or, you could ask Python to print an \"informational response\" message when the code is either 100 or 102:"
   ]
  },
  {
   "cell_type": "code",
   "execution_count": 23,
   "metadata": {},
   "outputs": [],
   "source": [
    "if status == 100 or status == 102:\n",
    "    print(\"informational response\")"
   ]
  },
  {
   "cell_type": "markdown",
   "metadata": {},
   "source": [
    "Only one of these conditions needs to be met for Python to print the message.\n",
    "not\n",
    "\n",
    "The not operator negates a given condition so that it evaluates to False if the condition is True and to True if it is False. For example, if you want to indicate that Python should check the status code when it’s something outside of the successful range, you can use not:"
   ]
  },
  {
   "cell_type": "code",
   "execution_count": 24,
   "metadata": {},
   "outputs": [],
   "source": [
    "if not(status >= 200 and status <= 226):\n",
    "    print(\"check status\")"
   ]
  },
  {
   "cell_type": "markdown",
   "metadata": {},
   "source": [
    "Python first checks whether the value of status is greater than or equal to 200 and less than or equal to 226, and then because of the operator not, it inverts this. This means it will print the message if status is less than 200 or greater than 226.\n",
    "\n",
    "Note: In this case, the parentheses are necessary for the code to apply not to both conditions. Python will evaluate the conditions within the parentheses first. This means it will first evaluate the conditions on either side of the and operator and then apply not to both of them."
   ]
  },
  {
   "cell_type": "markdown",
   "metadata": {},
   "source": [
    "## Key takeaways\n",
    "\n",
    "It’s important for security analysts to be familiar with conditional statements. Conditional statements require the if keyword. You can also use else and elif when working with conditionals to specify additional actions to take. The logical operators and, or, and not are also useful when writing conditionals."
   ]
  },
  {
   "cell_type": "markdown",
   "metadata": {},
   "source": [
    "## More on loops in Python\n",
    "\n",
    "Previously, you explored iterative statements. An iterative statement is code that repeatedly executes a set of instructions. Depending on the criteria, iterative statements execute zero or more times. We iterated through code using both for loops and while loops. In this reading, you’ll recap the syntax of loops. Then, you'll learn how to use the break and continue keywords to control the execution of loops. \n",
    "\n",
    "### for loops  \n",
    "\n",
    "If you need to iterate through a specified sequence, you should use a for loop. \n",
    "\n",
    "The following for loop iterates through a sequence of usernames. You can run it to observe the output:"
   ]
  },
  {
   "cell_type": "code",
   "execution_count": 25,
   "metadata": {},
   "outputs": [
    {
     "name": "stdout",
     "output_type": "stream",
     "text": [
      "elarson\n",
      "bmoreno\n",
      "tshah\n",
      "sgilmore\n"
     ]
    }
   ],
   "source": [
    "for i in [\"elarson\", \"bmoreno\", \"tshah\", \"sgilmore\"]:\n",
    "    print(i)"
   ]
  },
  {
   "cell_type": "markdown",
   "metadata": {},
   "source": [
    "The first line of this code is the loop header. In the loop header, the keyword for signals the beginning of a for loop. Directly after for, the loop variable appears. The loop variable is a variable that is used to control the iterations of a loop. In for loops, the loop variable is part of the header. In this example, the loop variable is i. \n",
    "\n",
    "The rest of the loop header indicates the sequence to iterate through. The in operator appears before the sequence to tell Python to run the loop for every item in the sequence. In this example, the sequence is the list of usernames. The loop header must end with a colon (:). \n",
    "\n",
    "The second line of this example for loop is the loop body. The body of the for loop might consist of multiple lines of code. In the body, you indicate what the loop should do with each iteration. In this case, it's to print(i), or in other words, to display the current value of the loop variable during that iteration of the loop. For Python to execute the code properly, the loop body must be indented further than the loop header. \n",
    "\n",
    "Note: When used in a for loop, the in operator precedes the sequence that the for loop will iterate through. When used in a conditional statement, the in operator is used to evaluate whether an object is part of a sequence.  The example if \"elarson\" in [\"tshah\", \"bmoreno\", \"elarson\"] evaluates to True because \"elarson\" is part of the sequence following in."
   ]
  },
  {
   "cell_type": "markdown",
   "metadata": {},
   "source": [
    "### Looping through a list\n",
    "\n",
    "Using for loops in Python allows you to easily iterate through lists, such as a list of computer assets. In the following for loop, asset is the loop variable and another variable, computer_assets, is the sequence. The computer_assets variable stores a list. This means that on the first iteration the value of asset will be the first element in that list, and on the second iteration, the value of asset will be the second element in that list. You can run the code to observe what it outputs: "
   ]
  },
  {
   "cell_type": "code",
   "execution_count": 26,
   "metadata": {},
   "outputs": [
    {
     "name": "stdout",
     "output_type": "stream",
     "text": [
      "laptop1\n",
      "desktop20\n",
      "smartphone03\n"
     ]
    }
   ],
   "source": [
    "computer_assets = [\"laptop1\", \"desktop20\", \"smartphone03\"]\n",
    "for asset in computer_assets:\n",
    "    print(asset)"
   ]
  },
  {
   "cell_type": "markdown",
   "metadata": {},
   "source": [
    "Note: It is also possible to loop through a string. This will return every character one by one. You can observe this by running the following code block that iterates through the string \"security\":"
   ]
  },
  {
   "cell_type": "code",
   "execution_count": 27,
   "metadata": {},
   "outputs": [
    {
     "name": "stdout",
     "output_type": "stream",
     "text": [
      "s\n",
      "e\n",
      "c\n",
      "u\n",
      "r\n",
      "i\n",
      "t\n",
      "y\n"
     ]
    }
   ],
   "source": [
    "string = \"security\"\n",
    "for character in string:\n",
    "    print(character)"
   ]
  },
  {
   "cell_type": "markdown",
   "metadata": {},
   "source": [
    "### Using  range()\n",
    "\n",
    "Another way to iterate through a for loop is based on a sequence of numbers, and this can be done with range(). The range() function generates a sequence of numbers. It accepts inputs for the start point, stop point, and increment in parentheses. For example, the following code indicates to start the sequence of numbers at 0, stop at 5, and increment each time by 1:\n",
    "\n",
    "range(0, 5, 1)\n",
    "\n",
    "Note: The start point is inclusive, meaning that 0 will be included in the sequence of numbers, but the stop point is exclusive, meaning that 5 will be excluded from the sequence. It will conclude one integer before the stopping point.\n",
    "\n",
    "When you run this code, you can observe how 5 is excluded from the sequence:"
   ]
  },
  {
   "cell_type": "code",
   "execution_count": 28,
   "metadata": {},
   "outputs": [
    {
     "name": "stdout",
     "output_type": "stream",
     "text": [
      "0\n",
      "1\n",
      "2\n",
      "3\n",
      "4\n"
     ]
    }
   ],
   "source": [
    "for i in range(0, 5, 1):\n",
    "    print(i)"
   ]
  },
  {
   "cell_type": "markdown",
   "metadata": {},
   "source": [
    "You should be aware that it's always necessary to include the stop point, but if the start point is the default value of 0 and the increment is the default value of 1, they don't have to be specified in the code. If you run this code, you will get the same results:"
   ]
  },
  {
   "cell_type": "code",
   "execution_count": 29,
   "metadata": {},
   "outputs": [
    {
     "name": "stdout",
     "output_type": "stream",
     "text": [
      "0\n",
      "1\n",
      "2\n",
      "3\n",
      "4\n"
     ]
    }
   ],
   "source": [
    "for i in range(5):\n",
    "    print(i)"
   ]
  },
  {
   "cell_type": "markdown",
   "metadata": {},
   "source": [
    "Note: If the start point is anything other than 0 or the increment is anything other than 1, they should be specified.\n",
    "while loops\n",
    "\n",
    "If you want a loop to iterate based on a condition, you should use a while loop. As long as the condition is True, the loop continues, but when it evaluates to False, the while loop exits. The following while loop continues as long as the condition that i < 5 is True:"
   ]
  },
  {
   "cell_type": "code",
   "execution_count": 30,
   "metadata": {},
   "outputs": [
    {
     "name": "stdout",
     "output_type": "stream",
     "text": [
      "1\n",
      "2\n",
      "3\n",
      "4\n"
     ]
    }
   ],
   "source": [
    "i = 1\n",
    "while i < 5:\n",
    "    print(i)\n",
    "    i = i + 1"
   ]
  },
  {
   "cell_type": "markdown",
   "metadata": {},
   "source": [
    "In this while loop, the loop header is the line while i < 5:. Unlike with for loops, the value of a loop variable used to control the iterations is not assigned within the loop header in a while loop. Instead, it is assigned outside of the loop. In this example, i is assigned a starting value of 1 in a line preceding the loop.\n",
    "\n",
    "The keyword while signals the beginning of a while loop. After this, the loop header indicates the condition that determines when the loop terminates. This condition uses the same comparison operators as conditional statements. Like in a for loop, the header of a while loop must end with a colon (:).\n",
    "\n",
    "The body of a while loop indicates the actions to take with each iteration. In this example, it is to display the value of i and to increment the value of i by 1. In order for the value of i to change with each iteration, it's necessary to indicate this in the body of the while loop. In this example, the loop iterates four times until it reaches a value of 5.\n",
    "\n",
    "Integers in the loop condition\n",
    "\n",
    "Often, as just demonstrated, the loop condition is based on integer values. For example, you might want to allow a user to log in as long as they've logged in less than five times. Then, your loop variable, login_attempts, can be initialized to 0, incremented by 1 in the loop, and the loop condition can specify to iterate only when the variable is less than 5. You can run the code below and review the count of each login attempt:"
   ]
  },
  {
   "cell_type": "code",
   "execution_count": 31,
   "metadata": {},
   "outputs": [
    {
     "name": "stdout",
     "output_type": "stream",
     "text": [
      "Login attempts: 0\n",
      "Login attempts: 1\n",
      "Login attempts: 2\n",
      "Login attempts: 3\n",
      "Login attempts: 4\n"
     ]
    }
   ],
   "source": [
    "login_attempts = 0\n",
    "while login_attempts < 5:\n",
    "    print(\"Login attempts:\", login_attempts)\n",
    "    login_attempts = login_attempts + 1"
   ]
  },
  {
   "cell_type": "markdown",
   "metadata": {},
   "source": [
    "The value of login_attempts went from 0 to 4 before the loop condition evaluated to False. Therefore, the values of 0 through 4 print, and the value 5 does not print.\n",
    "\n",
    "### Boolean values in the loop condition\n",
    "\n",
    "Conditions in while loops can also depend on other data types, including comparisons of Boolean data. In Boolean data comparisons, your loop condition can check whether a loop variable equals a value like True or False. The loop iterates an indeterminate number of times until the Boolean condition is no longer True. \n",
    "\n",
    "In the example below, a Boolean value is used to exit a loop when a user has made five login attempts. A variable called count keeps track of each login attempt and changes the login_status variable to False when the count equals 4. (Incrementing count from 0 to 4 represents five login attempts.) Because the while condition only iterates when login_status is True, it will exit the loop. You can run this to explore this output: "
   ]
  },
  {
   "cell_type": "code",
   "execution_count": 32,
   "metadata": {},
   "outputs": [
    {
     "name": "stdout",
     "output_type": "stream",
     "text": [
      "Try again.\n",
      "Try again.\n",
      "Try again.\n",
      "Try again.\n"
     ]
    }
   ],
   "source": [
    "count = 0\n",
    "login_status = True\n",
    "while login_status == True:\n",
    "    print(\"Try again.\")\n",
    "    count = count + 1\n",
    "    if count == 4:\n",
    "        login_status = False"
   ]
  },
  {
   "cell_type": "markdown",
   "metadata": {},
   "source": [
    "The code prints a message to try again four times, but exits the loop once login_status is set to False.   \n",
    "\n",
    "### Managing loops\n",
    "\n",
    "You can use the break and continue keywords to further control your loop iterations. Both are incorporated into a conditional statement within the body of the loop. They can be inserted to execute when the condition in an if statement is True. The break keyword is used to break out of a loop. The continue keyword is used to skip an iteration and continue with the next one. \n",
    "\n",
    "### break\n",
    "\n",
    "When you want to exit a for or while loop based on a particular condition in an if statement being True, you can write a conditional statement in the body of the loop and write the keyword break in the body of the conditional. \n",
    "\n",
    "The following example demonstrates this. The conditional statement with break instructs Python to exit the for loop if the value of the loop variable asset is equal to \"desktop20\". On the second iteration, this condition evaluates to True. You can run this code to observe this in the output: "
   ]
  },
  {
   "cell_type": "code",
   "execution_count": 33,
   "metadata": {},
   "outputs": [
    {
     "name": "stdout",
     "output_type": "stream",
     "text": [
      "laptop1\n"
     ]
    }
   ],
   "source": [
    "computer_assets = [\"laptop1\", \"desktop20\", \"smartphone03\"]\n",
    "for asset in computer_assets:\n",
    "    if asset == \"desktop20\":\n",
    "        break\n",
    "    print(asset)"
   ]
  },
  {
   "cell_type": "markdown",
   "metadata": {},
   "source": [
    "As expected, the values of \"desktop20\" and \"smartphone03\" don't print because the loop breaks on the second iteration.\n",
    "\n",
    "#### continue\n",
    "\n",
    "When you want to skip an iteration based on a certain condition in an if statement being True, you can add the keyword continue in the body of a conditional statement within the loop. In this example, continue will execute when the loop variable of asset is equal to \"desktop20\". You can run this code to observe how this output differs from the previous example with break:"
   ]
  },
  {
   "cell_type": "code",
   "execution_count": 34,
   "metadata": {},
   "outputs": [
    {
     "name": "stdout",
     "output_type": "stream",
     "text": [
      "laptop1\n",
      "smartphone03\n"
     ]
    }
   ],
   "source": [
    "computer_assets = [\"laptop1\", \"desktop20\", \"smartphone03\"]\n",
    "for asset in computer_assets:\n",
    "    if asset == \"desktop20\":\n",
    "        continue\n",
    "    print(asset)"
   ]
  },
  {
   "cell_type": "markdown",
   "metadata": {},
   "source": [
    "The value \"desktop20\" in the second iteration doesn't print. However, in this case, the loop continues to the next iteration, and \"smartphone03\" is printed. \n",
    "\n",
    "#### Infinite loops\n",
    "\n",
    "If you create a loop that doesn't exit, this is called an infinite loop. In these cases, you should press CTRL-C or CTRL-Z on your keyboard to stop the infinite loop. You might need to do this when running a service that constantly processes data, such as a web server."
   ]
  },
  {
   "cell_type": "markdown",
   "metadata": {},
   "source": [
    "## Key takeaways\n",
    "\n",
    "Security analysts need to be familiar with iterative statements. They can use for loops to perform tasks that involve iterating through lists a predetermined number of times. They can also use while loops to perform tasks based on certain conditions evaluating to True. The break and continue keywords are used in iterative statements to control the flow of loops based on additional conditions."
   ]
  },
  {
   "cell_type": "markdown",
   "metadata": {},
   "source": [
    "## Glossary terms from module 1\n",
    "Terms and definitions from Course 7, Module 1\n",
    "\n",
    "Automation: The use of technology to reduce human and manual effort to perform common and repetitive tasks\n",
    "\n",
    "Boolean data: Data that can only be one of two values: either True or False\n",
    "\n",
    "Command-line interface: A text-based user interface that uses commands to interact with the computer\n",
    "\n",
    "Comment: A note programmers make about the intention behind their code\n",
    "\n",
    "Conditional statement: A statement that evaluates code to determine if it meets a specified set of conditions\n",
    "\n",
    "Data type: A category for a particular type of data item\n",
    "\n",
    "Dictionary data: Data that consists of one or more key-value pairs\n",
    "\n",
    "Float data: Data consisting of a number with a decimal point\n",
    "\n",
    "Integer data: Data consisting of a number that does not include a decimal point\n",
    "\n",
    "Integrated development environment (IDE): A software application for writing code that provides editing assistance and error correction tools\n",
    "\n",
    "Interpreter: A computer program that translates Python code into runnable instructions line by line \n",
    "\n",
    "Iterative statement: Code that repeatedly executes a set of instructions\n",
    "\n",
    "List data: Data structure that consists of a collection of data in sequential form\n",
    "\n",
    "Loop variable: A variable that is used to control the iterations of a loop\n",
    "\n",
    "Notebook: An online interface for writing, storing, and running code \n",
    "\n",
    "Programming: A process that can be used to create a specific set of instructions for a computer to execute tasks\n",
    "\n",
    "Set data: Data that consists of an unordered collection of unique values\n",
    "\n",
    "String data: Data consisting of an ordered sequence of characters\n",
    "\n",
    "Syntax: The rules that determine what is correctly structured in a computing language\n",
    "\n",
    "Tuple data: Data structure that consists of a collection of data that cannot be changed \n",
    "\n",
    "Type error: An error that results from using the wrong data type\n",
    "\n",
    "Variable: A container that stores data"
   ]
  }
 ],
 "metadata": {
  "kernelspec": {
   "display_name": "Python 3",
   "language": "python",
   "name": "python3"
  },
  "language_info": {
   "codemirror_mode": {
    "name": "ipython",
    "version": 3
   },
   "file_extension": ".py",
   "mimetype": "text/x-python",
   "name": "python",
   "nbconvert_exporter": "python",
   "pygments_lexer": "ipython3",
   "version": "3.11.0"
  }
 },
 "nbformat": 4,
 "nbformat_minor": 2
}
