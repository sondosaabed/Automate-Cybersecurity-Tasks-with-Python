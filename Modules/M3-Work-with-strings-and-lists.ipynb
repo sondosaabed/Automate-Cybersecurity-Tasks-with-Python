{
 "cells": [
  {
   "cell_type": "markdown",
   "metadata": {},
   "source": [
    "## Strings and the security analyst\n",
    "\n",
    "The ability to work with strings is important in the cybersecurity profession. Previously, you were introduced to several ways to work with strings, including functions and methods. You also learned how to extract elements in strings using bracket notation and indices. This reading reviews these concepts and explains more about using the .index() method. It also highlights examples of string data you might encounter in a security setting.\n",
    "\n",
    "### String data in a security setting\n",
    "\n",
    "As an analyst, string data is one of the most common data types you will encounter in Python. String data is data consisting of an ordered sequence of characters. It's used to store any type of information you don't need to manipulate mathematically (such as through division or subtraction). In a cybersecurity context, this includes IP addresses, usernames, URLs, and employee IDs.\n",
    "\n",
    "You'll need to work with these strings in a variety of ways. For example, you might extract certain parts of an IP address, or you might verify whether usernames meet required criteria.\n",
    "\n",
    "### Working with indices in strings\n",
    "#### Indices \n",
    "\n",
    "An index is a number assigned to every element in a sequence that indicates its position. With strings, this means each character in the string has its own index.\n",
    "\n",
    "Indices start at 0. For example, you might be working with this string containing a device ID: \"h32rb17\". The following table indicates the index for each character in this string:\n",
    "\n",
    "![image](https://github.com/user-attachments/assets/73c6a04b-bbff-4d0b-8a07-5f087086a43c)\n",
    "\n",
    "You can also use negative numbers as indices. This is based on their position relative to the last character in the string:\n",
    "\n",
    "![image](https://github.com/user-attachments/assets/029693c4-3a6b-44d0-a86e-e09c990da950)\n",
    "\n",
    "#### Bracket notation\n",
    "\n",
    "Bracket notation refers to the indices placed in square brackets. You can use bracket notation to extract a part of a string. For example, the first character of the device ID might represent a certain characteristic of the device. If you want to extract it, you can use bracket notation for this:"
   ]
  },
  {
   "cell_type": "code",
   "execution_count": 1,
   "metadata": {},
   "outputs": [
    {
     "data": {
      "text/plain": [
       "'h'"
      ]
     },
     "execution_count": 1,
     "metadata": {},
     "output_type": "execute_result"
    }
   ],
   "source": [
    "\"h32rb17\"[0]"
   ]
  },
  {
   "cell_type": "markdown",
   "metadata": {},
   "source": [
    "This device ID might also be stored within a variable called device_id. You can apply the same bracket notation to the variable:"
   ]
  },
  {
   "cell_type": "code",
   "execution_count": 2,
   "metadata": {},
   "outputs": [
    {
     "data": {
      "text/plain": [
       "'h'"
      ]
     },
     "execution_count": 2,
     "metadata": {},
     "output_type": "execute_result"
    }
   ],
   "source": [
    "device_id = \"h32rb17\"\n",
    "\n",
    "device_id[0]"
   ]
  },
  {
   "cell_type": "markdown",
   "metadata": {},
   "source": [
    "In both cases, bracket notation outputs the character h when this bracket notation is placed inside a print() function. You can observe this by running the following code:"
   ]
  },
  {
   "cell_type": "code",
   "execution_count": 3,
   "metadata": {},
   "outputs": [
    {
     "name": "stdout",
     "output_type": "stream",
     "text": [
      "h\n",
      "h\n"
     ]
    }
   ],
   "source": [
    "device_id = \"h32rb17\"\n",
    "print(\"h32rb17\"[0])\n",
    "print(device_id[0])"
   ]
  },
  {
   "cell_type": "markdown",
   "metadata": {},
   "source": [
    "You can also take a slice from a string. When you take a slice from a string, you extract more than one character from it. It's often done in cybersecurity contexts when you’re only interested in a specific part of a string. For example, this might be certain numbers in an IP address or certain parts of a URL.\n",
    "\n",
    "In the device ID example, you might need the first three characters to determine a particular quality of the device. To do this, you can take a slice of the string using bracket notation. You can run this line of code to observe that it outputs \"h32\":"
   ]
  },
  {
   "cell_type": "code",
   "execution_count": 4,
   "metadata": {},
   "outputs": [
    {
     "name": "stdout",
     "output_type": "stream",
     "text": [
      "h32\n"
     ]
    }
   ],
   "source": [
    "print(\"h32rb17\"[0:3])"
   ]
  },
  {
   "cell_type": "markdown",
   "metadata": {},
   "source": [
    "Note: The slice starts at the 0 index, but the second index specified after the colon is excluded.  This means the slice ends one position before index 3, which is at index 2. "
   ]
  },
  {
   "cell_type": "markdown",
   "metadata": {},
   "source": [
    "### String functions and methods\n",
    "\n",
    "The str() and len() functions are useful for working with strings. You can also apply methods to strings, including the .upper(), .lower(), and .index() methods. A method is a function that belongs to a specific data type.\n",
    "\n",
    "#### str() and len()\n",
    "\n",
    "The str() function converts its input object into a string. As an analyst, you might use this in security logs when working with numerical IDs that aren't going to be used with mathematical processes. Converting an integer to a string gives you the ability to search through it and extract slices from it.\n",
    "\n",
    "Consider the example of an employee ID 19329302 that you need to convert into a string. You can use the following line of code to convert it into a string and store it in a variable:"
   ]
  },
  {
   "cell_type": "code",
   "execution_count": 5,
   "metadata": {},
   "outputs": [],
   "source": [
    "string_id = str(19329302)"
   ]
  },
  {
   "cell_type": "markdown",
   "metadata": {},
   "source": [
    "The second function you learned for strings is the len() function, which returns the number of elements in an object.\n",
    "\n",
    "As an example, if you want to verify that a certain device ID conforms to a standard of containing seven characters, you can use the len() function and a conditional. When you run the following code, it will print a message if \"h32rb17\" has seven characters:"
   ]
  },
  {
   "cell_type": "code",
   "execution_count": 6,
   "metadata": {},
   "outputs": [
    {
     "name": "stdout",
     "output_type": "stream",
     "text": [
      "The device ID has 7 characters.\n"
     ]
    }
   ],
   "source": [
    "device_id_length = len(\"h32rb17\")\n",
    "if device_id_length == 7:\n",
    "    print(\"The device ID has 7 characters.\")"
   ]
  },
  {
   "cell_type": "markdown",
   "metadata": {},
   "source": [
    "#### .upper() and .lower() \n",
    "\n",
    "The .upper() method returns a copy of the string with all of its characters in uppercase. For example, you can change this department name to all uppercase by running the code \"Information Technology\".upper(). It would return the string \"INFORMATION TECHNOLOGY\".\n",
    "\n",
    "Meanwhile, the .lower() method returns a copy of the string in all lowercase characters. \"Information Technology\".lower() would return the string \"information technology\".\n",
    "\n",
    "#### .index()\n",
    "\n",
    "The .index() method finds the first occurrence of the input in a string and returns its location. For example, this code uses the .index() method to find the first occurrence of the character \"r\" in the device ID \"h32rb17\":"
   ]
  },
  {
   "cell_type": "code",
   "execution_count": 7,
   "metadata": {},
   "outputs": [
    {
     "name": "stdout",
     "output_type": "stream",
     "text": [
      "3\n"
     ]
    }
   ],
   "source": [
    "print(\"h32rb17\".index(\"r\"))"
   ]
  },
  {
   "cell_type": "markdown",
   "metadata": {},
   "source": [
    "The .index() method returns 3 because the first occurrence of the character \"r\" is at index 3.\n",
    "\n",
    "In other cases, the input may not be found. When this happens, Python returns an error. For instance, the code print(\"h32rb17\".index(\"a\")) returns an error because \"a\" is not in the string \"h32rb17\".\n",
    "\n",
    "Also note that if a string contains more than one instance of a character, only the first one will be returned. For instance, the device ID \"r45rt46\" contains two instances of \"r\". You can run the following code to explore its output:"
   ]
  },
  {
   "cell_type": "code",
   "execution_count": 8,
   "metadata": {},
   "outputs": [
    {
     "name": "stdout",
     "output_type": "stream",
     "text": [
      "0\n"
     ]
    }
   ],
   "source": [
    "print(\"r45rt46\".index(\"r\"))"
   ]
  },
  {
   "cell_type": "markdown",
   "metadata": {},
   "source": [
    "The output is 0 because .index() returns only the first instance of \"r\", which is at index 0. The instance of \"r\" at index 3 is not returned.\n",
    "\n",
    "- Finding substrings with .index()\n",
    "\n",
    "A substring is a continuous sequence of characters within a string. For example, \"llo\" is a substring of \"hello\".\n",
    "\n",
    "The .index() method can also be used to find the index of the first occurrence of a substring. It returns the index of the first character in that substring. Consider this example that finds the first instance of the user \"tshah\" in a string:"
   ]
  },
  {
   "cell_type": "code",
   "execution_count": 9,
   "metadata": {},
   "outputs": [
    {
     "name": "stdout",
     "output_type": "stream",
     "text": [
      "7\n"
     ]
    }
   ],
   "source": [
    "tshah_index = \"tsnow, tshah, bmoreno - updated\".index(\"tshah\")\n",
    "print(tshah_index)"
   ]
  },
  {
   "cell_type": "markdown",
   "metadata": {},
   "source": [
    "The .index() method returns the index 7, which is where the substring \"tshah\" starts.\n",
    "\n",
    "Note: When using the .index() method to search for substrings, you need to be careful. In the previous example, you want to locate the instance of \"tshah\". If you search for just \"ts\", Python will return 0 instead of 7 because \"ts\" is also a substring of \"tsnow\". \n",
    "\n",
    "## Key takeaways\n",
    "\n",
    "As a security analyst, you will work with strings in a variety of ways. First, you might need to use bracket notation to work with string indices. Two functions you will likely use are str(), which converts an input into a string, and len(), which finds the length of a string. You can also use string methods, functions that only work on strings. These include .upper(), which converts all letters in a string into uppercase letters, .lower(), which converts all letters in a string into lowercase letters, and .index(), which returns the index of the first occurrence of its input within a string."
   ]
  },
  {
   "cell_type": "markdown",
   "metadata": {},
   "source": [
    "## Lists and the security analyst\n",
    "\n",
    "Previously, you examined how to use bracket notation to access and change elements in a list and some fundamental methods for working with lists. This reading will review these concepts with new examples, introduce the .index() method as it applies to lists, and highlight how lists are used in a cybersecurity context.\n",
    "\n",
    "### List data in a security setting\n",
    "\n",
    "As a security analyst, you'll frequently work with lists in Python. List data is a data structure that consists of a collection of data in sequential form. You can use lists to store multiple elements in a single variable. A single list can contain multiple data types. \n",
    "\n",
    "In a cybersecurity context, lists might be used to store usernames, IP addresses, URLs, device IDs, and data.\n",
    "\n",
    "Placing data within a list allows you to work with it in a variety of ways. For example, you might iterate through a list of device IDs using a for loop to perform the same actions for all items in the list. You could incorporate a conditional statement to only perform these actions if the device IDs meet certain conditions. \n",
    "\n",
    "### Working with indices in lists\n",
    "#### Indices\n",
    "\n",
    "Like strings, you can work with lists through their indices, and indices start at 0. In a list, an index is assigned to every element in the list.\n",
    "\n",
    "This table contains the index for each element in the list [\"elarson\", \"fgarcia\", \"tshah\", \"sgilmore\"]:\n",
    "\n",
    "![image](https://github.com/user-attachments/assets/4221f0fd-d243-48fc-b792-8d8659324e21)"
   ]
  },
  {
   "cell_type": "markdown",
   "metadata": {},
   "source": [
    "### Bracket notation\n",
    "\n",
    "Similar to strings, you can use bracket notation to extract elements or slices in a list. To extract an element from a list, after the list or the variable that contains a list, add square brackets that contain the index of the element. The following example extracts the element with an index of 2 from the variable username_list and prints it. You can run this code to examine what it outputs:"
   ]
  },
  {
   "cell_type": "code",
   "execution_count": 1,
   "metadata": {},
   "outputs": [
    {
     "name": "stdout",
     "output_type": "stream",
     "text": [
      "tshah\n"
     ]
    }
   ],
   "source": [
    "username_list = [\"elarson\", \"fgarcia\", \"tshah\", \"sgilmore\"]\n",
    "print(username_list[2])"
   ]
  },
  {
   "cell_type": "code",
   "execution_count": 2,
   "metadata": {},
   "outputs": [
    {
     "name": "stdout",
     "output_type": "stream",
     "text": [
      "tshah\n"
     ]
    }
   ],
   "source": [
    "print([\"elarson\", \"fgarcia\", \"tshah\", \"sgilmore\"][2])"
   ]
  },
  {
   "cell_type": "markdown",
   "metadata": {},
   "source": [
    "This example extracts the element at index 2 directly from the list:\n",
    "\n",
    "#### Extracting a slice from a list\n",
    "Just like with strings, it's also possible to use bracket notation to take a slice from a list. With lists, this means extracting more than one element from the list.\n",
    "\n",
    "When you extract a slice from a list, the result is another list. This extracted list is called a sublist because it is part of the original, larger list. \n",
    "\n",
    "To extract a sublist using bracket notation, you need to include two indices. You can run the following code that takes a slice from a list and explore the sublist it returns:"
   ]
  },
  {
   "cell_type": "code",
   "execution_count": 3,
   "metadata": {},
   "outputs": [
    {
     "name": "stdout",
     "output_type": "stream",
     "text": [
      "['elarson', 'fgarcia']\n"
     ]
    }
   ],
   "source": [
    "username_list = [\"elarson\", \"fgarcia\", \"tshah\", \"sgilmore\"]\n",
    "print(username_list[0:2])"
   ]
  },
  {
   "cell_type": "markdown",
   "metadata": {},
   "source": [
    "The code returns a sublist of [\"elarson\", \"fgarcia\"]. This is because the element at index 0, \"elarson\", is included in the slice, but the element at index 2, \"tshah\", is excluded. The slice ends one element before this index.\n",
    "\n",
    "#### Changing the elements in a list\n",
    "\n",
    "Unlike strings, you can also use bracket notation to change elements in a list. This is because a string is immutable and cannot be changed after it is created and assigned a value, but lists are not immutable.\n",
    "\n",
    "To change a list element, use similar syntax as you would use when reassigning a variable, but place the specific element to change in bracket notation after the variable name. For example, the following code changes the element at index 1 of the username_list variable to \"bmoreno\"."
   ]
  },
  {
   "cell_type": "code",
   "execution_count": 4,
   "metadata": {},
   "outputs": [
    {
     "name": "stdout",
     "output_type": "stream",
     "text": [
      "Before changing an element: ['elarson', 'fgarcia', 'tshah', 'sgilmore']\n",
      "After changing an element: ['elarson', 'bmoreno', 'tshah', 'sgilmore']\n"
     ]
    }
   ],
   "source": [
    "username_list = [\"elarson\", \"fgarcia\", \"tshah\", \"sgilmore\"]\n",
    "print(\"Before changing an element:\", username_list)\n",
    "username_list[1] = \"bmoreno\"\n",
    "print(\"After changing an element:\", username_list)"
   ]
  },
  {
   "cell_type": "markdown",
   "metadata": {},
   "source": [
    "This code has updated the element at index 1 from \"fgarcia\" to \"bmoreno\".\n",
    "\n",
    "#### List methods\n",
    "\n",
    "List methods are functions that are specific to the list data type. These include the .insert() , .remove(), .append() and .index(). \n",
    "\n",
    "##### .insert() \n",
    "\n",
    "The .insert() method adds an element in a specific position inside a list. It has two parameters. The first is the index where you will insert the new element, and the second is the element you want to insert.\n",
    "\n",
    "You can run the following code to explore how this method can be used to insert a new username into a username list:\n"
   ]
  },
  {
   "cell_type": "code",
   "execution_count": 5,
   "metadata": {},
   "outputs": [
    {
     "name": "stdout",
     "output_type": "stream",
     "text": [
      "Before inserting an element: ['elarson', 'bmoreno', 'tshah', 'sgilmore']\n",
      "After inserting an element: ['elarson', 'bmoreno', 'wjaffrey', 'tshah', 'sgilmore']\n"
     ]
    }
   ],
   "source": [
    "username_list = [\"elarson\", \"bmoreno\", \"tshah\", \"sgilmore\"]\n",
    "print(\"Before inserting an element:\", username_list)\n",
    "username_list.insert(2,\"wjaffrey\")\n",
    "print(\"After inserting an element:\", username_list)"
   ]
  },
  {
   "cell_type": "markdown",
   "metadata": {},
   "source": [
    "Because the first parameter is 2 and the second parameter is \"wjaffrey\", \"wjaffrey\" is inserted at index 2, which is the third position. The other list elements are shifted one position in the list. For example, \"tshah\" was originally located at index 2 and now is located at index 3.\n",
    "\n",
    "##### .remove()\n",
    "\n",
    "The .remove() method removes the first occurrence of a specific element in a list. It has only one parameter, the element you want to remove.\n",
    "\n",
    "The following code removes \"elarson\" from the username_list:"
   ]
  },
  {
   "cell_type": "code",
   "execution_count": 6,
   "metadata": {},
   "outputs": [
    {
     "name": "stdout",
     "output_type": "stream",
     "text": [
      "Before removing an element: ['elarson', 'bmoreno', 'wjaffrey', 'tshah', 'sgilmore']\n",
      "After removing an element: ['bmoreno', 'wjaffrey', 'tshah', 'sgilmore']\n"
     ]
    }
   ],
   "source": [
    "username_list = [\"elarson\", \"bmoreno\", \"wjaffrey\", \"tshah\", \"sgilmore\"]\n",
    "print(\"Before removing an element:\", username_list)\n",
    "username_list.remove(\"elarson\")\n",
    "print(\"After removing an element:\", username_list)"
   ]
  },
  {
   "cell_type": "markdown",
   "metadata": {},
   "source": [
    "This code removes \"elarson\" from the list. The elements that follow \"elarson\" are all shifted one position closer to the beginning of the list.\n",
    "\n",
    "Note: If there are two of the same element in a list, the .remove() method only removes the first instance of that element and not all occurrences.\n",
    "\n",
    "##### .append() \n",
    "\n",
    "The .append() method adds input to the end of a list. Its one parameter is the element you want to add to the end of the list. \n",
    "\n",
    "For example, you could use .append() to add \"btang\" to the end of the username_list:"
   ]
  },
  {
   "cell_type": "code",
   "execution_count": 7,
   "metadata": {},
   "outputs": [
    {
     "name": "stdout",
     "output_type": "stream",
     "text": [
      "Before appending an element: ['bmoreno', 'wjaffrey', 'tshah', 'sgilmore']\n",
      "After appending an element: ['bmoreno', 'wjaffrey', 'tshah', 'sgilmore', 'btang']\n"
     ]
    }
   ],
   "source": [
    "username_list = [\"bmoreno\", \"wjaffrey\", \"tshah\", \"sgilmore\"]\n",
    "print(\"Before appending an element:\", username_list)\n",
    "username_list.append(\"btang\")\n",
    "print(\"After appending an element:\", username_list)"
   ]
  },
  {
   "cell_type": "markdown",
   "metadata": {},
   "source": [
    "This code places \"btang\" at the end of the username_list, and all other elements remain in their original positions.\n",
    "\n",
    "The .append() method is often used with for loops to populate an empty list with elements. You can explore how this works with the following code:"
   ]
  },
  {
   "cell_type": "code",
   "execution_count": 8,
   "metadata": {},
   "outputs": [
    {
     "name": "stdout",
     "output_type": "stream",
     "text": [
      "Before appending a sequence of numbers: []\n",
      "After appending a sequence of numbers: [0, 1, 2, 3, 4, 5, 6, 7, 8, 9]\n"
     ]
    }
   ],
   "source": [
    "numbers_list = []\n",
    "print(\"Before appending a sequence of numbers:\", numbers_list)\n",
    "for i in range(10):\n",
    "    numbers_list.append(i)\n",
    "print(\"After appending a sequence of numbers:\", numbers_list)"
   ]
  },
  {
   "cell_type": "markdown",
   "metadata": {},
   "source": [
    "Before the for loop, the numbers_list variable does not contain any elements. When it is printed, the empty list is displayed. Then, the for loop iterates through a sequence of numbers and uses the .append() method to add each of these numbers to numbers_list. After the loop, when the numbers_list variable is printed, it displays these numbers.  \n",
    "\n",
    "##### .index()\n",
    "\n",
    "Similar to the .index() method used for strings, the .index() method used for lists finds the first occurrence of an element in a list and returns its index. It takes the element you're searching for as an input.\n",
    "\n",
    "Note: Although it has the same name and use as the .index() method used for strings, the .index() method used for lists is not the same method. Methods are defined when defining a data type, and because strings and lists are defined differently, the methods are also different.\n",
    "\n",
    "Using the username_list variable, you can use the .index() method to find the index of the username \"tshah\":"
   ]
  },
  {
   "cell_type": "code",
   "execution_count": 9,
   "metadata": {},
   "outputs": [
    {
     "name": "stdout",
     "output_type": "stream",
     "text": [
      "2\n"
     ]
    }
   ],
   "source": [
    "username_list = [\"bmoreno\", \"wjaffrey\", \"tshah\", \"sgilmore\", \"btang\"]\n",
    "username_index = username_list.index(\"tshah\")\n",
    "print(username_index)"
   ]
  },
  {
   "cell_type": "markdown",
   "metadata": {},
   "source": [
    "Because the index of \"tshah\" is 2, it outputs this number.\n",
    "\n",
    "Similar to the .index() method used for strings, it only returns the index of the first occurrence of a list item. So if the username \"tshah\" were repeated twice, it would return the index of the first instance, and not the second.\n",
    "\n",
    "## Key takeaways\n",
    "\n",
    "Python offers a lot of ways to work with lists. Bracket notation allows you to extract elements and slices from lists and also to alter them. List methods allow you to alter lists in a variety of ways. The .insert() and .append() methods add elements to lists while the .remove() method allows you to remove them. The .index() method allows you to find the index of an element in a list."
   ]
  },
  {
   "cell_type": "markdown",
   "metadata": {},
   "source": [
    "## More about regular expressions\n",
    "\n",
    "You were previously introduced to regular expressions and a couple of symbols that you can use to construct regular expression patterns. In this reading, you'll explore additional regular expression symbols that can be used in a cybersecurity context. You'll also learn more about the re module and its re.findall() function.\n",
    "\n",
    "#### Basics of regular expressions\n",
    "\n",
    "A regular expression (regex) is a sequence of characters that forms a pattern. You can use these in Python to search for a variety of patterns. This could include IP addresses, emails, or device IDs.\n",
    "\n",
    "To access regular expressions and related functions in Python, you need to import the re module first. You should use the following line of code to import the re module:\n",
    "\n",
    "import re\n",
    "\n",
    "Regular expressions are stored in Python as strings. Then, these strings are used in re module functions to search through other strings. There are many functions in the re module, but you will explore how regular expressions work through re.findall(). The re.findall() function returns a list of matches to a regular expression. It requires two parameters. The first is the string containing the regular expression pattern, and the second is the string you want to search through.\n",
    "\n",
    "The patterns that comprise a regular expression consist of alphanumeric characters and special symbols. If a regular expression pattern consists only of alphanumeric characters, Python will review the specified string for matches to this pattern and return them. In the following example, the first parameter is a regular expression pattern consisting only of the alphanumeric characters \"ts\". The second parameter, \"tsnow, tshah, bmoreno\",  is the string it will search through. You can run the following code to explore what it returns:\n"
   ]
  },
  {
   "cell_type": "code",
   "execution_count": 10,
   "metadata": {},
   "outputs": [
    {
     "data": {
      "text/plain": [
       "['ts', 'ts']"
      ]
     },
     "execution_count": 10,
     "metadata": {},
     "output_type": "execute_result"
    }
   ],
   "source": [
    "import re\n",
    "re.findall(\"ts\", \"tsnow, tshah, bmoreno\")"
   ]
  },
  {
   "cell_type": "markdown",
   "metadata": {},
   "source": [
    "The output is a list of only two elements, the two matches to \"ts\": ['ts', 'ts'].\n",
    "\n",
    "If you want to do more than search for specific strings, you must incorporate special symbols into your regular expressions.\n",
    "\n",
    "#### Regular expression symbols\n",
    "##### Symbols for character types\n",
    "\n",
    "You can use a variety of symbols to form a pattern for your regular expression. Some of these symbols identify a particular type of character. For example, \\w matches with any alphanumeric character.\n",
    "\n",
    "Note: The \\w symbol also matches with the underscore ( _ ).\n",
    "You can run this code to explore what re.findall() returns when applying the regular expression of \"\\w\" to the device ID of \"h32rb17\"."
   ]
  },
  {
   "cell_type": "code",
   "execution_count": 11,
   "metadata": {},
   "outputs": [
    {
     "data": {
      "text/plain": [
       "['h', '3', '2', 'r', 'b', '1', '7']"
      ]
     },
     "execution_count": 11,
     "metadata": {},
     "output_type": "execute_result"
    }
   ],
   "source": [
    "import re\n",
    "re.findall(\"\\w\", \"h32rb17\")"
   ]
  },
  {
   "cell_type": "markdown",
   "metadata": {},
   "source": [
    "\n",
    "\n",
    "Because every character within this device ID is an alphanumeric character, Python returns a list with seven elements. Each element represents one of the characters in the device ID.\n",
    "\n",
    "You can use these additional symbols to match to specific kinds of characters:\n",
    "\n",
    "- . matches to all characters, including symbols\n",
    "- \\d matches to all single digits [0-9]\n",
    "- \\s matches to all single spaces \n",
    "- \\. matches to the period character\n",
    "\n",
    "The following code searches through the same device ID as the previous example but changes the regular expression pattern to \"\\d\". When you run it, it will return a different list:"
   ]
  },
  {
   "cell_type": "code",
   "execution_count": 12,
   "metadata": {},
   "outputs": [
    {
     "data": {
      "text/plain": [
       "['3', '2', '1', '7']"
      ]
     },
     "execution_count": 12,
     "metadata": {},
     "output_type": "execute_result"
    }
   ],
   "source": [
    "import re\n",
    "re.findall(\"\\d\", \"h32rb17\")"
   ]
  },
  {
   "cell_type": "markdown",
   "metadata": {},
   "source": [
    "This time, the list contains only four elements. Each element is one of the numeric digits in the string.\n",
    "\n",
    "##### Symbols to quantify occurrences\n",
    "\n",
    "Other symbols quantify the number of occurrences of a specific character in the pattern. In a regular expression pattern, you can add them after a character or a symbol identifying a character type to specify the number of repetitions that match to the pattern.\n",
    "\n",
    "For example, the + symbol represents one or more occurrences of a specific character. In the following example, the pattern places it after the \"\\d\" symbol to find matches to one or more occurrences of a single digit:"
   ]
  },
  {
   "cell_type": "code",
   "execution_count": 13,
   "metadata": {},
   "outputs": [
    {
     "data": {
      "text/plain": [
       "['32', '17']"
      ]
     },
     "execution_count": 13,
     "metadata": {},
     "output_type": "execute_result"
    }
   ],
   "source": [
    "import re\n",
    "re.findall(\"\\d+\", \"h32rb17\")"
   ]
  },
  {
   "cell_type": "markdown",
   "metadata": {},
   "source": [
    "With the regular expression \"\\d+\", the list contains the two matches of \"32\" and \"17\".\n",
    "\n",
    "Another symbol used to quantify the number of occurrences is the * symbol. The * symbol represents zero, one, or more occurrences of a specific character.  The following code substitutes the *  symbol for the + used in the previous example. You can run it to examine the difference:"
   ]
  },
  {
   "cell_type": "code",
   "execution_count": 14,
   "metadata": {},
   "outputs": [
    {
     "data": {
      "text/plain": [
       "['', '32', '', '', '17', '']"
      ]
     },
     "execution_count": 14,
     "metadata": {},
     "output_type": "execute_result"
    }
   ],
   "source": [
    "import re\n",
    "re.findall(\"\\d*\", \"h32rb17\")"
   ]
  },
  {
   "cell_type": "markdown",
   "metadata": {},
   "source": [
    "Because it also matches to zero occurrences, the list now contains empty strings for the characters that were not single digits.\n",
    "\n",
    "If you want to indicate a specific number of repetitions to allow, you can place this number in curly brackets ({ }) after the character or symbol. In the following example, the regular expression pattern \"\\d{2}\" instructs Python to return all matches of exactly two single digits in a row from a string of multiple device IDs:"
   ]
  },
  {
   "cell_type": "code",
   "execution_count": 15,
   "metadata": {},
   "outputs": [
    {
     "data": {
      "text/plain": [
       "['32', '17', '82', '29', '94']"
      ]
     },
     "execution_count": 15,
     "metadata": {},
     "output_type": "execute_result"
    }
   ],
   "source": [
    "import re\n",
    "re.findall(\"\\d{2}\", \"h32rb17 k825t0m c2994eh\")"
   ]
  },
  {
   "cell_type": "markdown",
   "metadata": {},
   "source": [
    "Because it is matching to two repetitions, when Python encounters a single digit, it checks whether there is another one following it. If there is, Python adds the two digits to the list and goes on to the next digit. If there isn't, it proceeds to the next digit without adding the first digit to the list.\n",
    "\n",
    "Note: Python scans strings left-to-right when matching against a regular expression. When Python finds a part of the string that matches the first expected character defined in the regular expression, it continues to compare the subsequent characters to the expected pattern. When the pattern is complete, it starts this process again. So in cases in which three digits appear in a row, it handles the third digit as a new starting digit.\n",
    "\n",
    "You can also specify a range within the curly brackets by separating two numbers with a comma. The first number is the minimum number of repetitions and the second number is the maximum number of repetitions. The following example returns all matches that have between one and three repetitions of a single digit:"
   ]
  },
  {
   "cell_type": "code",
   "execution_count": 16,
   "metadata": {},
   "outputs": [
    {
     "data": {
      "text/plain": [
       "['32', '17', '825', '0', '299', '4']"
      ]
     },
     "execution_count": 16,
     "metadata": {},
     "output_type": "execute_result"
    }
   ],
   "source": [
    "import re\n",
    "re.findall(\"\\d{1,3}\", \"h32rb17 k825t0m c2994eh\")"
   ]
  },
  {
   "cell_type": "markdown",
   "metadata": {},
   "source": [
    "The returned list contains elements of one digit like  \"0\", two digits like \"32\" and three digits like \"825\".\n",
    "\n",
    "##### Constructing a pattern\n",
    "\n",
    "Constructing a regular expression requires you to break down the pattern you're searching for into smaller chunks and represent those chunks using the symbols you've learned. Consider an example of a string that contains multiple pieces of information about employees at an organization. For each employee, the following string contains their employee ID, their username followed by a colon (:), their attempted logins for the day, and their department:\n",
    "\n",
    "`employee_logins_string = \"1001 bmoreno: 12 Marketing 1002 tshah: 7 Human Resources 1003 sgilmore: 5 Finance\"`\n",
    "\n",
    "Your task is to extract the username and the login attempts, without the employee's ID number or department.\n",
    "\n",
    "To complete this task with regular expressions, you need to break down what you're searching for into smaller components. In this case, those components are the varying number of characters in a username, a colon, a space, and a varying number of single digits. The corresponding regular expression symbols are \\w+, :, \\s, and \\d+ respectively. Using these symbols as your regular expression, you can run the following code to extract the strings:"
   ]
  },
  {
   "cell_type": "code",
   "execution_count": 17,
   "metadata": {},
   "outputs": [
    {
     "name": "stdout",
     "output_type": "stream",
     "text": [
      "['bmoreno: 12', 'tshah: 7', 'sgilmore: 5']\n"
     ]
    }
   ],
   "source": [
    "import re\n",
    "pattern = \"\\w+:\\s\\d+\"\n",
    "employee_logins_string = \"1001 bmoreno: 12 Marketing 1002 tshah: 7 Human Resources 1003 sgilmore: 5 Finance\"\n",
    "print(re.findall(pattern, employee_logins_string))"
   ]
  },
  {
   "cell_type": "markdown",
   "metadata": {},
   "source": [
    "Note: Working with regular expressions can carry the risk of returning unneeded information or excluding strings that you want to return. Therefore, it's useful to test your regular expressions.\n",
    "\n",
    "## Key takeaways\n",
    "\n",
    "Regular expressions allow you to search through strings to find matches to specific patterns. You can use regular expressions by importing the re module. This module contains multiple functions, including re.findall(), which returns all matches to a pattern in the form of a list. To form a pattern, you use characters and symbols. Symbols allow you to specify types of characters and to quantify how many repetitions of a character or type of character can occur in the pattern. \n"
   ]
  }
 ],
 "metadata": {
  "kernelspec": {
   "display_name": "Python 3",
   "language": "python",
   "name": "python3"
  },
  "language_info": {
   "codemirror_mode": {
    "name": "ipython",
    "version": 3
   },
   "file_extension": ".py",
   "mimetype": "text/x-python",
   "name": "python",
   "nbconvert_exporter": "python",
   "pygments_lexer": "ipython3",
   "version": "3.11.0"
  }
 },
 "nbformat": 4,
 "nbformat_minor": 2
}
