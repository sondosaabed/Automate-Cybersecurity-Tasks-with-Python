{
 "cells": [
  {
   "cell_type": "markdown",
   "metadata": {
    "id": "a3e8ad96"
   },
   "source": [
    "# Exemplar: Create a conditional statement"
   ]
  },
  {
   "cell_type": "markdown",
   "metadata": {
    "id": "KHyRsMAO1Zz2"
   },
   "source": [
    "## Introduction\n",
    "\n",
    "Conditional statements are a powerful structure that help in achieving automation when you need to make sure conditions are met before certain actions are executed. For example, security analysts can use conditional statements in Python to check if users are approved to access a device. \n",
    "\n",
    "In this lab, you will practice writing conditional statements in Python."
   ]
  },
  {
   "cell_type": "markdown",
   "metadata": {
    "id": "dd587165"
   },
   "source": [
    "<details><summary><h2>Tips for completing this lab</h2></summary>\n",
    "\n",
    "As you navigate this lab, keep the following tips in mind:\n",
    "\n",
    "- `### YOUR CODE HERE ###` indicates where you should write code. Be sure to replace this with your own code before running the code cell.\n",
    "- Feel free to open the hints for additional guidance as you work on each task. \n",
    "- To enter your answer to a question, double-click the markdown cell to edit. Be sure to replace the \"[Double-click to enter your responses here.]\" with your own answer.\n",
    "- You can save your work manually by clicking File and then Save in the menu bar at the top of the notebook. \n",
    "- You can download your work locally by clicking File and then Download and then specifying your preferred file format in the menu bar at the top of the notebook. \n",
    "</details>"
   ]
  },
  {
   "cell_type": "markdown",
   "metadata": {
    "id": "ALaLE1bw111w"
   },
   "source": [
    "## Scenario\n",
    "\n",
    "You're working as a security analyst. First, you are responsible for checking whether a user's operating system requires an update. Then, you need to investigate login attempts to a specific device. You must determine if login attempts were made by users approved to access this device and if the login attempts occurred during organization hours."
   ]
  },
  {
   "cell_type": "markdown",
   "metadata": {
    "id": "23c95356-a357-4401-aaf3-a15b696c5537"
   },
   "source": [
    "## Task 1    \n",
    "You are asked to help automate the process of checking whether a user's operating system requires an update. Imagine that a user's device can be running one of the following operating systems: OS 1, OS 2, or OS 3. While OS 2 is up-to-date, OS 1 and OS 3 are not. Your task is to check whether the user's system is up-to-date, and if it is, display a message accordingly. To do this, complete the conditional statement using the keyword `if`. Be sure to replace the `### YOUR CODE HERE ###` with your own code before you run the following cell."
   ]
  },
  {
   "cell_type": "code",
   "execution_count": 1,
   "metadata": {
    "colab": {
     "base_uri": "https://localhost:8080/"
    },
    "executionInfo": {
     "elapsed": 8,
     "status": "ok",
     "timestamp": 1675409433051,
     "user": {
      "displayName": "Lavanya Vijayan",
      "userId": "09394087000910120547"
     },
     "user_tz": 480
    },
    "id": "6de25674",
    "outputId": "1b41f47e-ca2f-4d6f-f480-255b87853804"
   },
   "outputs": [
    {
     "name": "stdout",
     "output_type": "stream",
     "text": [
      "no update needed\n"
     ]
    }
   ],
   "source": [
    "# Assign a variable named `system` to a specific operating system, represented as a string\n",
    "# This variable indicates which operating system is running\n",
    "\n",
    "system = \"OS 2\"\n",
    "\n",
    "# If OS 2 is running, then display a \"no update needed\" message\n",
    "\n",
    "if system == \"OS 2\":\n",
    "    print(\"no update needed\")\n",
    "    "
   ]
  },
  {
   "cell_type": "markdown",
   "metadata": {
    "id": "5feb3cea"
   },
   "source": [
    "<details>\n",
    "    <summary><h4><strong>Hint 1</strong></h4></summary>\n",
    "\n",
    "Use a comparison operator that will allow you to check whether the `system` is running `\"OS 2\"`.\n",
    "    \n",
    "</details>"
   ]
  },
  {
   "cell_type": "markdown",
   "metadata": {
    "id": "61e779d7"
   },
   "source": [
    "<details>\n",
    "    <summary><h4><strong>Hint 2</strong></h4></summary>\n",
    "\n",
    "Use the `==` comparison operator to check whether the `system` is running `\"OS 2\"`.\n",
    "    \n",
    "</details>"
   ]
  },
  {
   "cell_type": "markdown",
   "metadata": {
    "id": "19984c9e"
   },
   "source": [
    "## Task 2\n",
    "Now try assigning the `system` variable to different values (`\"OS 1\"`, `\"OS 2\"`, and `\"OS 3\"`), run the cell, and observe what happens. Keep the conditional statement as is. Be sure to replace the `### YOUR CODE HERE ###` with your own code."
   ]
  },
  {
   "cell_type": "code",
   "execution_count": 2,
   "metadata": {
    "id": "d77f8dae"
   },
   "outputs": [],
   "source": [
    "# Assign `system` to a specific operating system\n",
    "# This variable represents which operating system is running\n",
    "# Feel free to run this cell multiple times; each time try assigning `system` to different values (\"OS 1\", \"OS 2\", \"OS 3\") and observe the result\n",
    "\n",
    "system = \"OS 1\" \n",
    "\n",
    "# If OS 2 is running, then display a \"no update needed\" message\n",
    "\n",
    "if system == \"OS 2\":\n",
    "    print(\"no update needed\")\n",
    "    "
   ]
  },
  {
   "cell_type": "markdown",
   "metadata": {
    "id": "99a5403f"
   },
   "source": [
    "#### **Question 1**\n",
    "**What happens when OS 2 is running? What happens when OS 1 is running?**"
   ]
  },
  {
   "cell_type": "markdown",
   "metadata": {
    "id": "9f2fa87f"
   },
   "source": [
    "When OS 2 is running, `no update needed` is displayed. When OS 1 is running, nothing is displayed. The `print` statement above is only executed when the condition `system == \"OS 2\"` evaluates to `True`."
   ]
  },
  {
   "cell_type": "markdown",
   "metadata": {
    "id": "2f9b484c-85b7-46a2-bcdd-b4ba21741094"
   },
   "source": [
    "## Task 3\n",
    "\n",
    "Nothing is displayed when the `system` is not equal to `\"OS 2\"`. This is because the condition didn't evaluate to `True`.\n",
    "\n",
    "It would be beneficial if an alternative message is provided to them when updates are needed. \n",
    "\n",
    "In the following cell, add the appropriate keyword after the first conditional so that it will display a message that conveys that an update is needed when the `system` is not running OS 2. Be sure to replace each `### YOUR CODE HERE ###` with your own code.\n",
    "\n",
    "Then, set the value of the `system` variable to indicate that OS 2 is running and run the cell. After observing what happens, set the value of `system` to indicate either that OS 1 is running or that OS 3 is running and run the cell. "
   ]
  },
  {
   "cell_type": "code",
   "execution_count": 3,
   "metadata": {
    "colab": {
     "base_uri": "https://localhost:8080/"
    },
    "executionInfo": {
     "elapsed": 267,
     "status": "ok",
     "timestamp": 1675409433313,
     "user": {
      "displayName": "Lavanya Vijayan",
      "userId": "09394087000910120547"
     },
     "user_tz": 480
    },
    "id": "8f93d4f9",
    "outputId": "e79a2b33-b9f9-4153-d68c-1844a1bddf52"
   },
   "outputs": [
    {
     "name": "stdout",
     "output_type": "stream",
     "text": [
      "update needed\n"
     ]
    }
   ],
   "source": [
    "# Assign `system` to a specific operating system\n",
    "# This variable represents which operating system is running\n",
    "\n",
    "system = \"OS 3\"\n",
    "\n",
    "# If OS 2 is running, then display a \"no update needed\" message\n",
    "# Otherwise, display a \"update needed\" message\n",
    "\n",
    "if system == \"OS 2\":\n",
    "    print(\"no update needed\")\n",
    "else: \n",
    "    print(\"update needed\")\n",
    "    "
   ]
  },
  {
   "cell_type": "markdown",
   "metadata": {
    "id": "a69c0c7c"
   },
   "source": [
    "<details>\n",
    "    <summary><h4><strong>Hint 1</strong></h4></summary>\n",
    "\n",
    "Use the `else` keyword.\n",
    "    \n",
    "</details>"
   ]
  },
  {
   "cell_type": "markdown",
   "metadata": {
    "id": "9d7c15f6"
   },
   "source": [
    "#### **Question 2**\n",
    "**In this setup what happens when OS 2 is running? And what happens when OS 2 is not running?**"
   ]
  },
  {
   "cell_type": "markdown",
   "metadata": {
    "id": "d49b13ff"
   },
   "source": [
    "In this setup, when OS 2 is running, `no update needed` is displayed. And when OS 2 is not running, `update needed` is displayed."
   ]
  },
  {
   "cell_type": "markdown",
   "metadata": {
    "id": "8bfe6696"
   },
   "source": [
    "## Task 4\n",
    "\n",
    "This setup is still not ideal. If the variable `system` contains a random string or integer, the conditional above would still display `update needed`. \n",
    "\n",
    "To improve the conditional, you will need to add the `elif` keyword. In the following cell, you will add two `elif` statements after the `if` statement, to create the final code. The first `elif` statement will display `update needed` if `system` is `\"OS 1\"`. The second `elif` statement will display the same message, if `system` is `\"OS 3\"`. Complete the second `elif` statement, and then run the cell with the variable `system` set to a different string each time. Observe what happens when each operating system is running. Also try assigning the `system` variable to some strings other than `\"OS 1\"`, `\"OS 2\"`, and `\"OS 3\"` (for example `\"OS 4\"`). \n",
    "\n",
    "Be sure to replace each `### YOUR CODE HERE ###` with your own code."
   ]
  },
  {
   "cell_type": "code",
   "execution_count": 4,
   "metadata": {
    "id": "44d46c34"
   },
   "outputs": [],
   "source": [
    "# Assign `system` to a specific operating system\n",
    "# This variable represents which operating system is running\n",
    "\n",
    "system = \"OS 4\"\n",
    "\n",
    "# If OS 2 is running, then display a \"no update needed\" message\n",
    "# Otherwise if OS 1 is running, display a \"update needed\" message\n",
    "# Otherwise if OS 3 is running, display a \"update needed\" message\n",
    "\n",
    "if system == \"OS 2\":\n",
    "    print(\"no update needed\")\n",
    "elif system == \"OS 1\":\n",
    "    print(\"update needed\")\n",
    "elif system == \"OS 3\":\n",
    "    print(\"update needed\")\n",
    "    "
   ]
  },
  {
   "cell_type": "markdown",
   "metadata": {
    "id": "322fdf39"
   },
   "source": [
    "#### **Question 3**\n",
    "**Under this setup what happens when OS 2 is running? What happens when OS 1 is running? What happens when OS 3 is running? What happens when neither of those three operating systems are running?**"
   ]
  },
  {
   "cell_type": "markdown",
   "metadata": {
    "id": "7017ee16"
   },
   "source": [
    "Under this setup, when OS 2 is running, `no update needed` is displayed. When either OS 1 or OS 3 is running, `update needed` is displayed. When neither of those three operating systems are running, nothing is displayed."
   ]
  },
  {
   "cell_type": "markdown",
   "metadata": {
    "id": "b1c2f0ad"
   },
   "source": [
    "## Task 5\n",
    "Writing code that is readable and concise is a best practice in programming.\n",
    "\n",
    "The conditional above can be written more concisely. \n",
    "\n",
    "In the following cell, use a logical operator to combine the two `elif` statements from the previous setup into one `elif` statement. Be sure to replace each `### YOUR CODE HERE ###`. Then, assign the `system` variable to a value and run the cell. Like you did in the previous task, use `\"OS 1\"`, `\"OS 2\"`, `\"OS 3\"`, and other strings."
   ]
  },
  {
   "cell_type": "code",
   "execution_count": 5,
   "metadata": {
    "id": "adeacdd1"
   },
   "outputs": [],
   "source": [
    "# Assign `system` to a specific operating system\n",
    "# This variable represents which operating system is running\n",
    "\n",
    "system = \"OS 4\"\n",
    "\n",
    "# If OS 2 is running, then display a \"no update needed\" message\n",
    "# Otherwise if either OS 1 or OS 3 is running, display a \"update needed\" message\n",
    "\n",
    "if system == \"OS 2\":\n",
    "    print(\"no update needed\")\n",
    "elif system == \"OS 1\" or system == \"OS 3\": \n",
    "    print(\"update needed\")\n",
    "    "
   ]
  },
  {
   "cell_type": "markdown",
   "metadata": {
    "id": "b9e3cbeb"
   },
   "source": [
    "<details>\n",
    "    <summary><h4><strong>Hint 1</strong></h4></summary>\n",
    "\n",
    "Use the `or` logical operator.\n",
    "    \n",
    "</details>"
   ]
  },
  {
   "cell_type": "markdown",
   "metadata": {
    "id": "61a49371"
   },
   "source": [
    "<details>\n",
    "    <summary><h4><strong>Hint 2</strong></h4></summary>\n",
    "\n",
    "Use the `or` operator between two conditions that each use the `==` operator.\n",
    "    \n",
    "</details>"
   ]
  },
  {
   "cell_type": "markdown",
   "metadata": {
    "id": "d499bc7b"
   },
   "source": [
    "#### **Question 4**\n",
    "**What do you observe about this conditional?**"
   ]
  },
  {
   "cell_type": "markdown",
   "metadata": {
    "id": "b569efad"
   },
   "source": [
    "This conditional behaves the same way as the previous conditional. The only difference is that the syntax in this conditional is more concise. The use of the `or` operator allows you to combine the two conditions into one `elif` statement, which is more concise than having the two separate `elif` statements that were written previously. "
   ]
  },
  {
   "cell_type": "markdown",
   "metadata": {
    "id": "eFvoDtdsCcYo"
   },
   "source": [
    "## Task 6\n",
    "Now you'll move on to the next part of your work. You've been asked to investigate login attempts to a specific device. Only approved users should log on to this device.\n",
    "\n",
    "You'll start with two authorized users, stored in the variables `approved_user1` and `approved_user2`. You'll need to write a conditional statement that compares those variables to a third variable, `username`.  This will be the username of a specific user trying to log in. Be sure to replace each `### YOUR CODE HERE ###` with your own code."
   ]
  },
  {
   "cell_type": "code",
   "execution_count": 6,
   "metadata": {
    "colab": {
     "base_uri": "https://localhost:8080/"
    },
    "executionInfo": {
     "elapsed": 10,
     "status": "ok",
     "timestamp": 1675409433314,
     "user": {
      "displayName": "Lavanya Vijayan",
      "userId": "09394087000910120547"
     },
     "user_tz": 480
    },
    "id": "9543e585",
    "outputId": "9d9d4796-4e1f-441b-f749-b1e3ee17128b"
   },
   "outputs": [
    {
     "name": "stdout",
     "output_type": "stream",
     "text": [
      "This user has access to this device.\n"
     ]
    }
   ],
   "source": [
    "# Assign `approved_user1` and `approved_user2` to usernames of approved users \n",
    "\n",
    "approved_user1 = \"elarson\"\n",
    "approved_user2 = \"bmoreno\"\n",
    "\n",
    "# Assign `username` to the username of a specific user trying to log in \n",
    "\n",
    "username = \"bmoreno\" \n",
    "\n",
    "# If the user trying to log in is among the approved users, then display a message that they are approved to access this device\n",
    "# Otherwise, display a message that they do not have access to this device\n",
    "\n",
    "if username == approved_user1 or username == approved_user2:\n",
    "    print(\"This user has access to this device.\")\n",
    "else: \n",
    "    print(\"This user does not have access to this device.\")\n",
    "    "
   ]
  },
  {
   "cell_type": "markdown",
   "metadata": {
    "id": "c8bd427d"
   },
   "source": [
    "<details>\n",
    "    <summary><h4><strong>Hint 1</strong></h4></summary>\n",
    "\n",
    "Use the `if` keyword in the first conditional statement and the `else` keyword in the second conditional statement. Make sure both statements end with the proper syntax of a colon (`:`).\n",
    "    \n",
    "</details>"
   ]
  },
  {
   "cell_type": "markdown",
   "metadata": {
    "id": "7b7b7e49"
   },
   "source": [
    "<details>\n",
    "    <summary><h4><strong>Hint 2</strong></h4></summary>\n",
    "\n",
    "Use a comparison operator that will allow you to check whether the user trying to log in is an approved user.  \n",
    "    \n",
    "</details>"
   ]
  },
  {
   "cell_type": "markdown",
   "metadata": {
    "id": "3365c03a"
   },
   "source": [
    "<details>\n",
    "    <summary><h4><strong>Hint 3</strong></h4></summary>\n",
    "\n",
    "Use the `==` comparison operator to check whether the user trying to log in is an approved user.  \n",
    "    \n",
    "</details>"
   ]
  },
  {
   "cell_type": "markdown",
   "metadata": {
    "id": "563f6d9c"
   },
   "source": [
    "## Task 7\n",
    "The number of approved users has now expanded to five. Rather than storing each of the approved users' usernames individually, it would be more concise to store them in an allow list called `approved_list`.\n",
    "\n",
    "The `in` operator in Python can be used to determine whether a given value is an element of a sequence. Using the `in` operator in a condition can help you check whether a specific username is part of a list of approved usernames. For example, in the code below, `username in approved_list` evaluates to `True` if the value of the `username` variable is included in `approved_list`.\n",
    "\n",
    "Complete the code in the following cell to display the same messages that you used in the previous step. When the condition evaluates to `True`, the following message will be displayed: `\"This user has access to this device.\"` When it evaluates to `False`, the following message will be displayed: `\"This user does not have access to this device.\"` Then, run the cell to observe its behavior. Be sure to replace each `### YOUR CODE HERE ###` with your own code. Afterwards, reassign the `username` variable to a username that is not approved and run the cell to observe what happens."
   ]
  },
  {
   "cell_type": "code",
   "execution_count": 7,
   "metadata": {
    "colab": {
     "base_uri": "https://localhost:8080/"
    },
    "executionInfo": {
     "elapsed": 9,
     "status": "ok",
     "timestamp": 1675409433314,
     "user": {
      "displayName": "Lavanya Vijayan",
      "userId": "09394087000910120547"
     },
     "user_tz": 480
    },
    "id": "a9e2a586",
    "outputId": "14464f98-56b2-4ffc-d067-402e35131334"
   },
   "outputs": [
    {
     "name": "stdout",
     "output_type": "stream",
     "text": [
      "This user does not have access to this device.\n"
     ]
    }
   ],
   "source": [
    "# Assign `approved_list` to a list of approved usernames\n",
    "\n",
    "approved_list = [\"elarson\", \"bmoreno\", \"tshah\", \"sgilmore\", \"eraab\"]\n",
    "\n",
    "# Assign `username` to the username of a specific user trying to log in \n",
    "\n",
    "username = \"jhill\" \n",
    "\n",
    "# If the user trying to log in is among the approved users, then display a message that they are approved to access this device\n",
    "# Otherwise, display a message that they do not have access to this device\n",
    "\n",
    "if username in approved_list:\n",
    "    print(\"This user has access to this device.\")\n",
    "else: \n",
    "    print(\"This user does not have access to this device.\")\n",
    "    "
   ]
  },
  {
   "cell_type": "markdown",
   "metadata": {
    "id": "47d653b4"
   },
   "source": [
    "<details>\n",
    "    <summary><h4><strong>Hint 1</strong></h4></summary>\n",
    "\n",
    "Use the `else` keyword in the second conditional statement.\n",
    "    \n",
    "</details>"
   ]
  },
  {
   "cell_type": "markdown",
   "metadata": {
    "id": "a7e25e77"
   },
   "source": [
    "<details>\n",
    "    <summary><h4><strong>Hint 2</strong></h4></summary>\n",
    "\n",
    "Use the `print()` function to display messages. \n",
    "    \n",
    "</details>"
   ]
  },
  {
   "cell_type": "markdown",
   "metadata": {
    "id": "b66c64c8"
   },
   "source": [
    "#### **Question 5**\n",
    "**What happens when an approved user tries to log in? What happens when an unapproved user tries to log in?**"
   ]
  },
  {
   "cell_type": "markdown",
   "metadata": {
    "id": "37aefacb"
   },
   "source": [
    "When an approved user tries to log in, `\"This user has access to this device.\"` is displayed. When an unapproved user tries to log in, `\"This user does not have access to this device.\"` is displayed."
   ]
  },
  {
   "cell_type": "markdown",
   "metadata": {
    "id": "0b96ec83-8980-48e8-ac98-1cd7ef7af526"
   },
   "source": [
    "## Task 8\n",
    "\n",
    "Now you'll write another conditional statement. This one will use a `organization_hours` variable to check if the user logged in during specific organization hours. When that condition is met, the code should display the string `\"Login attempt made during organization hours.\"`. When that condition isn't met, the code should display the string `\"Login attempt made outside of organization hours.\"`. \n",
    "\n",
    "The `organization_hours` variable will have a Boolean data type. If `organization_hours` has a Boolean value of `True`, that means the user is logged in during the specified organization hours. If `organization_hours` has a Boolean value of `False`, that means the user is not logged in during those hours.\n",
    "\n",
    "Complete the conditional in the following cell. Be sure to replace each `### YOUR CODE HERE ###` with your own code before running the following cell."
   ]
  },
  {
   "cell_type": "code",
   "execution_count": 8,
   "metadata": {
    "colab": {
     "base_uri": "https://localhost:8080/"
    },
    "executionInfo": {
     "elapsed": 7,
     "status": "ok",
     "timestamp": 1675409433314,
     "user": {
      "displayName": "Lavanya Vijayan",
      "userId": "09394087000910120547"
     },
     "user_tz": 480
    },
    "id": "4ddfba9a",
    "outputId": "4c702bf4-30ec-4f77-96f4-58d8fab3ba30"
   },
   "outputs": [
    {
     "name": "stdout",
     "output_type": "stream",
     "text": [
      "Login attempt made during organization hours.\n"
     ]
    }
   ],
   "source": [
    "# Assign `organization_hours` to a Boolean value that represents whether the user is trying to log in during organization hours\n",
    "\n",
    "organization_hours = True\n",
    "\n",
    "# If the entered `organization_hours` has a value of True, then display \"Login attempt made during organization hours.\"\n",
    "# Otherwise, display \"Login attempt made outside of organization hours.\"\n",
    "\n",
    "if organization_hours == True:\n",
    "    print(\"Login attempt made during organization hours.\")\n",
    "else:\n",
    "    print(\"Login attempt made outside of organization hours.\")\n",
    "    "
   ]
  },
  {
   "cell_type": "markdown",
   "metadata": {
    "id": "ab9db739-c9cd-42d6-bfa6-43ab225506e7",
    "tags": []
   },
   "source": [
    "<details>\n",
    "    <summary><h4><strong>Hint 1</strong></h4></summary>\n",
    "\n",
    "Use the `==` comparison operator to check whether the user is logged in during the specified organization hours. Compare `organization_hours` to the appropriate Boolean value.\n",
    "    \n",
    "</details>"
   ]
  },
  {
   "cell_type": "markdown",
   "metadata": {
    "id": "b554b56d-7c8e-4b7b-9504-a6c42f1dded9"
   },
   "source": [
    "<details>\n",
    "    <summary><h4><strong>Hint 2</strong></h4></summary>\n",
    "\n",
    "Use the `print()` function to display messages. \n",
    "    \n",
    "</details>"
   ]
  },
  {
   "cell_type": "markdown",
   "metadata": {
    "id": "1e79e5fe-90a2-4eec-bfd7-80b35f3aa995"
   },
   "source": [
    "<details>\n",
    "    <summary><h4><strong>Hint 3</strong></h4></summary>\n",
    "\n",
    "Use the `else` keyword in the second conditional statement.\n",
    "    \n",
    "</details>"
   ]
  },
  {
   "cell_type": "markdown",
   "metadata": {
    "id": "ab86c0a8-ba6e-4e6c-9cd3-3a5cccda6941"
   },
   "source": [
    "#### **Question 6**\n",
    "**What happens when the user logs in during organization hours? What happens when they log in outside of organization hours?**"
   ]
  },
  {
   "cell_type": "markdown",
   "metadata": {
    "id": "f41b1d9a"
   },
   "source": [
    "When the user logs in during organization hours, the condition in the `if` statement evaluates to `True`, and a message about login attempt during organization hours is displayed. When the user logs in outside of organization hours, the condition in the `if` statement evaluates to `False`. This means the `else` statement is executed, and a message about login attempt outside of organization hours is displayed."
   ]
  },
  {
   "cell_type": "markdown",
   "metadata": {
    "id": "af03a37c-7452-4fbb-b72f-ee355a1537b1"
   },
   "source": [
    "## Task 9\n",
    "The following cell assembles the code from the previous tasks. It includes the conditional statement that checks if a user is on the allow list and the conditional statement that checks if the user logged in during organization hours.\n",
    "\n",
    "Run the cell below a few times. Each time, enter a different combination of values for `username` and `organization_hours` to observe how that affects the output."
   ]
  },
  {
   "cell_type": "code",
   "execution_count": 9,
   "metadata": {
    "colab": {
     "base_uri": "https://localhost:8080/"
    },
    "executionInfo": {
     "elapsed": 6,
     "status": "ok",
     "timestamp": 1675409433315,
     "user": {
      "displayName": "Lavanya Vijayan",
      "userId": "09394087000910120547"
     },
     "user_tz": 480
    },
    "id": "226a807c",
    "outputId": "07eb2226-3e19-41ad-f984-e50e595b45f2"
   },
   "outputs": [
    {
     "name": "stdout",
     "output_type": "stream",
     "text": [
      "This user has access to this device.\n",
      "Login attempt made during organization hours.\n"
     ]
    }
   ],
   "source": [
    "# Assign `approved_list` to a list of approved usernames\n",
    "\n",
    "approved_list = [\"elarson\", \"bmoreno\", \"tshah\", \"sgilmore\", \"eraab\"]\n",
    "\n",
    "# Assign `username` to the username of a specific user trying to log in \n",
    "\n",
    "username = \"bmoreno\" \n",
    "\n",
    "# If the user trying to log in is among the approved users, then display a message that they are approved to access this device\n",
    "# Otherwise, display a message that they do not have access to this device\n",
    "\n",
    "if username in approved_list:\n",
    "    print(\"This user has access to this device.\")\n",
    "\n",
    "else:\n",
    "    print(\"This user does not have access to this device.\")\n",
    "\n",
    "# Assign `organization_hours` to a Boolean value that represents whether the user is trying to log in during organization hours\n",
    "\n",
    "organization_hours = True\n",
    "\n",
    "# If the entered `organization_hours` has a value of True, then display \"Login attempt made during organization hours.\"\n",
    "# Otherwise, display \"Login attempt made outside of organization hours.\"\n",
    "\n",
    "if organization_hours == True:\n",
    "    print(\"Login attempt made during organization hours.\")\n",
    "else:\n",
    "    print(\"Login attempt made outside of organization hours.\") \n",
    "    "
   ]
  },
  {
   "cell_type": "markdown",
   "metadata": {
    "id": "bc27d305-0f83-4f67-974c-5466d5bdd5b2"
   },
   "source": [
    "#### **Question 7**\n",
    "**What happens when the user trying to log in is not among the approved users? What happens when the user trying to log in is among the approved users? What happens when the user tries to log in outside of organization hours?**"
   ]
  },
  {
   "cell_type": "markdown",
   "metadata": {
    "id": "12c0dae6"
   },
   "source": [
    "When the user trying to log in is not among the approved users, a message is displayed about the user not having access to the device. The code then goes on to check whether the user attempted to log in during organization hours.\n",
    "\n",
    "When the user trying to log in is among the approved users, a message is displayed about the user having access to the device and then the code checks whether they attempted to log in during organization hours. When the user trying to log in is doing so outside of organization hours, a message is displayed about login attempt outside of organization hours."
   ]
  },
  {
   "cell_type": "markdown",
   "metadata": {
    "id": "2de9d7a0"
   },
   "source": [
    "## Task 10\n",
    "You can also provide a single message about the login attempt. To do this, you can join both conditions into a single conditional statement using a logical operator. This will make the code more concise.\n",
    "\n",
    "Examine the code in the following cell and add the missing operator that would allow for a single message. Be sure to replace each `### YOUR CODE HERE ###` with your own code before running the following cell. Then run the cell, entering different combinations of information, and observe what happens."
   ]
  },
  {
   "cell_type": "code",
   "execution_count": 10,
   "metadata": {
    "colab": {
     "base_uri": "https://localhost:8080/"
    },
    "executionInfo": {
     "elapsed": 5,
     "status": "ok",
     "timestamp": 1675409433315,
     "user": {
      "displayName": "Lavanya Vijayan",
      "userId": "09394087000910120547"
     },
     "user_tz": 480
    },
    "id": "344272b2-62c6-4264-bf08-92f1bdd5e427",
    "outputId": "548a3966-c3f3-4ad0-8eca-03f7b006c667"
   },
   "outputs": [
    {
     "name": "stdout",
     "output_type": "stream",
     "text": [
      "Login attempt made by an approved user during organization hours.\n"
     ]
    }
   ],
   "source": [
    "# Assign `approved_list` to a list of approved usernames\n",
    "\n",
    "approved_list = [\"elarson\", \"bmoreno\", \"tshah\", \"sgilmore\", \"eraab\"]\n",
    "\n",
    "# Assign `username` to the username of a specific user trying to log in \n",
    "\n",
    "username = \"bmoreno\" \n",
    "\n",
    "# Assign `organization_hours` to a Boolean value that represents whether the user is trying to log in during organization hours\n",
    "\n",
    "organization_hours = True\n",
    "\n",
    "# If the user is among the approved users and they are logging in during organization hours, then convey that the user is logged in\n",
    "# Otherwise, convey that either the username is not approved or the login attempt was made outside of organization hours\n",
    " \n",
    "if username in approved_list and organization_hours == True:\n",
    "    print(\"Login attempt made by an approved user during organization hours.\")\n",
    "else:\n",
    "    print(\"Username not approved or login attempt made outside of organization hours.\")\n",
    "    "
   ]
  },
  {
   "cell_type": "markdown",
   "metadata": {
    "id": "c81ed5a4-ed12-4edb-ad2b-15336c109781"
   },
   "source": [
    "<details>\n",
    "    <summary><h4><strong>Hint 1</strong></h4></summary>\n",
    "\n",
    "Use the logical operator that would allow you to check both conditions in the `if` statement (the condition that the entered username is in the approved list and the condition that the login attempt is occurring during organization hours).\n",
    "    \n",
    "</details>"
   ]
  },
  {
   "cell_type": "markdown",
   "metadata": {
    "id": "b7350e34-eb7d-463b-bbc5-d1a163e462bc"
   },
   "source": [
    "<details>\n",
    "    <summary><h4><strong>Hint 2</strong></h4></summary>\n",
    "\n",
    "Use the `and` logical operator to check both conditions in the `if` statement (the condition that the entered username is in the approved list and the condition that the login attempt is occurring during organization hours).\n",
    "    \n",
    "</details>"
   ]
  },
  {
   "cell_type": "markdown",
   "metadata": {
    "id": "f0cdb730"
   },
   "source": [
    "#### **Question 8**\n",
    "**In this setup, what happens when the user trying to log in is an approved user and doing so during organization hours? What happens when the user either is not approved or attempts to log in outside of organization hours?**"
   ]
  },
  {
   "cell_type": "markdown",
   "metadata": {
    "id": "7ac8c8c6"
   },
   "source": [
    "In this setup, when the user is approved and attempts to log in during organization hours, the message `\"Login attempt made by an approved user during organization hours.\"` is displayed. If the user is either not approved or attempts to log in outside of organization hours, the message `\"Username not approved or login attempt made outside of organization hours.\"` is displayed. This code checks the same conditions as the code in the previous task. However, it joins them into one `if` statement, and both `username` and `organization_hours` are investigated before a single message is displayed."
   ]
  },
  {
   "cell_type": "markdown",
   "metadata": {
    "id": "39b25c13"
   },
   "source": [
    "## Conclusion\n",
    "**What are your key takeaways from this lab?**\n",
    "*   Conditional statements, comparison operators, and logical operators play a major role in automating important processes to maintain security, such as detecting when a user's operating system requires updates and detecting when a user is allowed to access a device. \n",
    "*   Conditional statements allow you to determine whether a specific set of conditions has been met. \n",
    "*   Comparison operators allow you to compare pairs of values. Specifically, the `==` operator allows you to determine whether one value is equal to another.\n",
    "*   Logical operators such as `and` and `or` allow you to check more than one condition at a time.\n",
    "\n",
    "\n",
    "\n"
   ]
  }
 ],
 "metadata": {
  "colab": {
   "provenance": [
    {
     "file_id": "1iWn3JNPPBvsHRSvEKMGIaN8d9PB5H8T0",
     "timestamp": 1667953385116
    }
   ]
  },
  "kernelspec": {
   "display_name": "Python 3",
   "language": "python",
   "name": "python3"
  },
  "language_info": {
   "codemirror_mode": {
    "name": "ipython",
    "version": 3
   },
   "file_extension": ".py",
   "mimetype": "text/x-python",
   "name": "python",
   "nbconvert_exporter": "python",
   "pygments_lexer": "ipython3",
   "version": "3.7.6"
  }
 },
 "nbformat": 4,
 "nbformat_minor": 5
}
