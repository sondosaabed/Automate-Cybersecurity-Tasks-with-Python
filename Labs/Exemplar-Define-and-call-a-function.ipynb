{
 "cells": [
  {
   "cell_type": "markdown",
   "metadata": {
    "id": "ISr45HAPh1Xq"
   },
   "source": [
    "# Exemplar: Define and call a function"
   ]
  },
  {
   "cell_type": "markdown",
   "metadata": {
    "id": "kRU7MObZEY36"
   },
   "source": [
    "## Introduction\n",
    "\n",
    "As a security analyst, when you're writing out Python code to automate a certain task, you'll often find yourself needing to reuse the same block of code more than once. This is why functions are important. You can call that function whenever you need the computer to execute those steps. Python not only has built-in functions that have already been defined, but also provides the tools for users to define their own functions. Security analysts often define and call functions in Python to automate series of tasks. \n",
    "\n",
    "In this lab, you'll practice defining and calling functions in Python."
   ]
  },
  {
   "cell_type": "markdown",
   "metadata": {
    "id": "bM8zStFIWIkI"
   },
   "source": [
    "<details><summary><h2>Tips for completing this lab</h2></summary>\n",
    "\n",
    "As you navigate this lab, keep the following tips in mind:\n",
    "\n",
    "- `### YOUR CODE HERE ###` indicates where you should write code. Be sure to replace this with your own code before running the code cell.\n",
    "- Feel free to open the hints for additional guidance as you work on each task. \n",
    "- To enter your answer to a question, double-click the markdown cell to edit. Be sure to replace the \"[Double-click to enter your responses here.]\" with your own answer.\n",
    "- You can save your work manually by clicking File and then Save in the menu bar at the top of the notebook. \n",
    "- You can download your work locally by clicking File and then Download and then specifying your preferred file format in the menu bar at the top of the notebook. \n",
    "</details>"
   ]
  },
  {
   "cell_type": "markdown",
   "metadata": {
    "id": "A8q3M1L7isIj"
   },
   "source": [
    "## Scenario\n",
    "Writing functions in Python is a useful skill in your work as a security analyst. In this lab, you'll define and a call a function that displays an alert about a potential security issue. Also, you'll work with a list of employee usernames, creating a function that converts the list into one string."
   ]
  },
  {
   "cell_type": "markdown",
   "metadata": {
    "id": "7kVc1buv_XBG"
   },
   "source": [
    "## Task 1\n",
    "\n",
    "The following code cell contains a user-defined function named `alert()`. \n",
    "\n",
    "For this task, analyze the function definition, and make note of your observations. \n",
    "\n",
    "You won't need to run the cell in order to answer the question that follows. But if you do run the cell, note that it will not produce an output because the function is just being defined here. "
   ]
  },
  {
   "cell_type": "code",
   "execution_count": 1,
   "metadata": {
    "id": "MIWcP2bq_R-V"
   },
   "outputs": [],
   "source": [
    "# Define a function named `alert()` \n",
    "\n",
    "def alert():\n",
    "    print(\"Potential security issue. Investigate further.\")"
   ]
  },
  {
   "cell_type": "markdown",
   "metadata": {
    "id": "N4iCk5h-BEW4"
   },
   "source": [
    "<details>\n",
    "  <summary><h4><strong>Hint 1</strong></h4></summary>\n",
    "\n",
    "When analyzing the function definition, make sure to observe the function body, which is the indented block of code after the function header. The function body tells you what the function does.\n",
    "\n",
    "</details>"
   ]
  },
  {
   "cell_type": "markdown",
   "metadata": {
    "id": "lf8YCFRMDL38"
   },
   "source": [
    "#### **Question 1**\n",
    "Summarize what the user-defined function above does in your own words. Think about what the output would be if this function were called."
   ]
  },
  {
   "cell_type": "markdown",
   "metadata": {
    "id": "a7vMMCj0FG-n"
   },
   "source": [
    "The `alert()` function displays the string `\"Potential security issue. Investigate further.\"` to the screen. This function can be used to inform security analysts about potential security issues in a system. If this function were called, the output would show `Potential security issue. Investigate further.`. Recall that when a string is displayed, the quotes around the string do not appear in the output."
   ]
  },
  {
   "cell_type": "markdown",
   "metadata": {
    "id": "1MK0FV0nDk7n"
   },
   "source": [
    "## Task 2\n",
    "\n",
    "For this task, call the `alert()` function that was defined earlier and analyze the output. \n",
    "\n",
    "Be sure to replace the `### YOUR CODE HERE ###` with your own code before running the following cell."
   ]
  },
  {
   "cell_type": "code",
   "execution_count": 2,
   "metadata": {
    "id": "k66b_dwhDkRU"
   },
   "outputs": [
    {
     "name": "stdout",
     "output_type": "stream",
     "text": [
      "Potential security issue. Investigate further.\n"
     ]
    }
   ],
   "source": [
    "# Define a function named `alert()` \n",
    "\n",
    "def alert():\n",
    "    print(\"Potential security issue. Investigate further.\")\n",
    "\n",
    "# Call the `alert()` function\n",
    "\n",
    "alert()"
   ]
  },
  {
   "cell_type": "markdown",
   "metadata": {
    "id": "nLaEnEsaa0Nf"
   },
   "source": [
    "<details>\n",
    "  <summary><h4><strong>Hint 1</strong></h4></summary>\n",
    "\n",
    "To call the function, write `alert()` after the function definition. Note that the function can be called only after it's defined. \n",
    "\n",
    "</details>"
   ]
  },
  {
   "cell_type": "markdown",
   "metadata": {
    "id": "E9wvcRm1ayLf"
   },
   "source": [
    "#### **Question 2**\n",
    "What are the advantages of placing this code in a function rather than running it directly?"
   ]
  },
  {
   "cell_type": "markdown",
   "metadata": {
    "id": "KmJpRu8BayLf"
   },
   "source": [
    "Placing the code in a function allows you to effeciently reuse the code. Whenever you need to display the messages about a potential security issue and further investigation, you can just call the `alert()` function. The alternative would be to write out that `print()` statement every time, which would be tedious."
   ]
  },
  {
   "cell_type": "markdown",
   "metadata": {
    "id": "1VddrUV7fo-C"
   },
   "source": [
    "## Task 3\n",
    "\n",
    "Functions can include other components that you've already worked with. The following code cell contains a variation of the `alert()` function that now uses a `for` loop to display the alert message multiple times.\n",
    "\n",
    "For this task, call the new `alert()` function and observe the output. \n",
    "\n",
    "Be sure to replace the `### YOUR CODE HERE ###` with your own code before running the following cell."
   ]
  },
  {
   "cell_type": "code",
   "execution_count": 3,
   "metadata": {
    "id": "2REO611jgVUB"
   },
   "outputs": [
    {
     "name": "stdout",
     "output_type": "stream",
     "text": [
      "Potential security issue. Investigate further.\n",
      "Potential security issue. Investigate further.\n",
      "Potential security issue. Investigate further.\n"
     ]
    }
   ],
   "source": [
    "# Define a function named `alert()`\n",
    "\n",
    "def alert(): \n",
    "    for i in range(3):\n",
    "        print(\"Potential security issue. Investigate further.\")\n",
    "\n",
    "# Call the `alert()` function\n",
    "\n",
    "alert()"
   ]
  },
  {
   "cell_type": "markdown",
   "metadata": {
    "id": "CdN6iNlvmMsb"
   },
   "source": [
    "<details>\n",
    "  <summary><h4><strong>Hint 1</strong></h4></summary>\n",
    "\n",
    "To call the function, write `alert()` after the function definition. Note that the function can be called only after it's defined. \n",
    "\n",
    "</details>"
   ]
  },
  {
   "cell_type": "markdown",
   "metadata": {
    "id": "zk8dwl4bmczd"
   },
   "source": [
    "#### **Question 3**\n",
    "How does the output above compare to the output from calling the previous version of the `alert()` function? How are the two definitions of the function different?"
   ]
  },
  {
   "cell_type": "markdown",
   "metadata": {
    "id": "WIRg-R0Nmczd"
   },
   "source": [
    "The output shows `Potential security issue. Investigate further.` three times, each time appearing on a new line. Meanwhile, the output from calling the previous version of `alert()` shows the message only once. The difference in behavior is due to the `for` loop used in the second version. This loop iterates over a range of numbers (specified by `range(3)`) and executes a `print()` statement in each iteration. This `print()` statement is the same as the one in the previous function definition."
   ]
  },
  {
   "cell_type": "markdown",
   "metadata": {
    "id": "nXECRImqRzzb"
   },
   "source": [
    "## Task 4\n",
    "\n",
    "In the next part of your work, you're going to work with a list of approved usernames, representing users who can enter a system. You'll be developing a function that helps you convert the list of approved usernames into one big string. Structuring this data differently enables you to work with it in different ways. For example, structuring the usernames as a list allows you to easily add or remove a username from it. In contrast, structuring it as a string allows you to easily place its contents into a text file.  \n",
    "\n",
    "For this task, start defining a function named `list_to_string()`. Write the function header. \n",
    "\n",
    "Be sure to replace the `### YOUR CODE HERE ###` with your own code. Note that running this cell will produce an error since this cell will just contain the function header; you'll write the function body and complete the function definition in a later task."
   ]
  },
  {
   "cell_type": "code",
   "execution_count": 4,
   "metadata": {
    "id": "fw6v2A74R0ck"
   },
   "outputs": [
    {
     "ename": "SyntaxError",
     "evalue": "unexpected EOF while parsing (<ipython-input-4-f359e12ed06d>, line 3)",
     "output_type": "error",
     "traceback": [
      "\u001b[0;36m  File \u001b[0;32m\"<ipython-input-4-f359e12ed06d>\"\u001b[0;36m, line \u001b[0;32m3\u001b[0m\n\u001b[0;31m    def list_to_string():\u001b[0m\n\u001b[0m                         ^\u001b[0m\n\u001b[0;31mSyntaxError\u001b[0m\u001b[0;31m:\u001b[0m unexpected EOF while parsing\n"
     ]
    }
   ],
   "source": [
    "# Define a function named `list_to_string()`\n",
    "\n",
    "def list_to_string():"
   ]
  },
  {
   "cell_type": "markdown",
   "metadata": {
    "id": "ccGeXp9er_IU"
   },
   "source": [
    "<details>\n",
    "  <summary><h4><strong>Hint 1</strong></h4></summary>\n",
    "\n",
    "To write the function header, start with the `def` keyword, followed by the name of the function, parentheses, and a colon. \n",
    "\n",
    "</details>"
   ]
  },
  {
   "cell_type": "markdown",
   "metadata": {
    "id": "yAwUDAHpsXS4"
   },
   "source": [
    "## Task 5\n",
    "\n",
    "Now you'll begin to develop the body of the `list_to_string()` function.  \n",
    "\n",
    "In the following code cell, you're provided a list of approved usernames, stored in a variable named `username_list`. Your task is to complete the body of the `list_to_string()` function. Recall that the body of a function must be indented. To complete the function body, write a loop that iterates through the elements of the `username_list` and displays each element. Then, call the function and run the cell to observe what happens. \n",
    "\n",
    "Be sure to replace each `### YOUR CODE HERE ###` with your own code before running the following cell."
   ]
  },
  {
   "cell_type": "code",
   "execution_count": 5,
   "metadata": {
    "id": "lfwM_xWfsK0C"
   },
   "outputs": [
    {
     "name": "stdout",
     "output_type": "stream",
     "text": [
      "elarson\n",
      "bmoreno\n",
      "tshah\n",
      "sgilmore\n",
      "eraab\n",
      "gesparza\n",
      "alevitsk\n",
      "wjaffrey\n"
     ]
    }
   ],
   "source": [
    "# Define a function named `list_to_string()`\n",
    "\n",
    "def list_to_string():\n",
    "\n",
    "  # Store the list of approved usernames in a variable named `username_list`\n",
    "\n",
    "  username_list = [\"elarson\", \"bmoreno\", \"tshah\", \"sgilmore\", \"eraab\", \"gesparza\", \"alevitsk\", \"wjaffrey\"]\n",
    "\n",
    "  # Write a for loop that iterates through the elements of `username_list` and displays each element\n",
    "\n",
    "  for i in username_list:\n",
    "    print(i)\n",
    "\n",
    "# Call the `list_to_string()` function\n",
    "\n",
    "list_to_string()"
   ]
  },
  {
   "cell_type": "markdown",
   "metadata": {
    "id": "Ce6YR4gcti83"
   },
   "source": [
    "<details>\n",
    "  <summary><h4><strong>Hint 1</strong></h4></summary>\n",
    "\n",
    "The `for` loop in the body of the `list_to_string()` function must iterate through the elements of `username_list`. So, use the `username_list` variable to complete the `for` loop condition.\n",
    "\n",
    "</details>"
   ]
  },
  {
   "cell_type": "markdown",
   "metadata": {
    "id": "sLxLO_Ymv03w"
   },
   "source": [
    "<details>\n",
    "  <summary><h4><strong>Hint 2</strong></h4></summary>\n",
    "\n",
    "In each iteration of the `for` loop, an element of `username_list` should be displayed. The loop variable `i` represents each element of `username_list`. To complete the `print()` statement inside the `for` loop, pass`i` to the `print()` function call.\n",
    "\n",
    "</details>"
   ]
  },
  {
   "cell_type": "markdown",
   "metadata": {
    "id": "QVPLYl6mwu9c"
   },
   "source": [
    "<details>\n",
    "  <summary><h4><strong>Hint 3</strong></h4></summary>\n",
    "\n",
    "To call the function, write `list_to_string()` after the function definition. Recall that the function can be called only after it's defined.\n",
    "\n",
    "</details>"
   ]
  },
  {
   "cell_type": "markdown",
   "metadata": {
    "id": "OrhGVQToxE7f"
   },
   "source": [
    "#### **Question 4**\n",
    "What do you observe from the output above?"
   ]
  },
  {
   "cell_type": "markdown",
   "metadata": {
    "id": "9azfubexxE7g"
   },
   "source": [
    "The output shows each element from `username_list` on a new line. "
   ]
  },
  {
   "cell_type": "markdown",
   "metadata": {
    "id": "VoUS63vCxX6a"
   },
   "source": [
    "## Task 6\n",
    "\n",
    "String concatenation is a powerful concept in coding. It allows you to combine multiple strings together to form one large string, using the addition operator (`+`). Sometimes analysts need to merge individual pieces of data into a single string value. In this task, you'll use string concatenation to modify how the `list_to_string()` function is defined.\n",
    "\n",
    "In the following code cell, you're provided a variable named `sum_variable` that initially contains an empty string. Your task is to use string concatenation to combine the usernames from the `username_list` and store the result in `sum_variable`.\n",
    "\n",
    "In each iteration of the `for` loop, add the current element of `username_list` to `sum_variable`. At the end of the function definition, write a `print()` statement to display the value of `sum_variable` at that stage of the process. Then, run the cell to call the `list_to_string()` function and examine its output.\n",
    "\n",
    "Be sure to replace each `### YOUR CODE HERE ###` with your own code before running the following cell."
   ]
  },
  {
   "cell_type": "code",
   "execution_count": 6,
   "metadata": {
    "id": "cLbEQNSwvzUz"
   },
   "outputs": [
    {
     "name": "stdout",
     "output_type": "stream",
     "text": [
      "elarsonbmorenotshahsgilmoreeraabgesparzaalevitskwjaffrey\n"
     ]
    }
   ],
   "source": [
    "# Define a function named `list_to_string()`\n",
    "\n",
    "def list_to_string():\n",
    "\n",
    "  # Store the list of approved usernames in a variable named `username_list`\n",
    "\n",
    "  username_list = [\"elarson\", \"bmoreno\", \"tshah\", \"sgilmore\", \"eraab\", \"gesparza\", \"alevitsk\", \"wjaffrey\"]\n",
    "\n",
    "  # Assign `sum_variable` to an empty string\n",
    "\n",
    "  sum_variable = \"\"\n",
    "\n",
    "  # Write a for loop that iterates through the elements of `username_list` and displays each element\n",
    "\n",
    "  for i in username_list:\n",
    "    sum_variable = sum_variable + i\n",
    "\n",
    "  # Display the value of `sum_variable`\n",
    "\n",
    "  print(sum_variable)\n",
    "\n",
    "# Call the `list_to_string()` function\n",
    "\n",
    "list_to_string()"
   ]
  },
  {
   "cell_type": "markdown",
   "metadata": {
    "id": "G-IUddHy3LV2"
   },
   "source": [
    "<details>\n",
    "  <summary><h4><strong>Hint 1</strong></h4></summary>\n",
    "\n",
    "Inside the `for` loop, complete the line that updates the `sum_variable` in each iteration. The loop variable `i` represents each element of `username_list`. Since you need to add the current element to the current value of `sum_variable`, place `i` after the addition operator `(+)`. \n",
    "\n",
    "</details>"
   ]
  },
  {
   "cell_type": "markdown",
   "metadata": {
    "id": "S9VgoPcr3LV-"
   },
   "source": [
    "<details>\n",
    "  <summary><h4><strong>Hint 2</strong></h4></summary>\n",
    "\n",
    "Use the `print()` function to display the value of `sum_variable`. Make sure to pass in `sum_variable` to the call to `print()`. \n",
    "\n",
    "</details>"
   ]
  },
  {
   "cell_type": "markdown",
   "metadata": {
    "id": "yWfkqnTV5b-C"
   },
   "source": [
    "#### **Question 5**\n",
    "What do you observe from the output above?"
   ]
  },
  {
   "cell_type": "markdown",
   "metadata": {
    "id": "fM1XnnOX5b-K"
   },
   "source": [
    "The output shows all the elements from `username_list` merged together in one line. In its current format, the output is difficult to read. It's difficult to decipher where one username ends and the next begins. "
   ]
  },
  {
   "cell_type": "markdown",
   "metadata": {
    "id": "pcRf8PLa4bt1"
   },
   "source": [
    "## Task 7\n",
    "\n",
    "In this final task, you'll modify the code you wrote previously to improve the readability of the output. \n",
    "\n",
    "This time, in the definition of the `list_to_string()` function, add a comma and a space (`\", \"`) after each username. This will prevent all the usernames from running into each other in the output. Adding a comma helps clearly separate one username from the next in the output. Adding a space following the comma as an additional separator between one username and the next makes it easier to read the output. Then, call the function and run the cell to observe the output.\n",
    "\n",
    "Be sure to replace each `### YOUR CODE HERE ###` with your own code before running the following cell."
   ]
  },
  {
   "cell_type": "code",
   "execution_count": 7,
   "metadata": {
    "id": "DLW-X1FM7K56"
   },
   "outputs": [
    {
     "name": "stdout",
     "output_type": "stream",
     "text": [
      "elarson, bmoreno, tshah, sgilmore, eraab, gesparza, alevitsk, wjaffrey, \n"
     ]
    }
   ],
   "source": [
    "# Define a function named `list_to_string()`\n",
    "\n",
    "def list_to_string():\n",
    "\n",
    "  # Store the list of approved usernames in a variable named `username_list`\n",
    "\n",
    "  username_list = [\"elarson\", \"bmoreno\", \"tshah\", \"sgilmore\", \"eraab\", \"gesparza\", \"alevitsk\", \"wjaffrey\"]\n",
    "\n",
    "  # Assign `sum_variable` to an empty string\n",
    "\n",
    "  sum_variable = \"\"\n",
    "\n",
    "  # Write a for loop that iterates through the elements of `username_list` and displays each element\n",
    "\n",
    "  for i in username_list:\n",
    "    sum_variable = sum_variable + i + \", \"\n",
    "\n",
    "  # Display the value of `sum_variable`\n",
    "\n",
    "  print(sum_variable)\n",
    "\n",
    "# Call the `list_to_string()` function\n",
    "\n",
    "list_to_string()"
   ]
  },
  {
   "cell_type": "markdown",
   "metadata": {
    "id": "wl8UVVZ39H-d"
   },
   "source": [
    "<details>\n",
    "  <summary><h4><strong>Hint 1</strong></h4></summary>\n",
    "\n",
    "Inside the `for` loop, complete the line that updates the `sum_variable` in each iteration. The loop variable `i` represents each element of `username_list`. After the current element is added to the current value of `sum_variable`, add a string that contains a comma followed by a space.\n",
    "\n",
    "To complete this step, place `\", \"` after the last addition operator (`+`). \n",
    "\n",
    "</details>"
   ]
  },
  {
   "cell_type": "markdown",
   "metadata": {
    "id": "BPn4fuRl9H-m"
   },
   "source": [
    "<details>\n",
    "  <summary><h4><strong>Hint 2</strong></h4></summary>\n",
    "\n",
    "To call the function, write `list_to_string()` after the function definition. Note that the function can be called only after it's defined.\n",
    "\n",
    "</details>"
   ]
  },
  {
   "cell_type": "markdown",
   "metadata": {
    "id": "MCsLDLob_liw"
   },
   "source": [
    "#### **Question 6**\n",
    "What do you notice about the output from the function call this time?"
   ]
  },
  {
   "cell_type": "markdown",
   "metadata": {
    "id": "dUEMQxQv_liw"
   },
   "source": [
    "The output shows all the elements from `username_list` in one line. This time, there's a comma and a space after each username. This format is much easier to read. It's easier to distinguish one username from the next. "
   ]
  },
  {
   "cell_type": "markdown",
   "metadata": {
    "id": "ru2ytGBLCh4q"
   },
   "source": [
    "## Conclusion\n",
    "\n",
    "**What are your key takeaways from this lab?**"
   ]
  },
  {
   "cell_type": "markdown",
   "metadata": {
    "id": "1Vb_F3oUAZQ1"
   },
   "source": [
    "- Python allows you to define and call functions that you create.\n",
    "- The main components of a function definition header include the function header and the function body. \n",
    "  - The function header includes the `def` keyword, followed by the name of the function, followed by parantheses, followed by a colon. \n",
    "  - The function body includese an indented block of code that instructs the computer on what to do when the function is called.\n",
    "- String concatenation involves using the addition operator (`+`) to combine multiple strings together.\n",
    "  - One use case for string concatenation is combining the strings from a list into one large string."
   ]
  }
 ],
 "metadata": {
  "colab": {
   "provenance": []
  },
  "kernelspec": {
   "display_name": "Python 3",
   "language": "python",
   "name": "python3"
  },
  "language_info": {
   "codemirror_mode": {
    "name": "ipython",
    "version": 3
   },
   "file_extension": ".py",
   "mimetype": "text/x-python",
   "name": "python",
   "nbconvert_exporter": "python",
   "pygments_lexer": "ipython3",
   "version": "3.7.6"
  }
 },
 "nbformat": 4,
 "nbformat_minor": 1
}
