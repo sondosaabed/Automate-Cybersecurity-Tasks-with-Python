{
 "cells": [
  {
   "cell_type": "markdown",
   "metadata": {
    "id": "FpdoHsRVBxVN"
   },
   "source": [
    "# Exemplar: Develop an algorithm"
   ]
  },
  {
   "cell_type": "markdown",
   "metadata": {
    "id": "R4eL2ZJFRVgH"
   },
   "source": [
    "## Introduction\n",
    "\n",
    "An algorithm is a set of steps that can be used to solve a problem. Security analysts develop algorithms to provide the solutions that they need for their work. For example, an analyst may work with users who bring them devices. The analyst may need an algorithm that first checks if a user is approved to access the system and then checks if the device that they have brought is the one assigned to them.\n",
    "\n",
    "In this lab, you'll develop an algorithm in Python that automates this process."
   ]
  },
  {
   "cell_type": "markdown",
   "metadata": {
    "id": "eW4pA4LsC-vb"
   },
   "source": [
    "<details><summary><h2>Tips for completing this lab</h2></summary>\n",
    "\n",
    "As you navigate this lab, keep the following tips in mind:\n",
    "\n",
    "- `### YOUR CODE HERE ###` indicates where you should write code. Be sure to replace this with your own code before running the code cell.\n",
    "- Feel free to open the hints for additional guidance as you work on each task. \n",
    "- To enter your answer to a question, double-click the markdown cell to edit. Be sure to replace the \"[Double-click to enter your responses here.]\" with your own answer.\n",
    "- You can save your work manually by clicking File and then Save in the menu bar at the top of the notebook. \n",
    "- You can download your work locally by clicking File and then Download and then specifying your preferred file format in the menu bar at the top of the notebook. \n",
    "</details>"
   ]
  },
  {
   "cell_type": "markdown",
   "metadata": {
    "id": "3A3jLjKER9GG"
   },
   "source": [
    "## Scenario\n",
    "\n",
    "In this lab, you're working as a security analyst and you're responsible for developing an algorithm that connects users to their assigned devices. You'll write code that indicates if a user is approved on the system and has brought their assigned device to the security team.\n"
   ]
  },
  {
   "cell_type": "markdown",
   "metadata": {
    "id": "yN2oyiIpSSAg"
   },
   "source": [
    "## Task 1\n",
    "You'll work with a list of approved usernames along with a list of the approved devices assigned to these users. The elements of the two lists are synchronized. In other words, the user at index `0` in `approved_users` uses the device at index `0` in `approved_devices`. Later, this will allow you to verify if the username and device ID entered by a user correspond to each other.\n",
    "\n",
    "First, to explore how indices in lists work, run the following code cell as is and observe the output. Then, replace each `0` with another index and run the cell to observe what happens."
   ]
  },
  {
   "cell_type": "code",
   "execution_count": 1,
   "metadata": {
    "colab": {
     "base_uri": "https://localhost:8080/"
    },
    "executionInfo": {
     "elapsed": 8,
     "status": "ok",
     "timestamp": 1675446438597,
     "user": {
      "displayName": "Lavanya Vijayan",
      "userId": "09394087000910120547"
     },
     "user_tz": 480
    },
    "id": "Cwvk-6Wn_DWo",
    "outputId": "e90b7c8c-5b3d-47c1-86c1-d47bf55e9691"
   },
   "outputs": [
    {
     "name": "stdout",
     "output_type": "stream",
     "text": [
      "elarson\n",
      "8rp2k75\n"
     ]
    }
   ],
   "source": [
    "# Assign `approved_users` to a list of approved usernames\n",
    "\n",
    "approved_users = [\"elarson\", \"bmoreno\", \"tshah\", \"sgilmore\", \"eraab\"]\n",
    "\n",
    "# Assign `approved_devices` to a list of device IDs that correspond to the usernames in `approved_users`\n",
    "\n",
    "approved_devices = [\"8rp2k75\", \"hl0s5o1\", \"2ye3lzg\", \"4n482ts\", \"a307vir\"]\n",
    "\n",
    "# Display the element at the specified index in `approved_users`\n",
    "\n",
    "print(approved_users[0])\n",
    "\n",
    "# Display the element at the specified index in `approved_devices`\n",
    "\n",
    "print(approved_devices[0])\n"
   ]
  },
  {
   "cell_type": "markdown",
   "metadata": {
    "id": "EtiyVRgr9-CU"
   },
   "source": [
    "#### **Question 1**\n",
    "**What did you observe about the output when `approved_users[0]` is displayed and when `approved_devices[0]` is displayed? What happens when you replace each `0` with another index?**\n"
   ]
  },
  {
   "cell_type": "markdown",
   "metadata": {
    "id": "GCQm8kMo_zTO"
   },
   "source": [
    "When `approved_users[0]` is displayed, the output is the first approved username from `approved_users`. When `approved_devices[0]` is displayed, the output is the first device ID from `approved_devices`. When you replace each `0` with another index, the output is the element at that index in `approved_users`, followed by the element at that index in `approved_devices`. For example, if you replace each `0` with `2`, the output is the element at index `2` in `approved_users`, followed by the element at index `2` in `approved_devices`."
   ]
  },
  {
   "cell_type": "markdown",
   "metadata": {
    "id": "ZwXgZ7V7SefF"
   },
   "source": [
    "## Task 2\n",
    "There's a new employee joining the organization, and they need to be provided with a username and device ID. In the following code cell, you are given a username and device ID of this new user, stored in the variables `new_user` and `new_device`, respectively. Use the `.append()` method to add these variables to the `approved_users` and `approved_devices` respectively. Afterwards, display the `approved_users` and `approved_devices` variables to confirm the added information. Be sure to replace each `### YOUR CODE HERE ###` with your own code before you run the following cell."
   ]
  },
  {
   "cell_type": "code",
   "execution_count": 2,
   "metadata": {
    "colab": {
     "base_uri": "https://localhost:8080/"
    },
    "executionInfo": {
     "elapsed": 5,
     "status": "ok",
     "timestamp": 1675446438597,
     "user": {
      "displayName": "Lavanya Vijayan",
      "userId": "09394087000910120547"
     },
     "user_tz": 480
    },
    "id": "6YZ3PeeWHG-T",
    "outputId": "503ad50a-b10b-458e-928b-25a6dbe7d1b9"
   },
   "outputs": [
    {
     "name": "stdout",
     "output_type": "stream",
     "text": [
      "['elarson', 'bmoreno', 'tshah', 'sgilmore', 'eraab', 'gesparza']\n",
      "['8rp2k75', 'hl0s5o1', '2ye3lzg', '4n482ts', 'a307vir', '3rcv4w6']\n"
     ]
    }
   ],
   "source": [
    "# Assign `approved_users` to a list of approved usernames\n",
    "\n",
    "approved_users = [\"elarson\", \"bmoreno\", \"tshah\", \"sgilmore\", \"eraab\"]\n",
    "\n",
    "# Assign `approved_devices` to a list of device IDs that correspond to the usernames in `approved_users`\n",
    "\n",
    "approved_devices = [\"8rp2k75\", \"hl0s5o1\", \"2ye3lzg\", \"4n482ts\", \"a307vir\"]\n",
    "\n",
    "# Assign `new_user` to the username of a new approved user\n",
    "\n",
    "new_user = \"gesparza\"\n",
    "\n",
    "# Assign `new_device` to the device ID of the new approved user\n",
    "\n",
    "new_device = \"3rcv4w6\"\n",
    "\n",
    "# Add that user's username and device ID to `approved_users` and `approved_devices` respectively\n",
    "\n",
    "approved_users.append(new_user)\n",
    "approved_devices.append(new_device)\n",
    "\n",
    "# Display the contents of `approved_users`\n",
    "\n",
    "print(approved_users)\n",
    "\n",
    "# Diplay the contents of `approved_devices`\n",
    "\n",
    "print(approved_devices)\n"
   ]
  },
  {
   "cell_type": "markdown",
   "metadata": {
    "id": "_a4yUaBBHyvj"
   },
   "source": [
    "<details>\n",
    "  <summary><h4><strong>Hint 1</strong></h4></summary>\n",
    "\n",
    "Use the `.append()` method to add `new_user` to `approved_users`.\n",
    "\n",
    "Use the `.append()` method to add `new_device` to `approved_devices`.\n",
    "\n",
    "</details>"
   ]
  },
  {
   "cell_type": "markdown",
   "metadata": {
    "id": "9BwgLKQGAozi"
   },
   "source": [
    "<details>\n",
    "  <summary><h4><strong>Hint 2</strong></h4></summary>\n",
    "\n",
    "Use the `print()` function to display the contents of `approved_users`. \n",
    "\n",
    "Use the `print()` function to display the contents of `approved_devices`. \n",
    "\n",
    "</details>"
   ]
  },
  {
   "cell_type": "markdown",
   "metadata": {
    "id": "2UVf8du_CdfW"
   },
   "source": [
    "#### **Question 2**\n",
    "**After the new approved user is added, what did you observe about the output when `approved_users` is displayed and when `approved_devices` is displayed?**\n"
   ]
  },
  {
   "cell_type": "markdown",
   "metadata": {
    "id": "VFWbKi3YCdff"
   },
   "source": [
    "After the new approved user is added, their username is at the end of the `approved_users` and their device ID is at the end of the `approved_devices`."
   ]
  },
  {
   "cell_type": "markdown",
   "metadata": {
    "id": "nDgdKRQ5TzdV"
   },
   "source": [
    "## Task 3\n",
    "An employee has left the team and should no longer have access to the system. In the following code cell, you are given the username and device ID of the user to be removed, stored in the variables `removed_user` and `removed_device` respectively.  Use the `.remove()` method to remove each of these elements from the corresponding list. Afterwards, display both the `approved_users` and the `approved_devices` variables to view the removed users. Run the code and observe the results. Be sure to replace each `### YOUR CODE HERE ###` with your own code before you run the following cell.\n"
   ]
  },
  {
   "cell_type": "code",
   "execution_count": 3,
   "metadata": {
    "colab": {
     "base_uri": "https://localhost:8080/"
    },
    "executionInfo": {
     "elapsed": 321,
     "status": "ok",
     "timestamp": 1675446438915,
     "user": {
      "displayName": "Lavanya Vijayan",
      "userId": "09394087000910120547"
     },
     "user_tz": 480
    },
    "id": "lSk_xQuJU8yt",
    "outputId": "1e2bfbc7-3cef-4b7e-9f7a-507267bdd86a"
   },
   "outputs": [
    {
     "name": "stdout",
     "output_type": "stream",
     "text": [
      "['elarson', 'bmoreno', 'sgilmore', 'eraab', 'gesparza']\n",
      "['8rp2k75', 'hl0s5o1', '4n482ts', 'a307vir', '3rcv4w6']\n"
     ]
    }
   ],
   "source": [
    "# Assign `approved_users` to a list of approved usernames\n",
    "\n",
    "approved_users = [\"elarson\", \"bmoreno\", \"tshah\", \"sgilmore\", \"eraab\", \"gesparza\"]\n",
    "\n",
    "# Assign `approved_devices` to a list of device IDs that correspond to the usernames in `approved_users`\n",
    "\n",
    "approved_devices = [\"8rp2k75\", \"hl0s5o1\", \"2ye3lzg\", \"4n482ts\", \"a307vir\", \"3rcv4w6\"]\n",
    "\n",
    "# Assign `removed_user` to the username of the employee who has left the team\n",
    "\n",
    "removed_user = \"tshah\"\n",
    "\n",
    "# Assign `removed_device` to the device ID of the employee who has left the team\n",
    "\n",
    "removed_device = \"2ye3lzg\"\n",
    "\n",
    "# Remove that employee's username and device ID from `approved_users` and `approved_devices` respectively\n",
    "\n",
    "approved_users.remove(removed_user)\n",
    "approved_devices.remove(removed_device)\n",
    "\n",
    "# Display `approved_users`\n",
    "\n",
    "print(approved_users)\n",
    "\n",
    "# Diplay `approved_devices`\n",
    "\n",
    "print(approved_devices)\n"
   ]
  },
  {
   "cell_type": "markdown",
   "metadata": {
    "id": "HbO41OM7H9JP"
   },
   "source": [
    "<details>\n",
    "  <summary><h4><strong>Hint 1</strong></h4></summary>\n",
    "\n",
    "Use the `.remove()` method to remove `removed_user` from `approved_users`.\n",
    "\n",
    "Use the `.remove()` method to remove `removed_device` from `approved_devices`.\n",
    "\n",
    "</details>"
   ]
  },
  {
   "cell_type": "markdown",
   "metadata": {
    "id": "cnTrQyxLpJh-"
   },
   "source": [
    "<details>\n",
    "  <summary><h4><strong>Hint 2</strong></h4></summary>\n",
    "\n",
    "Use the `print()` function to display the contents of `approved_users`. \n",
    "\n",
    "Use the `print()` function to display the contents of `approved_devices`. \n",
    "\n",
    "</details>"
   ]
  },
  {
   "cell_type": "markdown",
   "metadata": {
    "id": "0rePIFfpFgJL"
   },
   "source": [
    "#### **Question 3**\n",
    "**After the user who left the team is removed, what did you observe about the output when `approved_users` is displayed and when `approved_devices` is displayed?**\n"
   ]
  },
  {
   "cell_type": "markdown",
   "metadata": {
    "id": "orYn86YMFgJU"
   },
   "source": [
    "After the user who left the team is removed, their username is no longer part of the `approved_users` and their device ID is no longer part of the `approved_devices`."
   ]
  },
  {
   "cell_type": "markdown",
   "metadata": {
    "id": "aLiBPEERhxdC"
   },
   "source": [
    "## Task 4\n",
    "\n",
    "As part of verifying a user's identity in the system, you'll need to check if the user is one of the approved users. Write a conditional statement that verifies if a given username is an element of the list of approved usernames. If it is, display `\"The user ______ is approved to access the system.\"`. Otherwise, display `\"The user ______ is not approved to access the system.\"`. Be sure to replace each `### YOUR CODE HERE ###` with your own code before you run the following cell."
   ]
  },
  {
   "cell_type": "code",
   "execution_count": 4,
   "metadata": {
    "colab": {
     "base_uri": "https://localhost:8080/"
    },
    "executionInfo": {
     "elapsed": 9,
     "status": "ok",
     "timestamp": 1675446438916,
     "user": {
      "displayName": "Lavanya Vijayan",
      "userId": "09394087000910120547"
     },
     "user_tz": 480
    },
    "id": "a66pScltkmEE",
    "outputId": "049b0387-b880-4cfe-a82e-5461b455a3a9"
   },
   "outputs": [
    {
     "name": "stdout",
     "output_type": "stream",
     "text": [
      "The username sgilmore is approved to access the system.\n"
     ]
    }
   ],
   "source": [
    "# Assign `approved_users` to a list of approved usernames\n",
    "\n",
    "approved_users = [\"elarson\", \"bmoreno\", \"sgilmore\", \"eraab\", \"gesparza\"]\n",
    "\n",
    "# Assign `approved_devices` to a list of device IDs that correspond to the usernames in `approved_users`\n",
    "\n",
    "approved_devices = [\"8rp2k75\", \"hl0s5o1\", \"4n482ts\", \"a307vir\", \"3rcv4w6\"]\n",
    "\n",
    "# Assign `username` to a username\n",
    "\n",
    "username = \"sgilmore\"\n",
    "\n",
    "# Conditional statement\n",
    "# If `username` belongs to `approved_users`, then display \"The user ______ is approved to access the system.\"\n",
    "# Otherwise display \"The user ______ is not approved to access the system.\"\n",
    "if username in approved_users:\n",
    "    print(\"The username\", username, \"is approved to access the system.\")\n",
    "else:\n",
    "    print(\"The username\", username, \"is not approved to access the system.\")\n",
    "    "
   ]
  },
  {
   "cell_type": "markdown",
   "metadata": {
    "id": "cfY5l5xbGL9E"
   },
   "source": [
    "<details>\n",
    "  <summary><h4><strong>Hint 1</strong></h4></summary>\n",
    "\n",
    "In the `if` condition, be sure to check if `username` belongs to `approved_users`.\n",
    "\n",
    "</details>"
   ]
  },
  {
   "cell_type": "markdown",
   "metadata": {
    "id": "4AsCC1gRGiUT"
   },
   "source": [
    "<details>\n",
    "  <summary><h4><strong>Hint 2</strong></h4></summary>\n",
    "\n",
    "After the `if` statement, use the `else` keyword to create an `else` statement that handles the case when `username` is not part of the `approved_users`. \n",
    "\n",
    "</details>"
   ]
  },
  {
   "cell_type": "markdown",
   "metadata": {
    "id": "hQv4GCcWGv2o"
   },
   "source": [
    "<details>\n",
    "  <summary><h4><strong>Hint 3</strong></h4></summary>\n",
    "\n",
    "Inside the `else` statement, use the `print()` function to display the message `\"The user ______ is not approved to access the system.\"`.\n",
    "\n",
    "Refer to the `print()` function call in the `if` statement and observe how commas separate a string containing the first part of the message, the `username` variable, and another string containing the second part of the message.\n",
    "\n",
    "</details>"
   ]
  },
  {
   "cell_type": "markdown",
   "metadata": {
    "id": "Kvtoh6nLK4cG"
   },
   "source": [
    "#### **Question 4**\n",
    "**What message do you observe in the output when `username` is `\"sgilmore\"`?**\n"
   ]
  },
  {
   "cell_type": "markdown",
   "metadata": {
    "id": "V2enBiATK4cG"
   },
   "source": [
    "When `username` is `\"sgilmore\"`, the outputted message reads `\"The username sgilmore is approved to access the system.\"` since `\"sgilmore\"` is an element of the `approved_users`."
   ]
  },
  {
   "cell_type": "markdown",
   "metadata": {
    "id": "i-0xllOwdl8r"
   },
   "source": [
    "## Task 5\n",
    "The next part of the algorithm uses the `.index()` method to find the index of `username` in the `approved_list` and store that index in a variable named `ind`. \n",
    "\n",
    "When used on a list, the `.index()` method will return the position of the given value in the list.\n",
    "\n",
    "Add a statement to display `ind` in the following code cell to explore the value it contains. Be sure to replace the `### YOUR CODE HERE ###` with your own code before you run the following cell."
   ]
  },
  {
   "cell_type": "code",
   "execution_count": 5,
   "metadata": {
    "colab": {
     "base_uri": "https://localhost:8080/"
    },
    "executionInfo": {
     "elapsed": 7,
     "status": "ok",
     "timestamp": 1675446438916,
     "user": {
      "displayName": "Lavanya Vijayan",
      "userId": "09394087000910120547"
     },
     "user_tz": 480
    },
    "id": "UdPUdMj7kSCo",
    "outputId": "b3cb9731-9191-4936-ef5f-7240f267d358"
   },
   "outputs": [
    {
     "name": "stdout",
     "output_type": "stream",
     "text": [
      "2\n"
     ]
    }
   ],
   "source": [
    "# Assign `approved_users` to a list of approved usernames\n",
    "\n",
    "approved_users = [\"elarson\", \"bmoreno\", \"sgilmore\", \"eraab\", \"gesparza\"]\n",
    "\n",
    "# Assign `approved_devices` to a list of device IDs that correspond to the usernames in `approved_users`\n",
    "\n",
    "approved_devices = [\"8rp2k75\", \"hl0s5o1\", \"4n482ts\", \"a307vir\", \"3rcv4w6\"]\n",
    "\n",
    "# Assign `username` to a username\n",
    "\n",
    "username = \"sgilmore\"\n",
    "\n",
    "# Assign `ind` to the index of `username` in `approved_users`\n",
    "\n",
    "ind = approved_users.index(username)\n",
    "\n",
    "# Display the value of `ind`\n",
    "\n",
    "print(ind)\n"
   ]
  },
  {
   "cell_type": "markdown",
   "metadata": {
    "id": "EqUySUGuKPIB"
   },
   "source": [
    "<details>\n",
    "  <summary><h4><strong>Hint 1</strong></h4></summary>\n",
    "\n",
    "Use the `print()` function to display the value of `ind`. \n",
    "\n",
    "</details>"
   ]
  },
  {
   "cell_type": "markdown",
   "metadata": {
    "id": "uvLBuBxVMKNU"
   },
   "source": [
    "#### **Question 5**\n",
    "**What do you observe from the output when `username` is `\"sgilmore\"`?**\n"
   ]
  },
  {
   "cell_type": "markdown",
   "metadata": {
    "id": "shsSZbcxMKNV"
   },
   "source": [
    "When `username` is `\"sgilmore\"`, the output is `2`, which indicates that the index value of `\"sgilmore\"` is `2` in the `approved_users`. In other words, `\"sgilmore\"` is the third element in the `approved_users`. Indexing in Python starts at `0`."
   ]
  },
  {
   "cell_type": "markdown",
   "metadata": {
    "id": "uWhHEIAkk4Gt"
   },
   "source": [
    "## Task 6\n",
    "This task will allow you to build your understanding of list operations for the algorithm that you'll eventually build. It will demonstrate how you can find an index in one list and then use this index to display connected information in another list. First, use the `.index()` method again to find the index of `username` in the `approved_users` and store that in a variable named `ind`. Then, connect `ind` to the `approved_devices` and display the device ID located at the index `ind`. Afterwards, run the cell to observe the result. Be sure to replace each `### YOUR CODE HERE ###` with your own code before you run the following cell."
   ]
  },
  {
   "cell_type": "code",
   "execution_count": 6,
   "metadata": {
    "colab": {
     "base_uri": "https://localhost:8080/"
    },
    "executionInfo": {
     "elapsed": 7,
     "status": "ok",
     "timestamp": 1675446438917,
     "user": {
      "displayName": "Lavanya Vijayan",
      "userId": "09394087000910120547"
     },
     "user_tz": 480
    },
    "id": "QAzVvqv7oNDr",
    "outputId": "24ea438d-b7c3-49b9-fbb5-83a47744f5fe"
   },
   "outputs": [
    {
     "name": "stdout",
     "output_type": "stream",
     "text": [
      "4n482ts\n"
     ]
    }
   ],
   "source": [
    "# Assign `approved_users` to a list of approved usernames\n",
    "\n",
    "approved_users = [\"elarson\", \"bmoreno\", \"sgilmore\", \"eraab\", \"gesparza\"]\n",
    "\n",
    "# Assign `approved_devices` to a list of device IDs that correspond to the usernames in `approved_users`\n",
    "\n",
    "approved_devices = [\"8rp2k75\", \"hl0s5o1\", \"4n482ts\", \"a307vir\", \"3rcv4w6\"]\n",
    "\n",
    "# Assign `username` to a username\n",
    "\n",
    "username = \"sgilmore\"\n",
    "\n",
    "# Assign `ind` to the index of `username` in `approved_users`\n",
    "\n",
    "ind = approved_users.index(username)\n",
    "\n",
    "# Display the device ID at the index that matches the value of `ind` in `approved_devices`\n",
    "\n",
    "print(approved_devices[ind])\n"
   ]
  },
  {
   "cell_type": "markdown",
   "metadata": {
    "id": "OSp3RAghUbpU"
   },
   "source": [
    "<details>\n",
    "  <summary><h4><strong>Hint 1</strong></h4></summary>\n",
    "\n",
    "Use the `.index()` method to get the index value of the `username` in the `approved_users`. Assign `ind` to the result.\n",
    "\n",
    "</details>"
   ]
  },
  {
   "cell_type": "markdown",
   "metadata": {
    "id": "5lUtc8DbVDFp"
   },
   "source": [
    "<details>\n",
    "  <summary><h4><strong>Hint 2</strong></h4></summary>\n",
    "\n",
    "To display the correct device ID from `approved_devices`, use `ind` as the index. Place `ind` inside the square brackets to extract the correct element from `approved_devices`.\n",
    "\n",
    "</details>"
   ]
  },
  {
   "cell_type": "markdown",
   "metadata": {
    "id": "OMIniudTWfJl"
   },
   "source": [
    "#### **Question 6**\n",
    "**What do you observe from the output when `username` is `\"sgilmore\"`?**\n"
   ]
  },
  {
   "cell_type": "markdown",
   "metadata": {
    "id": "GhXxHegvWfJl"
   },
   "source": [
    "When `username` is `\"sgilmore\"`, the output is `4n482ts`, which is the device ID that corresponds to `\"sgilmore\"`. The third approved username in the `approved_users` is `\"sgilmore\"`, and similarly the third device ID in the `approved_devices` is `\"4n482ts\"`."
   ]
  },
  {
   "cell_type": "markdown",
   "metadata": {
    "id": "uejsfvyqTHyH"
   },
   "source": [
    "## Task 7\n",
    "Your next step in creating the algorithm is to determine if a username and device ID correspond. To do this, write a conditional that checks if the `username` is an element of the `approved_devices` and if the `device_id` stored at the same index as `username` matches the `device_id` entered. You'll use the logical operator `and` to connect the two conditions. When both conditions evaluate to `True`, display a message that the username is approved and another message that the user has their assigned device. Be sure to replace each `### YOUR CODE HERE ###` with your own code before you run the following cell."
   ]
  },
  {
   "cell_type": "code",
   "execution_count": 7,
   "metadata": {
    "colab": {
     "base_uri": "https://localhost:8080/"
    },
    "executionInfo": {
     "elapsed": 5,
     "status": "ok",
     "timestamp": 1675446438917,
     "user": {
      "displayName": "Lavanya Vijayan",
      "userId": "09394087000910120547"
     },
     "user_tz": 480
    },
    "id": "UlkZ36uuEqSG",
    "outputId": "dc3a1e01-bf06-4331-ce0f-3734f31db77c"
   },
   "outputs": [
    {
     "name": "stdout",
     "output_type": "stream",
     "text": [
      "The username sgilmore is approved to access the system.\n",
      "4n482ts is the assigned device for sgilmore\n"
     ]
    }
   ],
   "source": [
    "# Assign `approved_users` to a list of approved usernames\n",
    "\n",
    "approved_users = [\"elarson\", \"bmoreno\", \"sgilmore\", \"eraab\", \"gesparza\"]\n",
    "\n",
    "# Assign `approved_devices` to a list of device IDs that correspond to the usernames in `approved_users`\n",
    "\n",
    "approved_devices = [\"8rp2k75\", \"hl0s5o1\", \"4n482ts\", \"a307vir\", \"3rcv4w6\"]\n",
    "\n",
    "# Assign `username` to a username\n",
    "\n",
    "username = \"sgilmore\"\n",
    "\n",
    "# Assign `device_id` to a device ID\n",
    "\n",
    "device_id = \"4n482ts\"\n",
    "\n",
    "# Assign `ind` to the index of `username` in `approved_users`\n",
    "\n",
    "ind = approved_users.index(username)\n",
    "\n",
    "# Conditional statement\n",
    "# If `username` belongs to `approved_users`, and if the device ID at `ind` in `approved_devices` matches `device_id`,\n",
    "# then display a message that the username is approved,\n",
    "# followed by a message that the user has the correct device\n",
    "\n",
    "if username in approved_users and device_id == approved_devices[ind]:\n",
    "    print(\"The username\", username, \"is approved to access the system.\")\n",
    "    print(device_id, \"is the assigned device for\", username)\n",
    "    "
   ]
  },
  {
   "cell_type": "markdown",
   "metadata": {
    "id": "S0BfEOi8V1P_"
   },
   "source": [
    "<details>\n",
    "  <summary><h4><strong>Hint 1</strong></h4></summary>\n",
    "\n",
    "After the logical operator `and`, write the second condition in the `if` statement using a comparison operator to check whether the element at `ind` in `approved_devices` matches `device_id`.\n",
    "\n",
    "</details>"
   ]
  },
  {
   "cell_type": "markdown",
   "metadata": {
    "id": "UbkFDkoVDwqD"
   },
   "source": [
    "<details>\n",
    "  <summary><h4><strong>Hint 2</strong></h4></summary>\n",
    "\n",
    "Use the `==` comparison operator to check whether the element at `ind` in `approved_devices` matches `device_id`.\n",
    "\n",
    "</details>"
   ]
  },
  {
   "cell_type": "markdown",
   "metadata": {
    "id": "1Fl6R6-mXIUX"
   },
   "source": [
    "#### **Question 7**\n",
    "**What do you observe from the output when `username` is `\"sgilmore\"` and `device_id` is `\"4n482ts\"`?**\n"
   ]
  },
  {
   "cell_type": "markdown",
   "metadata": {
    "id": "M3KWq43HXIUf"
   },
   "source": [
    "When `username` is `\"sgilmore\"` and `device_id` is `\"4n482ts\"`, the output consists of `The username sgilmore is approved to access the system.` on the first line and `4n482ts is the assigned device for sgilmore` on the second line."
   ]
  },
  {
   "cell_type": "markdown",
   "metadata": {
    "id": "9lFPzCnyHAPg"
   },
   "source": [
    "## Task 8\n",
    "It would also be helpful for users to receive messages when their username is not approved or their device ID is incorrect.  \n",
    "\n",
    "Add to the code by writing an `elif` statement. This `elif` statement should run when the `username` is part of the `approved_users` but the `device_id` doesn't match the corresponding device ID in the `approved_devices`. The statement should also display two messages conveying that information.\n",
    "\n",
    "Be sure to replace each `### YOUR CODE HERE ###` with your own code before you run the following cell. \n",
    "\n",
    "(After you run the code once with a `device_id` of `\"4n482ts\"`, you might want to explore what happens if you assign a different value to `device_id`.)"
   ]
  },
  {
   "cell_type": "code",
   "execution_count": 1,
   "metadata": {
    "colab": {
     "base_uri": "https://localhost:8080/"
    },
    "executionInfo": {
     "elapsed": 233,
     "status": "ok",
     "timestamp": 1675446439146,
     "user": {
      "displayName": "Lavanya Vijayan",
      "userId": "09394087000910120547"
     },
     "user_tz": 480
    },
    "id": "hkRnVuCgIuNP",
    "outputId": "72755d8b-9045-480b-80c1-8c9ebe4f6bc2"
   },
   "outputs": [
    {
     "name": "stdout",
     "output_type": "stream",
     "text": [
      "The user sgilmore is approved to access the system.\n",
      "4n482ts is the assigned device for sgilmore\n"
     ]
    }
   ],
   "source": [
    "# Assign `approved_users` to a list of approved usernames\n",
    "\n",
    "approved_users = [\"elarson\", \"bmoreno\", \"sgilmore\", \"eraab\", \"gesparza\"]\n",
    "\n",
    "# Assign `approved_devices` to a list of device IDs that correspond to the usernames in `approved_users`\n",
    "\n",
    "approved_devices = [\"8rp2k75\", \"hl0s5o1\", \"4n482ts\", \"a307vir\", \"3rcv4w6\"]\n",
    "\n",
    "# Assign `username` to a username\n",
    "\n",
    "username = \"sgilmore\"\n",
    "\n",
    "# Assign `device_id` to a device ID\n",
    "\n",
    "device_id = \"4n482ts\"\n",
    "\n",
    "# Assign `ind` to the index of `username` in `approved_users`\n",
    "\n",
    "ind = approved_users.index(username)\n",
    "\n",
    "# If statement\n",
    "# If `username` belongs to `approved_users`, and if the element at `ind` in `approved_devices` matches `device_id`,\n",
    "# then display a message that the username is approved,\n",
    "# followed by a message that the user has the correct device\n",
    "\n",
    "if username in approved_users and device_id == approved_devices[ind]:\n",
    "    print(\"The user\", username, \"is approved to access the system.\")\n",
    "    print(device_id, \"is the assigned device for\", username)\n",
    "\n",
    "# Elif statement\n",
    "# Handles the case when `username` belongs to `approved_users` but element at `ind` in `approved_devices` does not match `device_id`,\n",
    "# and displays two messages accordingly\n",
    "\n",
    "elif username in approved_users and device_id != approved_devices[ind]:\n",
    "    print(\"The user\", username, \"is approved to access the system, but\", device_id, \"is not their assigned device.\")"
   ]
  },
  {
   "cell_type": "markdown",
   "metadata": {
    "id": "vZ5yXFKQVIu9"
   },
   "source": [
    "<details>\n",
    "  <summary><h4><strong>Hint 1</strong></h4></summary>\n",
    "\n",
    "In the `elif` statement, use the `in` operator to check whether `username` belongs to `approved_users`, use a comparison operator to check whether the element at `ind` in `approved_devices` doesn't match `device_id`, and use a logical operator to connect these two conditions to check whether both of them are met.\n",
    "\n",
    "</details>"
   ]
  },
  {
   "cell_type": "markdown",
   "metadata": {
    "id": "0uDtAcGNVIu9"
   },
   "source": [
    "<details>\n",
    "  <summary><h4><strong>Hint 2</strong></h4></summary>\n",
    "\n",
    "In the `elif` statement, use the `in` operator to check whether `username` belongs to `approved_users`, use the `!=` comparison operator to check whether the element at `ind` in `approved_devices` doesn't match `device_id`, and use the `and` logical operator to connect these two conditions to check whether both of them are met.\n",
    "\n",
    "</details>"
   ]
  },
  {
   "cell_type": "markdown",
   "metadata": {
    "id": "i9zFgxJvYFnC"
   },
   "source": [
    "#### **Question 8**\n",
    "**What do you observe from the output when `username` is `\"sgilmore\"` and `device_id` is `\"4n482ts\"`?**\n"
   ]
  },
  {
   "cell_type": "markdown",
   "metadata": {
    "id": "bkobSiMfYFnK"
   },
   "source": [
    "When `username` is `\"sgilmore\"` and `device_id` is `\"4n482ts\"`, the output consists of `The user sgilmore is approved to access the system.` on the first line and `4n482ts is the assigned device for sgilmore` on the second line.\n",
    "\n",
    "If `username` wasn't in the `approved_devices` list, the output would be a message that the user is not approved to access the system. \n",
    "\n",
    "If `username` was in the `approved_devices` list but `device_id` didn't correspond with `username`, the output would be a message that the user is approved to access the system but the device ID is not assigned to them."
   ]
  },
  {
   "cell_type": "markdown",
   "metadata": {
    "id": "gNmZaLueDnqM"
   },
   "source": [
    "## Task 9\n",
    "In this task, you'll complete your algorithm by developing a function that uses some of the code you've written in earlier tasks. This will automate the login process.\n",
    "\n",
    "There are multiple ways to use conditionals to automate the login process. In the following code, a nested conditional is used to achieve the goals of the algorithm. There is a conditional statement inside of another conditional statement. The outer conditional handles the case when the `username` is approved and the case when `username` is not approved. The inner conditional, which is placed inside the first `if` statement, handles the case when the `username` is approved and the `device_id` is correct, as well as the case when the `username` is approved and the `device_id` is incorrect. \n",
    "\n",
    "To complete this task, you must define a function named `login` that takes in two parameters, `username` and `device_id`. Afterwards, call the function and pass in different username and device ID combinations to experiment and observe the function's behavior. Be sure to replace the `### YOUR CODE HERE ###` with your own code before you run the following cell."
   ]
  },
  {
   "cell_type": "code",
   "execution_count": 9,
   "metadata": {
    "colab": {
     "base_uri": "https://localhost:8080/"
    },
    "executionInfo": {
     "elapsed": 4,
     "status": "ok",
     "timestamp": 1675446439146,
     "user": {
      "displayName": "Lavanya Vijayan",
      "userId": "09394087000910120547"
     },
     "user_tz": 480
    },
    "id": "j2QZoFpfbJGB",
    "outputId": "056ee3bb-4cba-40d0-ef8a-027fdccdf0d5"
   },
   "outputs": [
    {
     "name": "stdout",
     "output_type": "stream",
     "text": [
      "The user bmoreno is approved to access the system.\n",
      "hl0s5o1 is the assigned device for bmoreno\n",
      "The user elarson is approved to access the system.\n",
      "r2s5r9g is not their assigned device.\n",
      "The username abernard is not approved to access the system.\n"
     ]
    }
   ],
   "source": [
    "# Assign `approved_users` to a list of approved usernames\n",
    "\n",
    "approved_users = [\"elarson\", \"bmoreno\", \"sgilmore\", \"eraab\", \"gesparza\"]\n",
    "\n",
    "# Assign `approved_devices` to a list of device IDs that correspond to the usernames in `approved_users`\n",
    "\n",
    "approved_devices = [\"8rp2k75\", \"hl0s5o1\", \"4n482ts\", \"a307vir\", \"3rcv4w6\"]\n",
    "\n",
    "# Define a function named `login` that takes in two parameters, `username` and `device_id`\n",
    "\n",
    "def login(username, device_id):\n",
    "\n",
    "    # If `username` belongs to `approved_users`, \n",
    "\n",
    "    if username in approved_users:\n",
    "\n",
    "        # then display \"The user ______ is approved to access the system.\",\n",
    "\n",
    "        print(\"The user\", username, \"is approved to access the system.\")\n",
    "\n",
    "        # assign `ind` to the index of `username` in `approved_users`,\n",
    "\n",
    "        ind = approved_users.index(username)\n",
    "\n",
    "        # and execute the following conditional\n",
    "        # If `device_id` matches the element at the index `ind` in `approved_devices`,\n",
    "\n",
    "        if device_id == approved_devices[ind]:\n",
    "\n",
    "          # then display \"______ is the assigned device for ______\" \n",
    "\n",
    "          print(device_id, \"is the assigned device for\", username)\n",
    "\n",
    "        # Otherwise,\n",
    "\n",
    "        else:\n",
    "\n",
    "          # display \"______ is not their assigned device\"\n",
    "\n",
    "          print(device_id, \"is not their assigned device.\")\n",
    "  \n",
    "    # Otherwise (part of the outer conditional and handles the case when `username` does not belong to `approved_users`),\n",
    "\n",
    "    else:\n",
    "\n",
    "        # Display \"The user ______ is not approved to access the system.\"\n",
    "\n",
    "        print(\"The username\", username, \"is not approved to access the system.\")\n",
    "\n",
    "# Call the function you just defined to experiment with different username and device_id combinations\n",
    "\n",
    "login(\"bmoreno\", \"hl0s5o1\")\n",
    "login(\"elarson\", \"r2s5r9g\")\n",
    "login(\"abernard\", \"4n482ts\")\n"
   ]
  },
  {
   "cell_type": "markdown",
   "metadata": {
    "id": "3VpUpR6Zey9V"
   },
   "source": [
    "<details>\n",
    "  <summary><h4><strong>Hint 1</strong></h4></summary>\n",
    "\n",
    "Use the `def` keyword to start the function definition. \n",
    "\n",
    "</details>"
   ]
  },
  {
   "cell_type": "markdown",
   "metadata": {
    "id": "uNW0NWMGVZmN"
   },
   "source": [
    "<details>\n",
    "  <summary><h4><strong>Hint 2</strong></h4></summary>\n",
    "\n",
    "After the `def` keyword, specify the name of the function, followed by parantheses and a colon. Inside the parantheses, specify the parameters that the function takes in.\n",
    "\n",
    "To call the function, write the name of the function, followed by parantheses, and pass in the username and device ID that you want to experiment with.\n",
    "\n",
    "</details>"
   ]
  },
  {
   "cell_type": "markdown",
   "metadata": {
    "id": "WxLVS38vhOxi"
   },
   "source": [
    "<details>\n",
    "  <summary><h4><strong>Hint 3</strong></h4></summary>\n",
    "\n",
    "After the `def` keyword, write `login(username, device_id):` to complete the function definition header.\n",
    "\n",
    "To call the function, write `login()`, and pass in the username and device ID that you want to experiment with, separated by a comma. Keep in mind that the arguments you pass in are string data.\n",
    "\n",
    "</details>"
   ]
  },
  {
   "cell_type": "markdown",
   "metadata": {
    "id": "woVZXLtPZv5i"
   },
   "source": [
    "#### **Question 9**\n",
    "**After Python enters the inner conditional, what happens when the `device_id` is correct, and what happens when the `device_id` is incorrect?**\n"
   ]
  },
  {
   "cell_type": "markdown",
   "metadata": {
    "id": "6OQF1yg7Zv5i"
   },
   "source": [
    "The following happens after Python enters the inner conditional:\n",
    "\n",
    "When the `device_id` is correct, the inner `if` condition evaluates to `True`, and a message that the device ID is assigned to the user is displayed.\n",
    "\n",
    "When the `device_id` is incorrect, the inner `if` condition evaluates to `False`, Python enters the `else` case, and a message that the device ID is not the user's designed device is displayed."
   ]
  },
  {
   "cell_type": "markdown",
   "metadata": {
    "id": "ru2ytGBLCh4q"
   },
   "source": [
    "## Conclusion\n",
    "\n",
    "**What are your key takeaways from this lab?**"
   ]
  },
  {
   "cell_type": "markdown",
   "metadata": {
    "id": "hxh9FImwbcF9"
   },
   "source": [
    "- Indexing a list is similar to indexing a string. Index values start at `0`. \n",
    "- The `.append()` method helps you add new elements to the end of lists.\n",
    "- The `.remove()` method helps you remove elements from lists.\n",
    "- The `.index()` method can be used on different types of sequences. They can be used not only with strings, but also with lists.\n",
    "  - With a list, the `.index()` method allows you to identify the position where a specified element is located in that list.\n",
    "- If two lists contain information that correspond to each other in a specific order, you can use indices to pair elements from the lists together.\n",
    "- Functions can be used to develop algorithms. When defining a function, you must specify the parameters it takes in and the actions it should execute. "
   ]
  }
 ],
 "metadata": {
  "colab": {
   "collapsed_sections": [
    "0rePIFfpFgJL"
   ],
   "provenance": [],
   "toc_visible": true
  },
  "kernelspec": {
   "display_name": "Python 3",
   "language": "python",
   "name": "python3"
  },
  "language_info": {
   "codemirror_mode": {
    "name": "ipython",
    "version": 3
   },
   "file_extension": ".py",
   "mimetype": "text/x-python",
   "name": "python",
   "nbconvert_exporter": "python",
   "pygments_lexer": "ipython3",
   "version": "3.7.6"
  }
 },
 "nbformat": 4,
 "nbformat_minor": 1
}
