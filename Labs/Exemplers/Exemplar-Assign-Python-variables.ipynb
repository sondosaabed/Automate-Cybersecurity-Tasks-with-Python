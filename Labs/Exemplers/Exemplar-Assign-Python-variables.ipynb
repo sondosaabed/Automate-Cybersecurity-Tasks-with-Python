{
 "cells": [
  {
   "cell_type": "markdown",
   "metadata": {
    "id": "ISr45HAPh1Xq"
   },
   "source": [
    "# Exemplar: Assign Python variables"
   ]
  },
  {
   "cell_type": "markdown",
   "metadata": {
    "id": "4VpjROMsvYFP"
   },
   "source": [
    "## Introduction\n",
    "\n",
    "Variables help security analysts to keep track of a variety of security-related information. For example, analysts may need to create Python variables for the users who are allowed to log in, the number of login attempts that they're permitted, and the current number of attempts that a user has made.\n",
    "\n",
    "In this lab, you'll practice assigning values to variables and determining their data types."
   ]
  },
  {
   "cell_type": "markdown",
   "metadata": {
    "id": "eW4pA4LsC-vb"
   },
   "source": [
    "<details><summary><h2>Tips for completing this lab</h2></summary>\n",
    "\n",
    "As you navigate this lab, keep the following tips in mind:\n",
    "\n",
    "- `### YOUR CODE HERE ###` indicates where you should write code. Be sure to replace this with your own code before running the code cell.\n",
    "- Feel free to open the hints for additional guidance as you work on each task.\n",
    "- To enter your answer to a question, double-click the markdown cell to edit. Be sure to replace the \"[Double-click to enter your responses here.]\" with your own answer.\n",
    "- You can save your work manually by clicking File and then Save in the menu bar at the top of the notebook.\n",
    "- You can download your work locally by clicking File and then Download and then specifying your preferred file format in the menu bar at the top of the notebook.\n",
    "</details>"
   ]
  },
  {
   "cell_type": "markdown",
   "metadata": {
    "id": "A8q3M1L7isIj"
   },
   "source": [
    "## Scenario\n",
    "You are a security analyst who is responsible for writing code that will automate analysis of login attempts made to a specific device. As the first step, you'll need to create variables to keep track of information relevant to the login process. This information includes the device ID, list of approved usernames, maximum login attempts allowed per user, current login attempts made by a user, and login status.\n",
    "\n",
    "Throughout this lab, you'll assign these variables and check the data types of the variables."
   ]
  },
  {
   "cell_type": "markdown",
   "metadata": {
    "id": "2OZS-ACEyD65",
    "tags": []
   },
   "source": [
    "## Task 1\n",
    "In your work as an analyst, imagine there is a device only users specified on an allow list can access, and its device ID is `\"72e08x0\"`.\n",
    "\n",
    "In the following code cell, assign this value to a variable named `device_id`. Then, display the contents of the variable and observe the output.  \n",
    "\n",
    "Be sure to replace each `### YOUR CODE HERE ###` with your own code before you run the following cell."
   ]
  },
  {
   "cell_type": "code",
   "execution_count": 1,
   "metadata": {
    "colab": {
     "base_uri": "https://localhost:8080/"
    },
    "executionInfo": {
     "elapsed": 8,
     "status": "ok",
     "timestamp": 1675409251544,
     "user": {
      "displayName": "Lavanya Vijayan",
      "userId": "09394087000910120547"
     },
     "user_tz": 480
    },
    "id": "a5Kqx1C3H5m2",
    "outputId": "3612480d-9240-4562-cf76-5931bad8b1cb",
    "scrolled": true
   },
   "outputs": [
    {
     "name": "stdout",
     "output_type": "stream",
     "text": [
      "72e08x0\n"
     ]
    }
   ],
   "source": [
    "# Assign the `device_id` variable to the device ID that only specified users can access\n",
    "\n",
    "device_id = \"72e08x0\"\n",
    "\n",
    "# Display `device_id`\n",
    "\n",
    "print(device_id)\n"
   ]
  },
  {
   "cell_type": "markdown",
   "metadata": {
    "id": "F30VpnPtUcW5",
    "tags": []
   },
   "source": [
    "<details>\n",
    "  <summary><h4><strong>Hint 1</strong></h4></summary>\n",
    "\n",
    "Use quotation marks around the value that you assign to the `device_id` variable.\n",
    "\n",
    "</details>"
   ]
  },
  {
   "cell_type": "markdown",
   "metadata": {
    "id": "jj2jLLzLUcW5"
   },
   "source": [
    "<details>\n",
    "  <summary><h4><strong>Hint 2</strong></h4></summary>\n",
    "\n",
    "Assign the value `\"72e08x0\"` to the variable `device_id`. To do this, place the value to right of the `=` operator.\n",
    "\n",
    "</details>"
   ]
  },
  {
   "cell_type": "markdown",
   "metadata": {
    "id": "qpHMOi8vUcW5"
   },
   "source": [
    "<details>\n",
    "  <summary><h4><strong>Hint 3</strong></h4></summary>\n",
    "\n",
    "To display the contents of `device_id`, place the name of this variable inside the `print()` function.\n",
    "\n",
    "</details>"
   ]
  },
  {
   "cell_type": "markdown",
   "metadata": {
    "id": "Xky9BjthiYqm"
   },
   "source": [
    "## Task 2\n",
    "Now that the variable `device_id` is defined, you can return its data type.\n",
    "\n",
    "In this task, use a Python function to find the data type of the variable `device_id`. Store the data type in another variable called `device_id_type`. Then, display `device_id_type` to examine the output.\n",
    "\n",
    "Be sure to replace each `### YOUR CODE HERE ###` with your own code before you run the following cell.\n"
   ]
  },
  {
   "cell_type": "code",
   "execution_count": 2,
   "metadata": {
    "colab": {
     "base_uri": "https://localhost:8080/"
    },
    "executionInfo": {
     "elapsed": 5,
     "status": "ok",
     "timestamp": 1675409251544,
     "user": {
      "displayName": "Lavanya Vijayan",
      "userId": "09394087000910120547"
     },
     "user_tz": 480
    },
    "id": "kRAxA7y9idhW",
    "outputId": "4057414e-da04-4eb4-e6bf-6c0bc9e4b7f8"
   },
   "outputs": [
    {
     "name": "stdout",
     "output_type": "stream",
     "text": [
      "<class 'str'>\n"
     ]
    }
   ],
   "source": [
    "# Assign the `device_id` variable to the device ID that only specified users can access\n",
    "\n",
    "device_id = \"72e08x0\"\n",
    "\n",
    "# Assign `device_id_type` to the data type of `device_id`\n",
    "\n",
    "device_id_type = type(device_id)\n",
    "\n",
    "# Display `device_id_type`\n",
    "\n",
    "print(device_id_type)\n"
   ]
  },
  {
   "cell_type": "markdown",
   "metadata": {
    "id": "SF-DtKYyrLak",
    "tags": []
   },
   "source": [
    "<details>\n",
    "  <summary><h4><strong>Hint 1</strong></h4></summary>\n",
    "\n",
    "The `type()` function allows you to get the data type of a given value.\n",
    "\n",
    "</details>"
   ]
  },
  {
   "cell_type": "markdown",
   "metadata": {
    "id": "PEcJeExRrLat"
   },
   "source": [
    "<details>\n",
    "  <summary><h4><strong>Hint 2</strong></h4></summary>\n",
    "\n",
    "Use `type(device_id)` to get the data type of the `device_id` variable.\n",
    "\n",
    "</details>"
   ]
  },
  {
   "cell_type": "markdown",
   "metadata": {
    "id": "fLVHruphrp49"
   },
   "source": [
    "<details>\n",
    "  <summary><h4><strong>Hint 3</strong></h4></summary>\n",
    "\n",
    "To display `device_id_type`, place the name of this variable inside the `print()` function.\n",
    "\n",
    "</details>"
   ]
  },
  {
   "cell_type": "markdown",
   "metadata": {
    "id": "g_03rNzrd8F0"
   },
   "source": [
    "#### **Question 1**\n",
    "**Based on the output above, what do you observe about the data type of `device_id`?**"
   ]
  },
  {
   "cell_type": "markdown",
   "metadata": {
    "id": "_8cCn9ZXP03q"
   },
   "source": [
    "The output above shows that the data type of `device_id` is `str`, which means that `device_id` stores a string value."
   ]
  },
  {
   "cell_type": "markdown",
   "metadata": {
    "id": "QP05AxAwi_vL"
   },
   "source": [
    "## Task 3\n",
    "As you continue your work, you're provided a list of usernames of users who are allowed to access the device. The usernames with this access are `\"madebowa\"`, `\"jnguyen\"`, `\"tbecker\"`, `\"nhersh\"`, and `\"redwards\"`.\n",
    "\n",
    "In this task, create a variable called `username_list`. Assign a list with the approved usernames to this variable. Then, display the value of the `username_list` variable.\n",
    "\n",
    "Be sure to replace each `### YOUR CODE HERE ###` with your own code before you run the following cell."
   ]
  },
  {
   "cell_type": "code",
   "execution_count": 3,
   "metadata": {
    "colab": {
     "base_uri": "https://localhost:8080/"
    },
    "executionInfo": {
     "elapsed": 263,
     "status": "ok",
     "timestamp": 1675409251804,
     "user": {
      "displayName": "Lavanya Vijayan",
      "userId": "09394087000910120547"
     },
     "user_tz": 480
    },
    "id": "SS62ApI5jAml",
    "outputId": "e8d8bbc8-f475-4951-836c-62abefdda7aa"
   },
   "outputs": [
    {
     "name": "stdout",
     "output_type": "stream",
     "text": [
      "['madebowa', 'jnguyen', 'tbecker', 'nhersh', 'redwards']\n"
     ]
    }
   ],
   "source": [
    "# Assign `username_list` to the list of usernames who are allowed to access the device\n",
    "\n",
    "username_list = [\"madebowa\", \"jnguyen\", \"tbecker\", \"nhersh\", \"redwards\"]\n",
    "\n",
    "# Display `username_list`\n",
    "\n",
    "print(username_list)\n"
   ]
  },
  {
   "cell_type": "markdown",
   "metadata": {
    "id": "9zon3fxlbZiG"
   },
   "source": [
    "<details>\n",
    "  <summary><h4><strong>Hint 1</strong></h4></summary>\n",
    "\n",
    "To create a list in Python, use square brackets. Inside the square brackets, write the elements of the list, with a comma between elements.\n",
    "\n",
    "</details>"
   ]
  },
  {
   "cell_type": "markdown",
   "metadata": {
    "id": "YSybIULfbZiG"
   },
   "source": [
    "<details>\n",
    "  <summary><h4><strong>Hint 2</strong></h4></summary>\n",
    "\n",
    "To assign a value to a variable in Python, place the name of the variable to the left of the `=` operator, and place the value to the right of the `=` operator.\n",
    "\n",
    "In this task, make sure to place `[\"madebowa\", \"jnguyen\", \"tbecker\", \"nhersh\", \"redwards\"]` to the right of the `=` operator.\n",
    "\n",
    "</details>"
   ]
  },
  {
   "cell_type": "markdown",
   "metadata": {
    "id": "OQTnnv6TbZiG"
   },
   "source": [
    "<details>\n",
    "  <summary><h4><strong>Hint 3</strong></h4></summary>\n",
    "\n",
    "To display `username_list`, place the name of this variable inside the `print()` function.\n",
    "\n",
    "</details>"
   ]
  },
  {
   "cell_type": "markdown",
   "metadata": {
    "id": "89fOQheQ076R"
   },
   "source": [
    "## Task 4\n",
    "In this task, find the data type of the `username_list`. Store the type in a variable called `username_list_type`. Then, display `username_list_type` to examine the output.\n",
    "\n",
    "Be sure to replace each `### YOUR CODE HERE ###` with your own code before you run the following cell."
   ]
  },
  {
   "cell_type": "code",
   "execution_count": 4,
   "metadata": {
    "colab": {
     "base_uri": "https://localhost:8080/"
    },
    "executionInfo": {
     "elapsed": 12,
     "status": "ok",
     "timestamp": 1675409251804,
     "user": {
      "displayName": "Lavanya Vijayan",
      "userId": "09394087000910120547"
     },
     "user_tz": 480
    },
    "id": "9SS5MG-91BzX",
    "outputId": "bc1cc053-314e-436a-fb42-3bbd5a594533"
   },
   "outputs": [
    {
     "name": "stdout",
     "output_type": "stream",
     "text": [
      "<class 'list'>\n"
     ]
    }
   ],
   "source": [
    "# Assign `username_list` to the list of usernames who are allowed to access the device\n",
    "\n",
    "username_list = [\"madebowa\", \"jnguyen\", \"tbecker\", \"nhersh\", \"redwards\"]\n",
    "\n",
    "# Assign `username_list_type` to the data type of `username_list`\n",
    "\n",
    "username_list_type = type(username_list)\n",
    "\n",
    "# Display `username_list_type`\n",
    "\n",
    "print(username_list_type)\n"
   ]
  },
  {
   "cell_type": "markdown",
   "metadata": {
    "id": "_A6GgpvQcEdv"
   },
   "source": [
    "<details>\n",
    "  <summary><h4><strong>Hint 1</strong></h4></summary>\n",
    "\n",
    "The `type()` function allows you to get the data type of a given value.\n",
    "\n",
    "</details>"
   ]
  },
  {
   "cell_type": "markdown",
   "metadata": {
    "id": "sk0EVD3ecEdw"
   },
   "source": [
    "<details>\n",
    "  <summary><h4><strong>Hint 2</strong></h4></summary>\n",
    "\n",
    "To get the data type of `username_list`, call the `type()` function and pass in `username_list`.\n",
    "\n",
    "</details>"
   ]
  },
  {
   "cell_type": "markdown",
   "metadata": {
    "id": "pEetodFVcEdw"
   },
   "source": [
    "<details>\n",
    "  <summary><h4><strong>Hint 3</strong></h4></summary>\n",
    "\n",
    "In Python, you can use the `print()` function to display the value of a variable. To display `username_list_type`, call the `print()` function and pass in `username_list_type`.\n",
    "\n",
    "</details>"
   ]
  },
  {
   "cell_type": "markdown",
   "metadata": {
    "id": "2Q916P--eiMt"
   },
   "source": [
    "#### **Question 2**\n",
    "**Based on the output above, what do you observe about the data type of `username_list`?**"
   ]
  },
  {
   "cell_type": "markdown",
   "metadata": {
    "id": "6cNEhhQSeiMt"
   },
   "source": [
    "The output above shows that the data type of `username_list` is `list`, which means that `username_list` stores a list."
   ]
  },
  {
   "cell_type": "markdown",
   "metadata": {
    "id": "cvV_L70okWNI"
   },
   "source": [
    "## Task 5\n",
    "Now, imagine that you've been informed that the previous list is not up-to-date and that there is another employee that now has access to the device. You're given the updated list of usernames with access, including the new employee, as follows: `\"madebowa\"`, `\"jnguyen\"`, `\"tbecker\"`, `\"nhersh\"`, `\"redwards\"`, and `\"lpope\"`.\n",
    "\n",
    "In this task, reassign the variable `username_list` to the new list. Run the code to display the list before and after it's been updated to observe the difference.\n",
    "\n",
    "Be sure to replace each `### YOUR CODE HERE ###` with your own code before you run the following cell."
   ]
  },
  {
   "cell_type": "code",
   "execution_count": 5,
   "metadata": {
    "colab": {
     "base_uri": "https://localhost:8080/"
    },
    "executionInfo": {
     "elapsed": 11,
     "status": "ok",
     "timestamp": 1675409251805,
     "user": {
      "displayName": "Lavanya Vijayan",
      "userId": "09394087000910120547"
     },
     "user_tz": 480
    },
    "id": "pIEGyb-zlA8A",
    "outputId": "bbebf4e7-6cd1-4794-9b94-4ef2b006b172"
   },
   "outputs": [
    {
     "name": "stdout",
     "output_type": "stream",
     "text": [
      "['madebowa', 'jnguyen', 'tbecker', 'nhersh', 'redwards']\n",
      "['madebowa', 'jnguyen', 'tbecker', 'nhersh', 'redwards', 'lpope']\n"
     ]
    }
   ],
   "source": [
    "# Assign `username_list` to the list of usernames who are allowed to access the device\n",
    "\n",
    "username_list = [\"madebowa\", \"jnguyen\", \"tbecker\", \"nhersh\", \"redwards\"]\n",
    "\n",
    "# Display `username_list`\n",
    "\n",
    "print(username_list)\n",
    "\n",
    "# Assign `username_list` to the updated list of usernames who are allowed to access the device\n",
    "\n",
    "username_list = [\"madebowa\", \"jnguyen\", \"tbecker\", \"nhersh\", \"redwards\", \"lpope\"]\n",
    "\n",
    "# Display `username_list`\n",
    "\n",
    "print(username_list)\n"
   ]
  },
  {
   "cell_type": "markdown",
   "metadata": {
    "id": "02bW-FQSgYX7"
   },
   "source": [
    "<details>\n",
    "  <summary><h4><strong>Hint 1</strong></h4></summary>\n",
    "\n",
    "When reassigning a variable to a new value in Python, place the name of the variable to the left of the `=` operator, just as you would when assigning the variable for the first time.\n",
    "\n",
    "</details>"
   ]
  },
  {
   "cell_type": "markdown",
   "metadata": {
    "id": "3_nNw86tgrAl"
   },
   "source": [
    "<details>\n",
    "  <summary><h4><strong>Hint 2</strong></h4></summary>\n",
    "\n",
    "To reassign `username_list` to the updated list, place `username_list` to the left of the `=` operator.\n",
    "\n",
    "</details>"
   ]
  },
  {
   "cell_type": "markdown",
   "metadata": {
    "id": "JvpvqtW6g-QT"
   },
   "source": [
    "#### **Question 3**\n",
    "**Based on the output above, what do you observe about the contents of `username_list`?**"
   ]
  },
  {
   "cell_type": "markdown",
   "metadata": {
    "id": "cufI7uDjg-QU"
   },
   "source": [
    "The output above shows that the contents of `username_list` were updated after the variable was reassigned to the new list.\n",
    "\n",
    "The first `print()` call output the original contents of the list. The second `print()` call output the updated contents, which includes the newly added username, `\"lpope\"`."
   ]
  },
  {
   "cell_type": "markdown",
   "metadata": {
    "id": "iYDV65CclQlc"
   },
   "source": [
    "## Task 6\n",
    "In this task, define a variable called `max_logins` that represents the maximum number of login attempts allowed per user. Store the value `3` in this variable. Then, store its data type in another variable called `max_logins_type`. Display `max_logins_type` to examine the output.\n",
    "\n",
    "Be sure to replace each `### YOUR CODE HERE ###` with your own code before you run the following cell."
   ]
  },
  {
   "cell_type": "code",
   "execution_count": 6,
   "metadata": {
    "colab": {
     "base_uri": "https://localhost:8080/"
    },
    "executionInfo": {
     "elapsed": 10,
     "status": "ok",
     "timestamp": 1675409251805,
     "user": {
      "displayName": "Lavanya Vijayan",
      "userId": "09394087000910120547"
     },
     "user_tz": 480
    },
    "id": "dbJ7MNJylVfs",
    "outputId": "ab1fba0c-b119-4d66-cf2c-1394d583d156"
   },
   "outputs": [
    {
     "name": "stdout",
     "output_type": "stream",
     "text": [
      "<class 'int'>\n"
     ]
    }
   ],
   "source": [
    "# Assign `max_logins` to the value 3\n",
    "\n",
    "max_logins = 3\n",
    "\n",
    "# Assign `max_logins_type` to the data type of `max_logins`\n",
    "\n",
    "max_logins_type = type(max_logins)\n",
    "\n",
    "# Display `max_login_type`\n",
    "\n",
    "print(max_logins_type)\n"
   ]
  },
  {
   "cell_type": "markdown",
   "metadata": {
    "id": "HsLh5HZ0iSay"
   },
   "source": [
    "<details>\n",
    "  <summary><h4><strong>Hint 1</strong></h4></summary>\n",
    "\n",
    "When assigning a value to a variable in Python, use the `=` operator. Place the name of the variable to the left of the `=` operator, and place the value to the right of the `=` operator.\n",
    "\n",
    "</details>"
   ]
  },
  {
   "cell_type": "markdown",
   "metadata": {
    "id": "HnwzqIY5xknA"
   },
   "source": [
    "<details>\n",
    "  <summary><h4><strong>Hint 2</strong></h4></summary>\n",
    "\n",
    "To assign `3` to `max_logins`, place `max_logins` to the left of the `=` operator, and place `3` to the right of the `=` operator.\n",
    "\n",
    "To assign `max_logins_type`, place `max_logins_type` to the left of the `=` operator before the `type()` function call.\n",
    "\n",
    "</details>"
   ]
  },
  {
   "cell_type": "markdown",
   "metadata": {
    "id": "b3NMTkl_i7FI"
   },
   "source": [
    "<details>\n",
    "  <summary><h4><strong>Hint 3</strong></h4></summary>\n",
    "\n",
    "In Python, you can use the `print()` function to display the value of a variable. To display `max_logins_type`, call `print()` and pass in `max_logins_type`.\n",
    "\n",
    "</details>"
   ]
  },
  {
   "cell_type": "markdown",
   "metadata": {
    "id": "Bl35H3myh4xZ"
   },
   "source": [
    "#### **Question 4**\n",
    "**Based on the output above, what do you observe about the data type of `max_logins`?**"
   ]
  },
  {
   "cell_type": "markdown",
   "metadata": {
    "id": "5X8VijTeh4xi"
   },
   "source": [
    "The output above shows that the data type of `max_logins` is `int`, which means that `max_logins` stores an integer value."
   ]
  },
  {
   "cell_type": "markdown",
   "metadata": {
    "id": "85o9hfJmyH3W"
   },
   "source": [
    "## Task 7\n",
    "In this task, define a variable called `login_attempts` that represents the current number of login attempts made by a user. Store the value `2` in this variable. Then, store `login_attempts` data type in a variable called `login_attempts_type`. Display `login_attempts_type` to observe the output.\n",
    "\n",
    "Be sure to replace each `### YOUR CODE HERE ###` with your own code before you run the following cell."
   ]
  },
  {
   "cell_type": "code",
   "execution_count": 2,
   "metadata": {
    "colab": {
     "base_uri": "https://localhost:8080/"
    },
    "executionInfo": {
     "elapsed": 8,
     "status": "ok",
     "timestamp": 1675409251805,
     "user": {
      "displayName": "Lavanya Vijayan",
      "userId": "09394087000910120547"
     },
     "user_tz": 480
    },
    "id": "sU5EhaVvyKQd",
    "outputId": "6ab58814-7d42-4bba-8a6e-00241d1b6680"
   },
   "outputs": [
    {
     "name": "stdout",
     "output_type": "stream",
     "text": [
      "<class 'int'>\n"
     ]
    }
   ],
   "source": [
    "# Assign `login_attempts` to the value 2\n",
    "\n",
    "login_attempts = 2\n",
    "\n",
    "# Assign `login_attempts_type` to the data type of `login_attempts`\n",
    "\n",
    "login_attempts_type = type(login_attempts)\n",
    "\n",
    "# Display `login_attempts_type`\n",
    "\n",
    "print(login_attempts_type)\n"
   ]
  },
  {
   "cell_type": "markdown",
   "metadata": {
    "id": "t-l9SR2mVeqc"
   },
   "source": [
    "<details>\n",
    "  <summary><h4><strong>Hint 1</strong></h4></summary>\n",
    "\n",
    "When assigning a value to a variable in Python, use the `=` operator. Place the name of the variable to the left of the `=` operator, and place the value to the right of the `=` operator.\n",
    "\n",
    "</details>"
   ]
  },
  {
   "cell_type": "markdown",
   "metadata": {
    "id": "tImrnEMHj0a8"
   },
   "source": [
    "<details>\n",
    "  <summary><h4><strong>Hint 2</strong></h4></summary>\n",
    "\n",
    "To assign `2` to `login_attempts`, place `login_attempts` to the left of the `=` operator, and place `2` to the right of the `=` operator.\n",
    "\n",
    "To assign `login_attempts_type`, place `login_attempts_type` to the left of the `=` operator, and place a call to the `type()` function to the right of the `=` operator.\n",
    "\n",
    "When calling `type()`, make sure to pass in `login_attempts`.\n",
    "\n",
    "</details>"
   ]
  },
  {
   "cell_type": "markdown",
   "metadata": {
    "id": "HR-YEtSXj0a8"
   },
   "source": [
    "<details>\n",
    "  <summary><h4><strong>Hint 3</strong></h4></summary>\n",
    "\n",
    "In Python, you can use the `print()` function to display the value of a variable. To display `login_attempts_type`, call `print()` and pass in `login_attempts_type`.\n",
    "\n",
    "</details>"
   ]
  },
  {
   "cell_type": "markdown",
   "metadata": {
    "id": "sFSn1Xvuj0a8"
   },
   "source": [
    "#### **Question 5**\n",
    "**Based on the output above, what do you observe about the data type of `login_attempts`?**"
   ]
  },
  {
   "cell_type": "markdown",
   "metadata": {
    "id": "Yk06Bp9Nj0a8"
   },
   "source": [
    "The output above shows that the data type of `login_attempts` is `int`, which means that `login_attempts` stores an integer value."
   ]
  },
  {
   "cell_type": "markdown",
   "metadata": {
    "id": "JKNwC4lKzWW6"
   },
   "source": [
    "## Task 8\n",
    "In this task, you'll determine the Boolean value that represents whether the current number of login attempts a user has made is less than or equal to the maximum number of login attempts allowed.\n",
    "\n",
    "Be sure to replace each `### YOUR CODE HERE ###` with your own code before you run the following cell.\n"
   ]
  },
  {
   "cell_type": "code",
   "execution_count": 8,
   "metadata": {
    "colab": {
     "base_uri": "https://localhost:8080/"
    },
    "executionInfo": {
     "elapsed": 8,
     "status": "ok",
     "timestamp": 1675409251806,
     "user": {
      "displayName": "Lavanya Vijayan",
      "userId": "09394087000910120547"
     },
     "user_tz": 480
    },
    "id": "3Bur4a2ozYdg",
    "outputId": "b5e153cd-bff4-4ac7-a569-b2ac9408de88"
   },
   "outputs": [
    {
     "name": "stdout",
     "output_type": "stream",
     "text": [
      "True\n"
     ]
    }
   ],
   "source": [
    "# Assign `max_logins` to the value 3\n",
    "\n",
    "max_logins = 3\n",
    "\n",
    "# Assign `login_attempts` to the value 2\n",
    "\n",
    "login_attempts = 2\n",
    "\n",
    "# Determine whether the current number of login attempts a user has made is less than or equal to the maximum number of login attempts allowed,\n",
    "# and display the resulting Boolean value\n",
    "\n",
    "print(login_attempts <= max_logins)\n"
   ]
  },
  {
   "cell_type": "markdown",
   "metadata": {
    "id": "CcFDQ5iMklzz"
   },
   "source": [
    "<details>\n",
    "  <summary><h4><strong>Hint 1</strong></h4></summary>\n",
    "\n",
    "In Python, you can use the `<=` comparison operator to determine whether one value is less than or equal to another value.\n",
    "\n",
    "</details>"
   ]
  },
  {
   "cell_type": "markdown",
   "metadata": {
    "id": "nmT8q0j-klzz"
   },
   "source": [
    "<details>\n",
    "  <summary><h4><strong>Hint 2</strong></h4></summary>\n",
    "\n",
    "To determine whether the current number of login attempts a user has made is less than or equal to the maximum number of login attempts allowed, use the `<=` operator. Place `login_attempts` to the left of the `<=` operator, and place `max_logins` to the right of the `<=` operator.\n",
    "\n",
    "To make sure the resulting Boolean value is displayed, write this code inside of the parantheses where `print()` is called.\n",
    "\n",
    "</details>"
   ]
  },
  {
   "cell_type": "markdown",
   "metadata": {
    "id": "sLLg8WLeEafv"
   },
   "source": [
    "#### **Question 6**\n",
    "**What is the output? What does this mean?**"
   ]
  },
  {
   "cell_type": "markdown",
   "metadata": {
    "id": "fwrEyiqwklz0"
   },
   "source": [
    "The output above is `True`, which indicates that `login_attempts` is less than or equal to `max_logins`. In other words, the current number of attempts the user has made to log in has not yet exceeded the maximum number of attempts allowed."
   ]
  },
  {
   "cell_type": "markdown",
   "metadata": {
    "id": "rjxdlE170I70"
   },
   "source": [
    "## Task 9\n",
    "This code continues to check for the Boolean value of whether `max_logins` is less than or equal to `login_attempts`. In this task, reassign other values to `login_attempts`. For example, you might choose a value that is higher than the maximum number of attempts allowed. Observe how the output changes.\n",
    "\n",
    "Be sure to replace each `### YOUR CODE HERE ###` with your own code before you run the following cell."
   ]
  },
  {
   "cell_type": "code",
   "execution_count": 9,
   "metadata": {
    "colab": {
     "base_uri": "https://localhost:8080/"
    },
    "executionInfo": {
     "elapsed": 7,
     "status": "ok",
     "timestamp": 1675409251806,
     "user": {
      "displayName": "Lavanya Vijayan",
      "userId": "09394087000910120547"
     },
     "user_tz": 480
    },
    "id": "sEdWODAo0ZP9",
    "outputId": "7ab4816d-4104-4ce1-ee52-8acbccdde20d"
   },
   "outputs": [
    {
     "name": "stdout",
     "output_type": "stream",
     "text": [
      "False\n"
     ]
    }
   ],
   "source": [
    "# Assign `max_logins` to the value 3\n",
    "\n",
    "max_logins = 3\n",
    "\n",
    "# Assign `login_attempts` to a specific value\n",
    "\n",
    "login_attempts = 4\n",
    "\n",
    "# Determine whether the current number of login attempts a user has made is less than or equal to the maximum number of login attempts allowed,\n",
    "# and display the resulting Boolean value\n",
    "\n",
    "print(login_attempts <= max_logins)\n"
   ]
  },
  {
   "cell_type": "markdown",
   "metadata": {
    "id": "ApSY7aQamLZE"
   },
   "source": [
    "<details>\n",
    "  <summary><h4><strong>Hint 1</strong></h4></summary>\n",
    "\n",
    "To assign a specific value to `login_attempts`, make sure to write the value to the right of the `=` operator.\n",
    "\n",
    "</details>"
   ]
  },
  {
   "cell_type": "markdown",
   "metadata": {
    "id": "MbJ5mMuPmLZF"
   },
   "source": [
    "#### **Question 7**\n",
    "**Based on the different values you assigned to `login_attempts`, what did you observe about the output?**"
   ]
  },
  {
   "cell_type": "markdown",
   "metadata": {
    "id": "QgbQoSxdmLZF"
   },
   "source": [
    "The Boolean value in the output changes depending on the value assigned to `login_attempts`. For example, when `login_attempts` is assigned to `4`, the output is `False`, which indicates that `login_attempts` is not less than or equal to `max_logins`. In other words, the current number of log in attempts the user has made has exceeded the maximum number of attempts allowed."
   ]
  },
  {
   "cell_type": "markdown",
   "metadata": {
    "id": "ljQr3po-OMEk"
   },
   "source": [
    "## Task 10\n",
    "Finally, you can also assign a Boolean value of `True` or `False` to a variable.\n",
    "\n",
    "In this task, you'll create a variable called `login_status`, which is a Boolean that represents whether a user is logged in. Assign `False` to this variable and store its data type in a variable called `login_status_type` and display it.\n",
    "\n",
    "Be sure to replace each `### YOUR CODE HERE ###` with your own code before you run the following cell."
   ]
  },
  {
   "cell_type": "code",
   "execution_count": 10,
   "metadata": {
    "colab": {
     "base_uri": "https://localhost:8080/"
    },
    "executionInfo": {
     "elapsed": 6,
     "status": "ok",
     "timestamp": 1675409251806,
     "user": {
      "displayName": "Lavanya Vijayan",
      "userId": "09394087000910120547"
     },
     "user_tz": 480
    },
    "id": "GI8JJigW1bsO",
    "outputId": "730b8172-ebe4-4921-ac3e-4c050a3b0944"
   },
   "outputs": [
    {
     "name": "stdout",
     "output_type": "stream",
     "text": [
      "<class 'bool'>\n"
     ]
    }
   ],
   "source": [
    "# Assign `login_status` to the Boolean value False\n",
    "\n",
    "login_status = False\n",
    "\n",
    "# Assign `login_status_type` to the data type of `login_status`\n",
    "\n",
    "login_status_type = type(login_status)\n",
    "\n",
    "# Display `login_status_type`\n",
    "\n",
    "print(login_status_type)\n"
   ]
  },
  {
   "cell_type": "markdown",
   "metadata": {
    "id": "kEn6rrY0TBHq"
   },
   "source": [
    "<details>\n",
    "  <summary><h4><strong>Hint 1</strong></h4></summary>\n",
    "\n",
    "To assign the Boolean value `False` to the `login_status` variable, make sure to write `False` to the right of the `=` operator.\n",
    "\n",
    "</details>"
   ]
  },
  {
   "cell_type": "markdown",
   "metadata": {
    "id": "9LZYgEvKQ9tA"
   },
   "source": [
    "<details>\n",
    "  <summary><h4><strong>Hint 2</strong></h4></summary>\n",
    "\n",
    "Note that Boolean values should not have quotation marks around them in code.\n",
    "\n",
    "</details>"
   ]
  },
  {
   "cell_type": "markdown",
   "metadata": {
    "id": "EpuzbcA0rkiS"
   },
   "source": [
    "#### **Question 8**\n",
    "**Based on the output above, what do you observe about the data type of `login_status`?**"
   ]
  },
  {
   "cell_type": "markdown",
   "metadata": {
    "id": "AZAqQKoFrkiS"
   },
   "source": [
    "The output above shows that the data type of the `login_status` is `bool`, which means that `login_status` stores a Boolean value."
   ]
  },
  {
   "cell_type": "markdown",
   "metadata": {
    "id": "ru2ytGBLCh4q"
   },
   "source": [
    "## Conclusion\n",
    "\n",
    "**What are your key takeaways from this lab?**"
   ]
  },
  {
   "cell_type": "markdown",
   "metadata": {
    "id": "MYTiO0Hcn9av"
   },
   "source": [
    "- There are many useful operators in Python that help you work with variables.\n",
    "  - The `=` assignment operator allows you to assign or reassign a specific value to a variable.\n",
    "  - The `<=` comparison operator allows you to compare the value of one variable to the value of another.\n",
    "- The `type()` function in Python helps you to determine the data type of an object.\n",
    "  - If you pass in a variable to `type()`, it will output the data type of the value stored in the variable.\n",
    "- The `print()` function in Python allows you to display information.\n",
    "  - It can take in a value directly, a variable that stores a value, or a comparison between variables that evaluates to a Boolean value."
   ]
  }
 ],
 "metadata": {
  "colab": {
   "collapsed_sections": [
    "2Q916P--eiMt",
    "Bl35H3myh4xZ",
    "sFSn1Xvuj0a8",
    "sLLg8WLeEafv",
    "MbJ5mMuPmLZF",
    "EpuzbcA0rkiS"
   ],
   "provenance": [],
   "toc_visible": true
  },
  "kernelspec": {
   "display_name": "Python 3",
   "language": "python",
   "name": "python3"
  },
  "language_info": {
   "codemirror_mode": {
    "name": "ipython",
    "version": 3
   },
   "file_extension": ".py",
   "mimetype": "text/x-python",
   "name": "python",
   "nbconvert_exporter": "python",
   "pygments_lexer": "ipython3",
   "version": "3.7.6"
  }
 },
 "nbformat": 4,
 "nbformat_minor": 1
}
