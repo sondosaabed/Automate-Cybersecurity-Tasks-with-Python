{
 "cells": [
  {
   "cell_type": "markdown",
   "metadata": {
    "id": "yhVY_dQEi1EN"
   },
   "source": [
    "# Exemplar: Use regular expressions to find patterns"
   ]
  },
  {
   "cell_type": "markdown",
   "metadata": {
    "id": "ivt8p77hCKcO"
   },
   "source": [
    "## Introduction\n",
    "\n",
    "Security analysts often analyze log files, including those that contain information about login attempts. For example as an analyst, you might flag IP addresses that relate to unusual attempts to log in to the system. \n",
    "\n",
    "Another area of focus in cybersecurity is detecting devices that require updates. Software updates help prevent security issues due to vulnerabilities.\n",
    "\n",
    "Using regular expressions in Python can help automate the processes involved in both of these areas of cybersecurity. Regular expression patterns and functions can be used to efficiently extract important information from strings and files. \n",
    "\n",
    "In this lab, you'll write regular expressions to extract information such as device IDs or IP addresses."
   ]
  },
  {
   "cell_type": "markdown",
   "metadata": {
    "id": "eW4pA4LsC-vb"
   },
   "source": [
    "<details><summary><h2>Tips for completing this lab</h2></summary>\n",
    "\n",
    "As you navigate this lab, keep the following tips in mind:\n",
    "\n",
    "- `### YOUR CODE HERE ###` indicates where you should write code. Be sure to replace this with your own code before running the code cell.\n",
    "- Feel free to open the hints for additional guidance as you work on each task. \n",
    "- To enter your answer to a question, double-click the markdown cell to edit. Be sure to replace the \"[Double-click to enter your responses here.]\" with your own answer.\n",
    "- You can save your work manually by clicking File and then Save in the menu bar at the top of the notebook. \n",
    "- You can download your work locally by clicking File and then Download and then specifying your preferred file format in the menu bar at the top of the notebook. \n",
    "</details>"
   ]
  },
  {
   "cell_type": "markdown",
   "metadata": {
    "id": "Bb7YlKJ6Crhq"
   },
   "source": [
    "## Scenario\n",
    "\n",
    "In this lab, you're working as a security analyst and your main tasks are as follows:\n",
    "- extracting device IDs containing certain characters from a log; these characters correspond with a certain operating system that requires an update.\n",
    "- extracting all IP addresses from a log and then comparing them to those that are flagged in a list."
   ]
  },
  {
   "cell_type": "markdown",
   "metadata": {
    "id": "HoVpKSvyi-uI"
   },
   "source": [
    "## Task 1\n",
    "In order to work with regular expressions in Python, start by importing the `re` module. This module contains many functions that will help you work with regular expressions. By running the following code cell, the module will be available through the rest of the notebook."
   ]
  },
  {
   "cell_type": "code",
   "execution_count": 1,
   "metadata": {
    "id": "3G0JhqZCiULp"
   },
   "outputs": [],
   "source": [
    "# Import the `re` module in Python\n",
    "\n",
    "import re"
   ]
  },
  {
   "cell_type": "markdown",
   "metadata": {
    "id": "jF8bZT0SkiFr"
   },
   "source": [
    "## Task 2\n",
    "In your work as a cybersecurity analyst, you're responsible for updating devices. A device ID that begins with the characters `\"r15\"` indicates that the device has a certain operating system that must be updated. \n",
    "\n",
    "You're given a log of device IDs, stored in a variable named `devices`. Your eventual goal is to extract the device IDs that start with the characters `\"r15\"`. For now, display the contents of the whole string to examine what it contains. Be sure to replace the `### YOUR CODE HERE ###` with your own code before you run the following cell."
   ]
  },
  {
   "cell_type": "code",
   "execution_count": 2,
   "metadata": {
    "id": "xlXOC_MBlQDd"
   },
   "outputs": [
    {
     "name": "stdout",
     "output_type": "stream",
     "text": [
      "r262c36 67bv8fy 41j1u2e r151dm4 1270t3o 42dr56i r15xk9h 2j33krk 253be78 ac742a1 r15u9q5 zh86b2l ii286fq 9x482kt 6oa6m6u x3463ac i4l56nq g07h55q 081qc9t r159r1u\n"
     ]
    }
   ],
   "source": [
    "# Assign `devices` to a string containing device IDs, each device ID represented by alphanumeric characters\n",
    "\n",
    "devices = \"r262c36 67bv8fy 41j1u2e r151dm4 1270t3o 42dr56i r15xk9h 2j33krk 253be78 ac742a1 r15u9q5 zh86b2l ii286fq 9x482kt 6oa6m6u x3463ac i4l56nq g07h55q 081qc9t r159r1u\"\n",
    "\n",
    "# Display the contents of `devices`\n",
    "\n",
    "print(devices)"
   ]
  },
  {
   "cell_type": "markdown",
   "metadata": {
    "id": "3VpUpR6Zey9V"
   },
   "source": [
    "<details>\n",
    "  <summary><h4><strong>Hint 1</strong></h4></summary>\n",
    "\n",
    "Use the `print()` function to display the contents of `devices`. \n",
    "\n",
    "</details>"
   ]
  },
  {
   "cell_type": "markdown",
   "metadata": {
    "id": "qzue2wJfUHG4"
   },
   "source": [
    "## Task 3\n",
    "In this task, you'll write a pattern to find devices that start with the character combination of `\"r15\"`. \n",
    "\n",
    "Use the regular expression symbols `\\w` and `+` to create the pattern, and store it as a string in a variable named `target_pattern`.\n",
    "\n",
    "Be sure to replace the `### YOUR CODE HERE ###` with your own code before you run the following cell. Note that the code cell will contain only variable assignments, so running it will not produce an output."
   ]
  },
  {
   "cell_type": "code",
   "execution_count": 3,
   "metadata": {
    "id": "Lw0c8GxGv3fY"
   },
   "outputs": [],
   "source": [
    "# Assign `devices` to a string containing device IDs, each device ID represented by alphanumeric characters\n",
    "\n",
    "devices = \"r262c36 67bv8fy 41j1u2e r151dm4 1270t3o 42dr56i r15xk9h 2j33krk 253be78 ac742a1 r15u9q5 zh86b2l ii286fq 9x482kt 6oa6m6u x3463ac i4l56nq g07h55q 081qc9t r159r1u\"\n",
    "\n",
    "# Assign `target_pattern` to a regular expression pattern for finding device IDs that start with \"r15\"\n",
    "\n",
    "target_pattern = \"r15\\w+\""
   ]
  },
  {
   "cell_type": "markdown",
   "metadata": {
    "id": "cAEqqWJuyaEJ"
   },
   "source": [
    "<details>\n",
    "  <summary><h4><strong>Hint 1</strong></h4></summary>\n",
    "\n",
    "The regular expression symbol `\\w` matches with any alphanumeric character.\n",
    "\n",
    "The regular expression symbol `+` matches with one or more occurrences of the character before it in the pattern.\n",
    "\n",
    "</details>"
   ]
  },
  {
   "cell_type": "markdown",
   "metadata": {
    "id": "O13yc9K-3vqZ"
   },
   "source": [
    "<details>\n",
    "  <summary><h4><strong>Hint 2</strong></h4></summary>\n",
    "\n",
    "Combining the regular expression symbols `\\w` and `+` results in `\\w+`, which matches with an alphanumeric string of any length.\n",
    "\n",
    "</details>"
   ]
  },
  {
   "cell_type": "markdown",
   "metadata": {
    "id": "5U7QwIry4mDG"
   },
   "source": [
    "<details>\n",
    "  <summary><h4><strong>Hint 3</strong></h4></summary>\n",
    "\n",
    "Since `target_pattern` needs to match with an alphanumeric string that starts with `\"r15\"`, make sure the pattern starts with `r15`, followed by `\\w+`.\n",
    "\n",
    "</details>"
   ]
  },
  {
   "cell_type": "markdown",
   "metadata": {
    "id": "uyvpm4lZVtSQ"
   },
   "source": [
    "#### **Question 1**\n",
    "**What regular expression pattern did you use? For each component of the pattern, what would happen if it were missing?**"
   ]
  },
  {
   "cell_type": "markdown",
   "metadata": {
    "id": "r-pyoFv-ZTF7"
   },
   "source": [
    "The regular expression pattern used was `\"r15\\w+\"`. Without the `r15`, the pattern will not match with device IDs that start with the characters `\"r15\"`. Without the `\\w`, the pattern will not match with alphanumeric characters following `\"r15\"`. Without the `+`, the pattern will match with only the first alphanumeric character that occurs after `\"r15\"`."
   ]
  },
  {
   "cell_type": "markdown",
   "metadata": {
    "id": "9-B2F3CDyWcv"
   },
   "source": [
    "## Task 4\n",
    "Use the `findall()` function from the `re` module to find the device IDs that the `target_pattern` matches with. Be sure to replace the `### YOUR CODE HERE ###` with your own code before you run the following cell.\n",
    "\n",
    "**Note:** In order to use `re.findall()` in Tasks 4, 7, 8, 9 and 11, you must have previously run the code `import re` in Task 1."
   ]
  },
  {
   "cell_type": "code",
   "execution_count": 4,
   "metadata": {
    "id": "GLgAj1ID7czA"
   },
   "outputs": [
    {
     "name": "stdout",
     "output_type": "stream",
     "text": [
      "['r151dm4', 'r15xk9h', 'r15u9q5', 'r159r1u']\n"
     ]
    }
   ],
   "source": [
    "# Assign `devices` to a string containing device IDs, each device ID represented by alphanumeric characters\n",
    "\n",
    "devices = \"r262c36 67bv8fy 41j1u2e r151dm4 1270t3o 42dr56i r15xk9h 2j33krk 253be78 ac742a1 r15u9q5 zh86b2l ii286fq 9x482kt 6oa6m6u x3463ac i4l56nq g07h55q 081qc9t r159r1u\"\n",
    "\n",
    "# Assign `target_pattern` to a regular expression pattern for finding device IDs that start with \"r15\"\n",
    "\n",
    "target_pattern = \"r15\\w+\"\n",
    "\n",
    "# Use `re.findall()` to find the device IDs that start with \"r15\" and display the results\n",
    "\n",
    "print(re.findall(target_pattern, devices))"
   ]
  },
  {
   "cell_type": "markdown",
   "metadata": {
    "id": "c8a8jzH-8CBu"
   },
   "source": [
    "<details>\n",
    "  <summary><h4><strong>Hint 1</strong></h4></summary>\n",
    "\n",
    "The `findall()` function from the `re` module takes in a regular expression, followed by a string. The function applies the regular expression to the string and returns a list of matches.\n",
    "\n",
    "</details>"
   ]
  },
  {
   "cell_type": "markdown",
   "metadata": {
    "id": "MqTk0BN-8CBv"
   },
   "source": [
    "<details>\n",
    "  <summary><h4><strong>Hint 2</strong></h4></summary>\n",
    "\n",
    "When calling the `re.findall()` function, pass in the `target_pattern` variable as the first argument and the `devices` variable as the second argument. This will ensure that `target_pattern` is applied to the string stored in `devices`.\n",
    "\n",
    "</details>"
   ]
  },
  {
   "cell_type": "markdown",
   "metadata": {
    "id": "h8TGXyQkegpg"
   },
   "source": [
    "## Task 5\n",
    "Now, the next task you're responsible for is analyzing a network security log file and determining which IP addresses have been flagged for unusual activity. \n",
    "\n",
    "You're given the log file as a string stored in a variable named `log_file`. There are some invalid IP addresses in the log file due to issues in data collection. Your eventual goal is to use regular expressions to extract the valid IP addresses from the string. \n",
    "\n",
    "Start by displaying the contents of the `log_file` to examine the details inside. Be sure to replace the `### YOUR CODE HERE ###` with your own code before you run the following cell."
   ]
  },
  {
   "cell_type": "code",
   "execution_count": 5,
   "metadata": {
    "id": "iUBVnBwoNx_f"
   },
   "outputs": [
    {
     "name": "stdout",
     "output_type": "stream",
     "text": [
      "eraab 2022-05-10 6:03:41 192.168.152.148 \n",
      "iuduike 2022-05-09 6:46:40 192.168.22.115 \n",
      "smartell 2022-05-09 19:30:32 192.168.190.178 \n",
      "arutley 2022-05-12 17:00:59 1923.1689.3.24 \n",
      "rjensen 2022-05-11 0:59:26 192.168.213.128 \n",
      "aestrada 2022-05-09 19:28:12 1924.1680.27.57 \n",
      "asundara 2022-05-11 18:38:07 192.168.96.200 \n",
      "dkot 2022-05-12 10:52:00 1921.168.1283.75 \n",
      "abernard 2022-05-12 23:38:46 19245.168.2345.49 \n",
      "cjackson 2022-05-12 19:36:42 192.168.247.153 \n",
      "jclark 2022-05-10 10:48:02 192.168.174.117 \n",
      "alevitsk 2022-05-08 12:09:10 192.16874.1390.176 \n",
      "jrafael 2022-05-10 22:40:01 192.168.148.115 \n",
      "yappiah 2022-05-12 10:37:22 192.168.103.10654 \n",
      "daquino 2022-05-08 7:02:35 192.168.168.144\n"
     ]
    }
   ],
   "source": [
    "# Assign `log_file` to a string containing username, date, login time, and IP address for a series of login attempts \n",
    "\n",
    "log_file = \"eraab 2022-05-10 6:03:41 192.168.152.148 \\niuduike 2022-05-09 6:46:40 192.168.22.115 \\nsmartell 2022-05-09 19:30:32 192.168.190.178 \\narutley 2022-05-12 17:00:59 1923.1689.3.24 \\nrjensen 2022-05-11 0:59:26 192.168.213.128 \\naestrada 2022-05-09 19:28:12 1924.1680.27.57 \\nasundara 2022-05-11 18:38:07 192.168.96.200 \\ndkot 2022-05-12 10:52:00 1921.168.1283.75 \\nabernard 2022-05-12 23:38:46 19245.168.2345.49 \\ncjackson 2022-05-12 19:36:42 192.168.247.153 \\njclark 2022-05-10 10:48:02 192.168.174.117 \\nalevitsk 2022-05-08 12:09:10 192.16874.1390.176 \\njrafael 2022-05-10 22:40:01 192.168.148.115 \\nyappiah 2022-05-12 10:37:22 192.168.103.10654 \\ndaquino 2022-05-08 7:02:35 192.168.168.144\"\n",
    "\n",
    "# Display contents of `log_file`\n",
    "\n",
    "print(log_file)"
   ]
  },
  {
   "cell_type": "markdown",
   "metadata": {
    "id": "qPbHZuvJoDKi"
   },
   "source": [
    "<details>\n",
    "  <summary><h4><strong>Hint 1</strong></h4></summary>\n",
    "\n",
    "Use the `print()` function to display the contents of the `log_file`.\n",
    "\n",
    "</details>"
   ]
  },
  {
   "cell_type": "markdown",
   "metadata": {
    "id": "cHTd8_GVgIi8"
   },
   "source": [
    "## Task 6\n",
    "In this task, you'll build a regular expression pattern that you can use later on to extract IP addresses that are in the form of xxx.xxx.xxx.xxx. In other words, you'll extract all IP addresses that contain four segments of three digits that are separated by periods.\n",
    "\n",
    "Write a regular expression pattern that will match with these IP addresses and store it in a variable named `pattern`. Use the regular expression symbols `\\d` and `\\.` in your pattern. Note that the symbol `\\d` matches with digits, in other words, any integer between 0 and 9. Be sure to replace the `### YOUR CODE HERE ###` with your own code. Since you'll just build the pattern here, there won't be any output when you run this cell."
   ]
  },
  {
   "cell_type": "code",
   "execution_count": 6,
   "metadata": {
    "id": "uSCTiTMEuSUB"
   },
   "outputs": [],
   "source": [
    "# Assign `log_file` to a string containing username, date, login time, and IP address for a series of login attempts \n",
    "\n",
    "log_file = \"eraab 2022-05-10 6:03:41 192.168.152.148 \\niuduike 2022-05-09 6:46:40 192.168.22.115 \\nsmartell 2022-05-09 19:30:32 192.168.190.178 \\narutley 2022-05-12 17:00:59 1923.1689.3.24 \\nrjensen 2022-05-11 0:59:26 192.168.213.128 \\naestrada 2022-05-09 19:28:12 1924.1680.27.57 \\nasundara 2022-05-11 18:38:07 192.168.96.200 \\ndkot 2022-05-12 10:52:00 1921.168.1283.75 \\nabernard 2022-05-12 23:38:46 19245.168.2345.49 \\ncjackson 2022-05-12 19:36:42 192.168.247.153 \\njclark 2022-05-10 10:48:02 192.168.174.117 \\nalevitsk 2022-05-08 12:09:10 192.16874.1390.176 \\njrafael 2022-05-10 22:40:01 192.168.148.115 \\nyappiah 2022-05-12 10:37:22 192.168.103.10654 \\ndaquino 2022-05-08 7:02:35 192.168.168.144\"\n",
    "\n",
    "# Assign `pattern` to a regular expression pattern that will match with IP addresses of the form xxx.xxx.xxx.xxx\n",
    "pattern = \"\\d\\d\\d\\.\\d\\d\\d\\.\\d\\d\\d\\.\\d\\d\\d\""
   ]
  },
  {
   "cell_type": "markdown",
   "metadata": {
    "id": "Sw8c673yvGTY"
   },
   "source": [
    "<details>\n",
    "  <summary><h4><strong>Hint 1</strong></h4></summary>\n",
    "\n",
    "The `\\.` symbol matches with periods. \n",
    "\n",
    "</details>"
   ]
  },
  {
   "cell_type": "markdown",
   "metadata": {
    "id": "mTYHAPe25n6w"
   },
   "source": [
    "<details>\n",
    "  <summary><h4><strong>Hint 2</strong></h4></summary>\n",
    "\n",
    "Recall that this task's focus is on IP addresses in the form of xxx.xxx.xxx.xxx, where each x is a digit. In other words, these addresses have the following format: three digits followed by a period, three digits followed by a period, three digits followed by a period, three digits.\n",
    "\n",
    "To build a pattern that matches with IP addresses in this form, use the `\\d` symbol for every digit and the `\\.` for every period that should be in the IP address.\n",
    "\n",
    "</details>"
   ]
  },
  {
   "cell_type": "markdown",
   "metadata": {
    "id": "nCKCeY8hgzAa"
   },
   "source": [
    "<details>\n",
    "  <summary><h4><strong>Hint 3</strong></h4></summary>\n",
    "\n",
    "You can use the regular expression `\\d\\d\\d\\.` to match with a segment of three digits followed by a period.\n",
    "\n",
    "</details>"
   ]
  },
  {
   "cell_type": "markdown",
   "metadata": {
    "id": "INYOA67Th2pT"
   },
   "source": [
    "## Task 7\n",
    "In this task, you'll use the `re.findall()` function on the regular expression pattern stored in the `pattern` variable and the provided `log_file` to extract the corresponding IP addresses. Afterwards, run the cell and take note of what it outputs. Be sure to replace the `### YOUR CODE HERE ###` with your own code before you run the following cell."
   ]
  },
  {
   "cell_type": "code",
   "execution_count": 7,
   "metadata": {
    "id": "35eW9ZhE-J-6"
   },
   "outputs": [
    {
     "name": "stdout",
     "output_type": "stream",
     "text": [
      "['192.168.152.148', '192.168.190.178', '192.168.213.128', '192.168.247.153', '192.168.174.117', '192.168.148.115', '192.168.103.106', '192.168.168.144']\n"
     ]
    }
   ],
   "source": [
    "# Assign `log_file` to a string containing username, date, login time, and IP address for a series of login attempts \n",
    "\n",
    "log_file = \"eraab 2022-05-10 6:03:41 192.168.152.148 \\niuduike 2022-05-09 6:46:40 192.168.22.115 \\nsmartell 2022-05-09 19:30:32 192.168.190.178 \\narutley 2022-05-12 17:00:59 1923.1689.3.24 \\nrjensen 2022-05-11 0:59:26 192.168.213.128 \\naestrada 2022-05-09 19:28:12 1924.1680.27.57 \\nasundara 2022-05-11 18:38:07 192.168.96.200 \\ndkot 2022-05-12 10:52:00 1921.168.1283.75 \\nabernard 2022-05-12 23:38:46 19245.168.2345.49 \\ncjackson 2022-05-12 19:36:42 192.168.247.153 \\njclark 2022-05-10 10:48:02 192.168.174.117 \\nalevitsk 2022-05-08 12:09:10 192.16874.1390.176 \\njrafael 2022-05-10 22:40:01 192.168.148.115 \\nyappiah 2022-05-12 10:37:22 192.168.103.10654 \\ndaquino 2022-05-08 7:02:35 192.168.168.144\"\n",
    "\n",
    "# Assign `pattern` to a regular expression pattern that will match with IP addresses of the form xxx.xxx.xxx.xxx\n",
    "\n",
    "pattern = \"\\d\\d\\d\\.\\d\\d\\d\\.\\d\\d\\d\\.\\d\\d\\d\"\n",
    "\n",
    "# Use the `re.findall()` function on `pattern` and `log_file` to extract the IP addresses of the form xxx.xxx.xxx.xxx and display the results\n",
    "\n",
    "print(re.findall(pattern, log_file))"
   ]
  },
  {
   "cell_type": "markdown",
   "metadata": {
    "id": "_IWrRh9a_T9K"
   },
   "source": [
    "<details>\n",
    "  <summary><h4><strong>Hint 1</strong></h4></summary>\n",
    "\n",
    "The `re.findall()` function takes in a regular expression, followed by a string. The function applies the regular expression to the string and returns a list of matches.\n",
    "\n",
    "</details>"
   ]
  },
  {
   "cell_type": "markdown",
   "metadata": {
    "id": "Sz-igmPA_T9S"
   },
   "source": [
    "<details>\n",
    "  <summary><h4><strong>Hint 2</strong></h4></summary>\n",
    "\n",
    "When calling the `re.findall()` function, pass in the `pattern` variable as the first argument and the `log_file` variable as the second argument. This will ensure that `pattern` is applied to the string stored in `log_file`.\n",
    "\n",
    "</details>"
   ]
  },
  {
   "cell_type": "markdown",
   "metadata": {
    "id": "upPckuSQzkMG"
   },
   "source": [
    "#### **Question 2**\n",
    "**What are some examples of IP addresses that were extracted? What are some examples of IP addresses that were not extracted? Do any that were not extracted seem to be valid IP addresses?**"
   ]
  },
  {
   "cell_type": "markdown",
   "metadata": {
    "id": "w8fSltSBzxt2"
   },
   "source": [
    "Examples of IP addresses that were extracted include `\"192.168.152.148\"` and `\"192.168.190.178\"`. Examples of IP addresses that were not extracted include `\"192.168.22.115\"` and `\"1923.1689.3.24\"`. IP addresses that have fewer then three digits per segment, such as `\"192.168.22.115\"` (which has two digits in the third segment and three digits in each of the other segments), are valid IP addresses but were not extracted."
   ]
  },
  {
   "cell_type": "markdown",
   "metadata": {
    "id": "Au82pPWv29uU"
   },
   "source": [
    "## Task 8\n",
    "There are some valid IP addresses in the `log_file` that you haven't extracted yet. This is because each segment of digits in a valid IP address can have anywhere between one and three digits. \n",
    "\n",
    "Adjust the regular expression in the `pattern` to allow for variation in the number of digits in each segment. You can do this by using the `+` symbol after the `\\d` symbol. Afterwards, use the updated `pattern` to extract remaining IP addresses. Then, run the cell to analyze the results. Be sure to replace the `### YOUR CODE HERE ###` with your own code before you run the following cell."
   ]
  },
  {
   "cell_type": "code",
   "execution_count": 8,
   "metadata": {
    "id": "qnp-4nT9E6NH"
   },
   "outputs": [
    {
     "name": "stdout",
     "output_type": "stream",
     "text": [
      "['192.168.152.148', '192.168.22.115', '192.168.190.178', '1923.1689.3.24', '192.168.213.128', '1924.1680.27.57', '192.168.96.200', '1921.168.1283.75', '19245.168.2345.49', '192.168.247.153', '192.168.174.117', '192.16874.1390.176', '192.168.148.115', '192.168.103.10654', '192.168.168.144']\n"
     ]
    }
   ],
   "source": [
    "# Assign `log_file` to a string containing username, date, login time, and IP address for a series of login attempts \n",
    "\n",
    "log_file = \"eraab 2022-05-10 6:03:41 192.168.152.148 \\niuduike 2022-05-09 6:46:40 192.168.22.115 \\nsmartell 2022-05-09 19:30:32 192.168.190.178 \\narutley 2022-05-12 17:00:59 1923.1689.3.24 \\nrjensen 2022-05-11 0:59:26 192.168.213.128 \\naestrada 2022-05-09 19:28:12 1924.1680.27.57 \\nasundara 2022-05-11 18:38:07 192.168.96.200 \\ndkot 2022-05-12 10:52:00 1921.168.1283.75 \\nabernard 2022-05-12 23:38:46 19245.168.2345.49 \\ncjackson 2022-05-12 19:36:42 192.168.247.153 \\njclark 2022-05-10 10:48:02 192.168.174.117 \\nalevitsk 2022-05-08 12:09:10 192.16874.1390.176 \\njrafael 2022-05-10 22:40:01 192.168.148.115 \\nyappiah 2022-05-12 10:37:22 192.168.103.10654 \\ndaquino 2022-05-08 7:02:35 192.168.168.144\"\n",
    "\n",
    "# Update `pattern` to a regular expression pattern that will match with IP addresses with any variation in the number of digits per segment\n",
    "\n",
    "pattern = \"\\d+\\.\\d+\\.\\d+\\.\\d+\"\n",
    "\n",
    "# Use the `re.findall()` function on `pattern` and `log_file` to extract the IP addresses of the updated form specifed above and display the results\n",
    "\n",
    "print(re.findall(pattern, log_file))"
   ]
  },
  {
   "cell_type": "markdown",
   "metadata": {
    "id": "7sPldstrF8Wh"
   },
   "source": [
    "<details>\n",
    "  <summary><h4><strong>Hint 1</strong></h4></summary>\n",
    "\n",
    "The regular expression symbol `+` represents one or more occurrences of a specific character. \n",
    "\n",
    "The regular expression symbol `\\d` matches with digits, in other words any integer between 0 and 9.\n",
    "\n",
    "</details>"
   ]
  },
  {
   "cell_type": "markdown",
   "metadata": {
    "id": "ZJFBq1M_F8Wh"
   },
   "source": [
    "<details>\n",
    "  <summary><h4><strong>Hint 2</strong></h4></summary>\n",
    "\n",
    "Placing `+` after `\\d` results in `\\d+`, which will match with one or more digits.\n",
    "\n",
    "</details>"
   ]
  },
  {
   "cell_type": "markdown",
   "metadata": {
    "id": "qEmeRX5l3Lmz"
   },
   "source": [
    "#### **Question 3**\n",
    "**What gets extracted here? Do all extracted IP addresses have between one and three digits in every segment?**"
   ]
  },
  {
   "cell_type": "markdown",
   "metadata": {
    "id": "0Vl6pdIk3e5N"
   },
   "source": [
    "Now, extracted IP addresses include those with exactly three digits per segment (such as `\"192.168.152.148\"`), those with fewer than three digits per segment (such as `\"192.168.22.115\"`), and those with more than three digits per segment (such as `\"1923.1689.3.24\"`). Not all of the extracted IP addresses have between one and three digits in every segment."
   ]
  },
  {
   "cell_type": "markdown",
   "metadata": {
    "id": "wWv0kFOH-HxJ"
   },
   "source": [
    "## Task 9\n",
    "Note that all the IP addresses are now extracted but they also include invalid IP addresses with more than three digits per segment.\n",
    "\n",
    "In this task, you'll update the `pattern` using curly brackets instead of the `+` symbol. In regular expressions, curly brackets can be used to represent an exact number of repetitions between two numbers. For example, `{2,4}` in a regular expression means between 2 and 4 occurrences of something. Applying this to an example, `\\w{2,4}` would match with two, three, or four alphanumeric characters. Afterwards, you'll call the `re.findall()` function on the updated `pattern` and the `log_file` and store the output in a variable named `valid_ip_addresses`. \n",
    "\n",
    "Then, display the contents of `valid_ip_addresses` and run the cell to analyze the results. Be sure to replace each `### YOUR CODE HERE ###` with your own code before you run the following cell."
   ]
  },
  {
   "cell_type": "code",
   "execution_count": 9,
   "metadata": {
    "id": "J7PcNUrTJotG"
   },
   "outputs": [
    {
     "name": "stdout",
     "output_type": "stream",
     "text": [
      "['192.168.152.148', '192.168.22.115', '192.168.190.178', '192.168.213.128', '192.168.96.200', '192.168.247.153', '192.168.174.117', '192.168.148.115', '192.168.103.106', '192.168.168.144']\n"
     ]
    }
   ],
   "source": [
    "# Assign `log_file` to a string containing username, date, login time, and IP address for a series of login attempts \n",
    "\n",
    "log_file = \"eraab 2022-05-10 6:03:41 192.168.152.148 \\niuduike 2022-05-09 6:46:40 192.168.22.115 \\nsmartell 2022-05-09 19:30:32 192.168.190.178 \\narutley 2022-05-12 17:00:59 1923.1689.3.24 \\nrjensen 2022-05-11 0:59:26 192.168.213.128 \\naestrada 2022-05-09 19:28:12 1924.1680.27.57 \\nasundara 2022-05-11 18:38:07 192.168.96.200 \\ndkot 2022-05-12 10:52:00 1921.168.1283.75 \\nabernard 2022-05-12 23:38:46 19245.168.2345.49 \\ncjackson 2022-05-12 19:36:42 192.168.247.153 \\njclark 2022-05-10 10:48:02 192.168.174.117 \\nalevitsk 2022-05-08 12:09:10 192.16874.1390.176 \\njrafael 2022-05-10 22:40:01 192.168.148.115 \\nyappiah 2022-05-12 10:37:22 192.168.103.10654 \\ndaquino 2022-05-08 7:02:35 192.168.168.144\"\n",
    "\n",
    "# Assign `pattern` to a regular expression that matches with all valid IP addresses and only those \n",
    "\n",
    "pattern = \"\\d{1,3}\\.\\d{1,3}\\.\\d{1,3}\\.\\d{1,3}\"\n",
    "\n",
    "# Use `re.findall()` on `pattern` and `log_file` and assign `valid_ip_addresses` to the output \n",
    "\n",
    "valid_ip_addresses = re.findall(pattern, log_file)\n",
    "\n",
    "# Display the contents of `valid_ip_addresses`\n",
    "\n",
    "print(valid_ip_addresses)"
   ]
  },
  {
   "cell_type": "markdown",
   "metadata": {
    "id": "SZKQ_HRSLHTU"
   },
   "source": [
    "<details>\n",
    "  <summary><h4><strong>Hint 1</strong></h4></summary>\n",
    "\n",
    "Recall that curly brackets in regular expressions match with a number of repetitions between two specified numbers. \n",
    "\n",
    "To build a regular expression pattern that matches with anywhere between one and three digits, use `\\d{1,3}`.\n",
    "\n",
    "</details>"
   ]
  },
  {
   "cell_type": "markdown",
   "metadata": {
    "id": "-odncroJLHTU"
   },
   "source": [
    "<details>\n",
    "  <summary><h4><strong>Hint 2</strong></h4></summary>\n",
    "\n",
    "Recall that a valid IP address consists of four segments of three digits each, separated by periods. \n",
    "\n",
    "To represent a segment of three digits followed by a period, use `\\d{1,3}\\.` in the regular expression pattern you build. \n",
    "\n",
    "</details>"
   ]
  },
  {
   "cell_type": "markdown",
   "metadata": {
    "id": "4h-vE1NV-oHh"
   },
   "source": [
    "#### **Question 4**\n",
    "**What do you notice about the extracted IP addresses here compared to those extracted in the previous two tasks?**"
   ]
  },
  {
   "cell_type": "markdown",
   "metadata": {
    "id": "vOQPYSFN_oBv"
   },
   "source": [
    "Here, the extracted IP addresses all have between one and three digits per segment. Recall that in Task 7, only IP addresses with exactly three digits per segment were extracted. And in Task 8, IP addresses with more than three digits per segment were also extracted."
   ]
  },
  {
   "cell_type": "markdown",
   "metadata": {
    "id": "fN5DOA8kManD"
   },
   "source": [
    "## Task 10\n",
    "Now, all of the valid IP addresses have been extracted. The next step is to identify flagged IP addresses.\n",
    "\n",
    "You're given a list of IP addresses that have been previously flagged for unusual activity, stored in a variable named `flagged_addresses`. When these addresses are encountered, they should be investigated further. This list is just for educational purposes and contains examples of private IP addresses that are found only within internal networks.\n",
    "\n",
    "Display this list and examine what it contains by running the cell. Be sure to replace the `### YOUR CODE HERE ###` with your own code before you run the following cell."
   ]
  },
  {
   "cell_type": "code",
   "execution_count": 10,
   "metadata": {
    "id": "RfVGgZy-JmiI"
   },
   "outputs": [
    {
     "name": "stdout",
     "output_type": "stream",
     "text": [
      "['192.168.190.178', '192.168.96.200', '192.168.174.117', '192.168.168.144']\n"
     ]
    }
   ],
   "source": [
    "# Assign `flagged_addresses` to a list of IP addresses that have been previously flagged for unusual activity\n",
    "\n",
    "flagged_addresses = [\"192.168.190.178\", \"192.168.96.200\", \"192.168.174.117\", \"192.168.168.144\"]\n",
    "\n",
    "# Display the contents of `flagged_addresses`\n",
    "\n",
    "print(flagged_addresses)"
   ]
  },
  {
   "cell_type": "markdown",
   "metadata": {
    "id": "00n15oJIPDlq"
   },
   "source": [
    "<details>\n",
    "  <summary><h4><strong>Hint 1</strong></h4></summary>\n",
    "\n",
    "Use the `print()` function to display the contents of `flagged_addresses`.\n",
    "\n",
    "</details>"
   ]
  },
  {
   "cell_type": "markdown",
   "metadata": {
    "id": "Tk91RTC_PHx2"
   },
   "source": [
    "## Task 11\n",
    "Finally, you will write an iterative statement that loops through the `valid_ip_addresses` list and checks if each IP address is flagged. In the following code, the `address` will be the loop variable. Also, include a conditional that checks if the `address` belongs to the `flagged_addresses` list. If so, it should display `\"The IP address ______ has been flagged for further analysis.\"` If not, it should display `\"The IP address ______ does not require further analysis.\"` Be sure to replace each `### YOUR CODE HERE ###` with your own code before you run the following cell.\n"
   ]
  },
  {
   "cell_type": "code",
   "execution_count": 11,
   "metadata": {
    "id": "TXUAYghkQRJ-"
   },
   "outputs": [
    {
     "name": "stdout",
     "output_type": "stream",
     "text": [
      "The IP address 192.168.152.148 does not require further analysis.\n",
      "The IP address 192.168.22.115 does not require further analysis.\n",
      "The IP address 192.168.190.178 has been flagged for further analysis.\n",
      "The IP address 192.168.213.128 does not require further analysis.\n",
      "The IP address 192.168.96.200 has been flagged for further analysis.\n",
      "The IP address 192.168.247.153 does not require further analysis.\n",
      "The IP address 192.168.174.117 has been flagged for further analysis.\n",
      "The IP address 192.168.148.115 does not require further analysis.\n",
      "The IP address 192.168.103.106 does not require further analysis.\n",
      "The IP address 192.168.168.144 has been flagged for further analysis.\n"
     ]
    }
   ],
   "source": [
    "# Assign `log_file` to a string containing username, date, login time, and IP address for a series of login attempts \n",
    "\n",
    "log_file = \"eraab 2022-05-10 6:03:41 192.168.152.148 \\niuduike 2022-05-09 6:46:40 192.168.22.115 \\nsmartell 2022-05-09 19:30:32 192.168.190.178 \\narutley 2022-05-12 17:00:59 1923.1689.3.24 \\nrjensen 2022-05-11 0:59:26 192.168.213.128 \\naestrada 2022-05-09 19:28:12 1924.1680.27.57 \\nasundara 2022-05-11 18:38:07 192.168.96.200 \\ndkot 2022-05-12 10:52:00 1921.168.1283.75 \\nabernard 2022-05-12 23:38:46 19245.168.2345.49 \\ncjackson 2022-05-12 19:36:42 192.168.247.153 \\njclark 2022-05-10 10:48:02 192.168.174.117 \\nalevitsk 2022-05-08 12:09:10 192.16874.1390.176 \\njrafael 2022-05-10 22:40:01 192.168.148.115 \\nyappiah 2022-05-12 10:37:22 192.168.103.10654 \\ndaquino 2022-05-08 7:02:35 192.168.168.144\"\n",
    "\n",
    "# Assign `pattern` to a regular expression that matches with all valid IP addresses and only those \n",
    "\n",
    "pattern = \"\\d{1,3}\\.\\d{1,3}\\.\\d{1,3}\\.\\d{1,3}\"\n",
    "\n",
    "# Use `re.findall()` on `pattern` and `log_file` and assign `valid_ip_addresses` to the output \n",
    "\n",
    "valid_ip_addresses = re.findall(pattern, log_file)\n",
    "\n",
    "# Assign `flagged_addresses` to a list of IP addresses that have been previously flagged for unusual activity\n",
    "\n",
    "flagged_addresses = [\"192.168.190.178\", \"192.168.96.200\", \"192.168.174.117\", \"192.168.168.144\"]\n",
    "\n",
    "# Iterative statement begins here\n",
    "# Loop through `valid_ip_addresses` with `address` as the loop variable\n",
    "\n",
    "for address in valid_ip_addresses:\n",
    "\n",
    "    # Conditional begins here\n",
    "    # If `address` belongs to `flagged_addresses`, display \"The IP address ______ has been flagged for further analysis.\"\n",
    "\n",
    "    if address in flagged_addresses:\n",
    "        print(\"The IP address\", address, \"has been flagged for further analysis.\")\n",
    "\n",
    "    # Otherwise, display \"The IP address ______ does not require further analysis.\"\n",
    "\n",
    "    else:\n",
    "        print(\"The IP address\", address, \"does not require further analysis.\")"
   ]
  },
  {
   "cell_type": "markdown",
   "metadata": {
    "id": "-NB7NMmIH0xC"
   },
   "source": [
    "<details>\n",
    "  <summary><h4><strong>Hint 1</strong></h4></summary>\n",
    "\n",
    "Complete the `for` loop condition so that the loop iterates through the `valid_ip_addresses` list.\n",
    "\n",
    "</details>"
   ]
  },
  {
   "cell_type": "markdown",
   "metadata": {
    "id": "eLd4aRj8Gvc3"
   },
   "source": [
    "<details>\n",
    "  <summary><h4><strong>Hint 2</strong></h4></summary>\n",
    "\n",
    "Complete the `if` condition so that the `if` statement checks whether the value of the loop variable `address` is in the `flagged_addresses` list.\n",
    "\n",
    "</details>"
   ]
  },
  {
   "cell_type": "markdown",
   "metadata": {
    "id": "_H_t0mnzGwYU"
   },
   "source": [
    "<details>\n",
    "  <summary><h4><strong>Hint 3</strong></h4></summary>\n",
    "\n",
    "Inside the `else` statement, use the `print()` function to display the specified message.\n",
    "\n",
    "</details>"
   ]
  },
  {
   "cell_type": "markdown",
   "metadata": {
    "id": "-U4MTWPXdGf2"
   },
   "source": [
    "## Conclusion\n",
    "\n",
    "**What are your key takeaways from this lab?**"
   ]
  },
  {
   "cell_type": "markdown",
   "metadata": {
    "id": "XJmJ1KcWdHc1"
   },
   "source": [
    "- Regular expressions in Python allow you to create patterns that you can then use to find important strings. \n",
    "- Regular expression patterns can be built to match specific characters and character combinations. \n",
    "- Examples of regular expression symbols practiced in this lab:\n",
    "  - `\\w` represents any alphanumeric character.\n",
    "  - `+` represents one or more occurrences of the previous character in the regular expression.\n",
    "  - `\\d` represents any digit.\n",
    "  - `\\.` represents a period. \n",
    "  - `{x,y}` represents anywhere between x and y number of occurrences of the previous character in the regular expression. The x and y can be replaced with any two positive integers to indicate an exact range for the number of occurrences.\n",
    "- The `re` module in Python contains functions that are useful when working with regular expressions. \n",
    "  - One example is the `re.findall()` function, which takes in a regular expression pattern as well as a string, checks for all instances in the string that match with the pattern and outputs a list of the matches. "
   ]
  }
 ],
 "metadata": {
  "colab": {
   "provenance": [],
   "toc_visible": true
  },
  "kernelspec": {
   "display_name": "Python 3",
   "language": "python",
   "name": "python3"
  },
  "language_info": {
   "codemirror_mode": {
    "name": "ipython",
    "version": 3
   },
   "file_extension": ".py",
   "mimetype": "text/x-python",
   "name": "python",
   "nbconvert_exporter": "python",
   "pygments_lexer": "ipython3",
   "version": "3.7.6"
  }
 },
 "nbformat": 4,
 "nbformat_minor": 1
}
