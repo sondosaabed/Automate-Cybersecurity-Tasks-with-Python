{
 "cells": [
  {
   "cell_type": "markdown",
   "metadata": {
    "id": "f7c0d886"
   },
   "source": [
    "# Activity: Create a conditional statement"
   ]
  },
  {
   "cell_type": "markdown",
   "metadata": {
    "id": "0c066c48"
   },
   "source": [
    "## Introduction\n",
    "\n",
    "Conditional statements are a powerful structure that help in achieving automation when you need to make sure conditions are met before certain actions are executed. For example, security analysts can use conditional statements in Python to check if users are approved to access a device. \n",
    "\n",
    "In this lab, you will practice writing conditional statements in Python."
   ]
  },
  {
   "cell_type": "markdown",
   "metadata": {
    "id": "c5e84779"
   },
   "source": [
    "<details><summary><h2>Tips for completing this lab</h2></summary>\n",
    "\n",
    "As you navigate this lab, keep the following tips in mind:\n",
    "\n",
    "- `### YOUR CODE HERE ###` indicates where you should write code. Be sure to replace this with your own code before running the code cell.\n",
    "- Feel free to open the hints for additional guidance as you work on each task.\n",
    "- To enter your answer to a question, double-click the markdown cell to edit. Be sure to replace the \"[Double-click to enter your responses here.]\" with your own answer.\n",
    "- You can save your work manually by clicking File and then Save in the menu bar at the top of the notebook.\n",
    "- You can download your work locally by clicking File and then Download and then specifying your preferred file format in the menu bar at the top of the notebook.\n",
    "</details>"
   ]
  },
  {
   "cell_type": "markdown",
   "metadata": {
    "id": "cf55e108"
   },
   "source": [
    "## Scenario\n",
    "\n",
    "You're working as a security analyst. First, you are responsible for checking whether a user's operating system requires an update. Then, you need to investigate login attempts to a specific device. You must determine if login attempts were made by users approved to access this device and if the login attempts occurred during organization hours."
   ]
  },
  {
   "cell_type": "markdown",
   "metadata": {
    "id": "dddf9066"
   },
   "source": [
    "## Task 1\n",
    "You are asked to help automate the process of checking whether a user's operating system requires an update. Imagine that a user's device can be running one of the following operating systems: OS 1, OS 2, or OS 3. While OS 2 is up-to-date, OS 1 and OS 3 are not. Your task is to check whether the user's system is up-to-date, and if it is, display a message accordingly. To do this, complete the conditional statement using the keyword `if`. Be sure to replace the `### YOUR CODE HERE ###` with your own code before you run the following cell."
   ]
  },
  {
   "cell_type": "code",
   "execution_count": 1,
   "metadata": {
    "id": "ecf76d07"
   },
   "outputs": [
    {
     "name": "stdout",
     "output_type": "stream",
     "text": [
      "no update needed\n"
     ]
    }
   ],
   "source": [
    "# Assign a variable named `system` to a specific operating system, represented as a string\n",
    "# This variable indicates which operating system is running\n",
    "# Feel free to run this cell multiple times; each time try assigning `system` to different values (\"OS 1\", \"OS 2\", \"OS 3\") and observe the result\n",
    "\n",
    "system = \"OS 2\"\n",
    "\n",
    "# If OS 2 is running, then display a \"no update needed\" message\n",
    "\n",
    "if system == \"OS 2\":\n",
    "    print(\"no update needed\")\n",
    "    "
   ]
  },
  {
   "cell_type": "markdown",
   "metadata": {
    "id": "87404578"
   },
   "source": [
    "<details>\n",
    "    <summary><h4><strong>Hint 1</strong></h4></summary>\n",
    "\n",
    "Use a comparison operator that will allow you to check whether the `system` is running `\"OS 2\"`.\n",
    "\n",
    "</details>"
   ]
  },
  {
   "cell_type": "markdown",
   "metadata": {
    "id": "a84345d3"
   },
   "source": [
    "<details>\n",
    "    <summary><h4><strong>Hint 2</strong></h4></summary>\n",
    "\n",
    "Use the `==` comparison operator to check whether the `system` is running `\"OS 2\"`.\n",
    "\n",
    "</details>"
   ]
  },
  {
   "cell_type": "markdown",
   "metadata": {
    "id": "64d3dfd5"
   },
   "source": [
    "## Task 2\n",
    "Now try assigning the `system` variable to different values (`\"OS 1\"`, `\"OS 2\"`, and `\"OS 3\"`), run the cell, and observe what happens. Keep the conditional statement as is. Be sure to replace the `### YOUR CODE HERE ###` with your own code."
   ]
  },
  {
   "cell_type": "code",
   "execution_count": 2,
   "metadata": {
    "id": "04268ef8"
   },
   "outputs": [],
   "source": [
    "# Assign `system` to a specific operating system\n",
    "# This variable represents which operating system is running\n",
    "# Feel free to run this cell multiple times; each time try assigning `system` to different values (\"OS 1\", \"OS 2\", \"OS 3\") and observe the result\n",
    "\n",
    "system = \"OS 3\"\n",
    "\n",
    "# If OS 2 is running, then display a \"no update needed\" message\n",
    "\n",
    "if system == \"OS 2\":\n",
    "    print(\"no update needed\")\n",
    "    "
   ]
  },
  {
   "cell_type": "markdown",
   "metadata": {
    "id": "91a9fa19"
   },
   "source": [
    "#### **Question 1**\n",
    "**What happens when OS 2 is running? What happens when OS 1 is running?**"
   ]
  },
  {
   "cell_type": "markdown",
   "metadata": {
    "id": "1f7b136c"
   },
   "source": [
    "[Double-click to enter your responses here.]\n"
   ]
  },
  {
   "cell_type": "markdown",
   "metadata": {
    "id": "5cb83fb8"
   },
   "source": [
    "## Task 3\n",
    "\n",
    "Nothing is displayed when the `system` is not equal to `\"OS 2\"`. This is because the condition didn't evaluate to `True`.\n",
    "\n",
    "It would be beneficial if an alternative message is provided to them when updates are needed.\n",
    "\n",
    "In the following cell, add the appropriate keyword after the first conditional so that it will display a message that conveys that an update is needed when the `system` is not running OS 2. Be sure to replace each `### YOUR CODE HERE ###` with your own code.\n",
    "\n",
    "Then, set the value of the `system` variable to indicate that OS 2 is running and run the cell. After observing what happens, set the value of `system` to indicate either that OS 1 is running or that OS 3 is running and run the cell."
   ]
  },
  {
   "cell_type": "code",
   "execution_count": 3,
   "metadata": {
    "id": "e837a2e5"
   },
   "outputs": [
    {
     "name": "stdout",
     "output_type": "stream",
     "text": [
      "no update needed\n"
     ]
    }
   ],
   "source": [
    "# Assign `system` to a specific operating system\n",
    "# This variable represents which operating system is running\n",
    "\n",
    "system = \"OS 2\"\n",
    "\n",
    "# If OS 2 is running, then display a \"no update needed\" message\n",
    "# Otherwise, display a \"update needed\" message\n",
    "\n",
    "if system == \"OS 2\":\n",
    "    print(\"no update needed\")\n",
    "else:\n",
    "    print(\"update needed\")\n",
    "    "
   ]
  },
  {
   "cell_type": "markdown",
   "metadata": {
    "id": "a0990885"
   },
   "source": [
    "<details>\n",
    "    <summary><h4><strong>Hint 1</strong></h4></summary>\n",
    "\n",
    "Use the `else` keyword.\n",
    "\n",
    "</details>"
   ]
  },
  {
   "cell_type": "markdown",
   "metadata": {
    "id": "94d7173f"
   },
   "source": [
    "#### **Question 2**\n",
    "**In this setup what happens when OS 2 is running? And what happens when OS 2 is not running?**"
   ]
  },
  {
   "cell_type": "markdown",
   "metadata": {
    "id": "35cebec3"
   },
   "source": [
    "[Double-click to enter your responses here.]\n"
   ]
  },
  {
   "cell_type": "markdown",
   "metadata": {
    "id": "5dc33cf4"
   },
   "source": [
    "## Task 4\n",
    "\n",
    "This setup is still not ideal. If the variable `system` contains a random string or integer, the conditional above would still display `update needed`.\n",
    "\n",
    "To improve the conditional, you will need to add the `elif` keyword. In the following cell, you will add two `elif` statements after the `if` statement, to create the final code. The first `elif` statement will display `update needed` if `system` is `\"OS 1\"`. The second `elif` statement will display the same message, if `system` is `\"OS 3\"`. Complete the second `elif` statement, and then run the cell with the variable `system` set to a different string each time. Observe what happens when each operating system is running. Also try assigning the `system` variable to some strings other than `\"OS 1\"`, `\"OS 2\"`, and `\"OS 3\"` (for example `\"OS 4\"`).\n",
    "\n",
    "Be sure to replace each `### YOUR CODE HERE ###` with your own code."
   ]
  },
  {
   "cell_type": "code",
   "execution_count": 5,
   "metadata": {
    "id": "fdd233bd"
   },
   "outputs": [
    {
     "name": "stdout",
     "output_type": "stream",
     "text": [
      "update needed\n"
     ]
    }
   ],
   "source": [
    "# Assign `system` to a specific operating system\n",
    "# This variable represents which operating system is running\n",
    "\n",
    "system = \"OS 3\"\n",
    "\n",
    "# If OS 2 is running, then display a \"no update needed\" message\n",
    "# Otherwise if OS 1 is running, display a \"update needed\" message\n",
    "# Otherwise if OS 3 is running, display a \"update needed\" message\n",
    "\n",
    "if system == \"OS 2\":\n",
    "    print(\"no update needed\")\n",
    "elif system == \"OS 1\":\n",
    "    print(\"update needed\")\n",
    "elif system == \"OS 3\":\n",
    "    print(\"update needed\")\n",
    "    "
   ]
  },
  {
   "cell_type": "markdown",
   "metadata": {
    "id": "ffe34587"
   },
   "source": [
    "#### **Question 3**\n",
    "**Under this setup what happens when OS 2 is running? What happens when OS 1 is running? What happens when OS 3 is running? What happens when neither of those three operating systems are running?**"
   ]
  },
  {
   "cell_type": "markdown",
   "metadata": {
    "id": "8f2a5fa7"
   },
   "source": [
    "[Double-click to enter your responses here.]\n"
   ]
  },
  {
   "cell_type": "markdown",
   "metadata": {
    "id": "406daa6d"
   },
   "source": [
    "## Task 5\n",
    "Writing code that is readable and concise is a best practice in programming.\n",
    "\n",
    "The conditional above can be written more concisely.\n",
    "\n",
    "In the following cell, use a logical operator to combine the two `elif` statements from the previous setup into one `elif` statement. Be sure to replace each `### YOUR CODE HERE ###`. Then, assign the `system` variable to a value and run the cell. Like you did in the previous task, use `\"OS 1\"`, `\"OS 2\"`, `\"OS 3\"`, and other strings."
   ]
  },
  {
   "cell_type": "code",
   "execution_count": 6,
   "metadata": {
    "id": "edcd0fe6"
   },
   "outputs": [
    {
     "name": "stdout",
     "output_type": "stream",
     "text": [
      "update needed\n"
     ]
    }
   ],
   "source": [
    "# Assign `system` to a specific operating system\n",
    "# This variable represents which operating system is running\n",
    "\n",
    "system = \"OS 3\"\n",
    "\n",
    "# If OS 2 is running, then display a \"no update needed\" message\n",
    "# Otherwise if either OS 1 or OS 3 is running, display a \"update needed\" message\n",
    "\n",
    "if system == \"OS 2\":\n",
    "    print(\"no update needed\")\n",
    "elif system ==\"OS 1\" or system == \"OS 3\":\n",
    "    print(\"update needed\")\n",
    "    "
   ]
  },
  {
   "cell_type": "markdown",
   "metadata": {
    "id": "26dfef63"
   },
   "source": [
    "<details>\n",
    "    <summary><h4><strong>Hint 1</strong></h4></summary>\n",
    "\n",
    "Use the `or` logical operator.\n",
    "\n",
    "</details>"
   ]
  },
  {
   "cell_type": "markdown",
   "metadata": {
    "id": "b358319f"
   },
   "source": [
    "<details>\n",
    "    <summary><h4><strong>Hint 2</strong></h4></summary>\n",
    "\n",
    "Use the `or` operator between two conditions that each use the `==` operator.\n",
    "\n",
    "</details>"
   ]
  },
  {
   "cell_type": "markdown",
   "metadata": {
    "id": "bf8d3259"
   },
   "source": [
    "#### **Question 4**\n",
    "**What do you observe about this conditional?**"
   ]
  },
  {
   "cell_type": "markdown",
   "metadata": {
    "id": "b5ee2b89"
   },
   "source": [
    "[Double-click to enter your responses here.]\n"
   ]
  },
  {
   "cell_type": "markdown",
   "metadata": {
    "id": "8f119729"
   },
   "source": [
    "## Task 6\n",
    "Now you'll move on to the next part of your work. You've been asked to investigate login attempts to a specific device. Only approved users should log on to this device.\n",
    "\n",
    "You'll start with two authorized users, stored in the variables `approved_user1` and `approved_user2`. You'll need to write a conditional statement that compares those variables to a third variable, `username`.  This will be the username of a specific user trying to log in. Be sure to replace each `### YOUR CODE HERE ###` with your own code."
   ]
  },
  {
   "cell_type": "code",
   "execution_count": 7,
   "metadata": {
    "id": "fe43a1fc"
   },
   "outputs": [
    {
     "name": "stdout",
     "output_type": "stream",
     "text": [
      "This user has access to this device.\n"
     ]
    }
   ],
   "source": [
    "# Assign `approved_user1` and `approved_user2` to usernames of approved users\n",
    "\n",
    "approved_user1 = \"elarson\"\n",
    "approved_user2 = \"bmoreno\"\n",
    "\n",
    "# Assign `username` to the username of a specific user trying to log in\n",
    "\n",
    "username = \"bmoreno\"\n",
    "\n",
    "# If the user trying to log in is among the approved users, then display a message that they are approved to access this device\n",
    "# Otherwise, display a message that they do not have access to this device\n",
    "\n",
    "if username == approved_user1 or username == approved_user2:\n",
    "    print(\"This user has access to this device.\")\n",
    "else:\n",
    "    print(\"This user does not have access to this device.\")\n",
    "    "
   ]
  },
  {
   "cell_type": "markdown",
   "metadata": {
    "id": "5a669a55"
   },
   "source": [
    "<details>\n",
    "    <summary><h4><strong>Hint 1</strong></h4></summary>\n",
    "\n",
    "Use the `if` keyword in the first conditional statement and the `else` keyword in the second conditional statement. Make sure both statements end with the proper syntax of a colon (`:`).\n",
    "\n",
    "</details>"
   ]
  },
  {
   "cell_type": "markdown",
   "metadata": {
    "id": "b43c14e3"
   },
   "source": [
    "<details>\n",
    "    <summary><h4><strong>Hint 2</strong></h4></summary>\n",
    "\n",
    "Use a comparison operator that will allow you to check whether the user trying to log in is an approved user.\n",
    "\n",
    "</details>"
   ]
  },
  {
   "cell_type": "markdown",
   "metadata": {
    "id": "c9f97a89"
   },
   "source": [
    "<details>\n",
    "    <summary><h4><strong>Hint 3</strong></h4></summary>\n",
    "\n",
    "Use the `==` comparison operator to check whether the user trying to log in is an approved user.\n",
    "\n",
    "</details>"
   ]
  },
  {
   "cell_type": "markdown",
   "metadata": {
    "id": "563f6d9c"
   },
   "source": [
    "## Task 7\n",
    "The number of approved users has now expanded to five. Rather than storing each of the approved users' usernames individually, it would be more concise to store them in an allow list called `approved_list`.\n",
    "\n",
    "The `in` operator in Python can be used to determine whether a given value is an element of a sequence. Using the `in` operator in a condition can help you check whether a specific username is part of a list of approved usernames. For example, in the code below, `username in approved_list` evaluates to `True` if the value of the `username` variable is included in `approved_list`.\n",
    "\n",
    "Complete the code in the following cell to display the same messages that you used in the previous step. When the condition evaluates to `True`, the following message will be displayed: `\"This user has access to this device.\"` When it evaluates to `False`, the following message will be displayed: `\"This user does not have access to this device.\"` Then, run the cell to observe its behavior. Be sure to replace each `### YOUR CODE HERE ###` with your own code. Afterwards, reassign the `username` variable to a username that is not approved and run the cell to observe what happens."
   ]
  },
  {
   "cell_type": "code",
   "execution_count": 8,
   "metadata": {
    "id": "ddd374cf"
   },
   "outputs": [
    {
     "name": "stdout",
     "output_type": "stream",
     "text": [
      "You are approved!\n"
     ]
    }
   ],
   "source": [
    "# Assign `approved_list` to a list of approved usernames\n",
    "\n",
    "approved_list = [\"elarson\", \"bmoreno\", \"tshah\", \"sgilmore\", \"eraab\"]\n",
    "\n",
    "# Assign `username` to the username of a specific user trying to log in\n",
    "\n",
    "username = \"bmoreno\"\n",
    "\n",
    "# If the user trying to log in is among the approved users, then display a message that they are approved to access this device\n",
    "# Otherwise, display a message that they do not have access to this device\n",
    "\n",
    "if username in approved_list:\n",
    "    print(\"You are approved!\")\n",
    "else: \n",
    "    print(\"You don't have access!\")\n",
    "    "
   ]
  },
  {
   "cell_type": "markdown",
   "metadata": {
    "id": "f131bcb9"
   },
   "source": [
    "<details>\n",
    "    <summary><h4><strong>Hint 1</strong></h4></summary>\n",
    "\n",
    "Use the `else` keyword in the second conditional statement.\n",
    "\n",
    "</details>"
   ]
  },
  {
   "cell_type": "markdown",
   "metadata": {
    "id": "bbba5231"
   },
   "source": [
    "<details>\n",
    "    <summary><h4><strong>Hint 2</strong></h4></summary>\n",
    "\n",
    "Use the `print()` function to display messages.\n",
    "\n",
    "</details>"
   ]
  },
  {
   "cell_type": "markdown",
   "metadata": {
    "id": "17daa2cf"
   },
   "source": [
    "#### **Question 5**\n",
    "**What happens when an approved user tries to log in? What happens when an unapproved user tries to log in?**"
   ]
  },
  {
   "cell_type": "markdown",
   "metadata": {
    "id": "dcbb0f5f"
   },
   "source": [
    "They will be displayed a message based on the case"
   ]
  },
  {
   "cell_type": "markdown",
   "metadata": {
    "id": "ff35f9ec"
   },
   "source": [
    "## Task 8\n",
    "\n",
    "Now you'll write another conditional statement. This one will use a `organization_hours` variable to check if the user logged in during specific organization hours. When that condition is met, the code should display the string `\"Login attempt made during organization hours.\"`. When that condition isn't met, the code should display the string `\"Login attempt made outside of organization hours.\"`.\n",
    "\n",
    "The `organization_hours` variable will have a Boolean data type. If `organization_hours` has a Boolean value of `True`, that means the user is logged in during the specified organization hours. If `organization_hours` has a Boolean value of `False`, that means the user is not logged in during those hours.\n",
    "\n",
    "Complete the conditional in the following cell. Be sure to replace each `### YOUR CODE HERE ###` with your own code before running the following cell."
   ]
  },
  {
   "cell_type": "code",
   "execution_count": 9,
   "metadata": {
    "id": "4e8974a8"
   },
   "outputs": [
    {
     "name": "stdout",
     "output_type": "stream",
     "text": [
      "Login attempt made during organization hours.\n"
     ]
    }
   ],
   "source": [
    "# Assign `organization_hours` to a Boolean value that represents whether the user is trying to log in during organization hours\n",
    "\n",
    "organization_hours = True\n",
    "\n",
    "# If the entered `organization_hours` has a value of True, then display \"Login attempt made during organization hours.\"\n",
    "# Otherwise, display \"Login attempt made outside of organization hours.\"\n",
    "\n",
    "if organization_hours == True:\n",
    "    print(\"Login attempt made during organization hours.\")\n",
    "else: \n",
    "   print(\"Login attempt made outside of organization hours.\")\n",
    "    "
   ]
  },
  {
   "cell_type": "markdown",
   "metadata": {
    "id": "8b5ec002",
    "tags": []
   },
   "source": [
    "<details>\n",
    "    <summary><h4><strong>Hint 1</strong></h4></summary>\n",
    "\n",
    "Use the `==` comparison operator to check whether the user is logged in during the specified organization hours. Compare `organization_hours` to the appropriate Boolean value.\n",
    "\n",
    "</details>"
   ]
  },
  {
   "cell_type": "markdown",
   "metadata": {
    "id": "98534659"
   },
   "source": [
    "<details>\n",
    "    <summary><h4><strong>Hint 2</strong></h4></summary>\n",
    "\n",
    "Use the `print()` function to display messages.\n",
    "\n",
    "</details>"
   ]
  },
  {
   "cell_type": "markdown",
   "metadata": {
    "id": "83e6e4c8"
   },
   "source": [
    "<details>\n",
    "    <summary><h4><strong>Hint 3</strong></h4></summary>\n",
    "\n",
    "Use the `else` keyword in the second conditional statement.\n",
    "\n",
    "</details>"
   ]
  },
  {
   "cell_type": "markdown",
   "metadata": {
    "id": "06044a44"
   },
   "source": [
    "#### **Question 6**\n",
    "**What happens when the user logs in during organization hours? What happens when they log in outside of organization hours?**"
   ]
  },
  {
   "cell_type": "markdown",
   "metadata": {
    "id": "54a052de"
   },
   "source": [
    "They will be displayed a mesage in each casses based on the case."
   ]
  },
  {
   "cell_type": "markdown",
   "metadata": {
    "id": "af03a37c-7452-4fbb-b72f-ee355a1537b1"
   },
   "source": [
    "## Task 9\n",
    "The following cell assembles the code from the previous tasks. It includes the conditional statement that checks if a user is on the allow list and the conditional statement that checks if the user logged in during organization hours.\n",
    "\n",
    "Run the cell below a few times. Each time, enter a different combination of values for `username` and `organization_hours` to observe how that affects the output."
   ]
  },
  {
   "cell_type": "code",
   "execution_count": 10,
   "metadata": {
    "id": "29c7c915"
   },
   "outputs": [
    {
     "name": "stdout",
     "output_type": "stream",
     "text": [
      "This user has access to this device.\n",
      "Login attempt made during organization hours.\n"
     ]
    }
   ],
   "source": [
    "# Assign `approved_list` to a list of approved usernames\n",
    "\n",
    "approved_list = [\"elarson\", \"bmoreno\", \"tshah\", \"sgilmore\", \"eraab\"]\n",
    "\n",
    "# Assign `username` to the username of a specific user trying to log in\n",
    "\n",
    "username = \"bmoreno\"\n",
    "\n",
    "# If the user trying to log in is among the approved users, then display a message that they are approved to access this device\n",
    "# Otherwise, display a message that they do not have access to this device\n",
    "\n",
    "if username in approved_list:\n",
    "    print(\"This user has access to this device.\")\n",
    "\n",
    "else:\n",
    "    print(\"This user does not have access to this device.\")\n",
    "\n",
    "# Assign `organization_hours` to a Boolean value that represents whether the user is trying to log in during organization hours\n",
    "\n",
    "organization_hours = True\n",
    "\n",
    "# If the entered `organization_hours` has a value of True, then display \"Login attempt made during organization hours.\"\n",
    "# Otherwise, display \"Login attempt made outside of organization hours.\"\n",
    "\n",
    "if organization_hours == True:\n",
    "    print(\"Login attempt made during organization hours.\")\n",
    "else:\n",
    "    print(\"Login attempt made outside of organization hours.\")\n",
    "    "
   ]
  },
  {
   "cell_type": "markdown",
   "metadata": {
    "id": "bdd488dc"
   },
   "source": [
    "#### **Question 7**\n",
    "**What happens when the user trying to log in is not among the approved users? What happens when the user trying to log in is among the approved users? What happens when the user tries to log in outside of organization hours?**"
   ]
  },
  {
   "cell_type": "markdown",
   "metadata": {
    "id": "26ba310f"
   },
   "source": [
    "In each case they will be displayed a diffrent message."
   ]
  },
  {
   "cell_type": "markdown",
   "metadata": {
    "id": "2de9d7a0"
   },
   "source": [
    "## Task 10\n",
    "You can also provide a single message about the login attempt. To do this, you can join both conditions into a single conditional statement using a logical operator. This will make the code more concise.\n",
    "\n",
    "Examine the code in the following cell and add the missing operator that would allow for a single message. Be sure to replace each `### YOUR CODE HERE ###` with your own code before running the following cell. Then run the cell, entering different combinations of information, and observe what happens."
   ]
  },
  {
   "cell_type": "code",
   "execution_count": 12,
   "metadata": {
    "id": "3983355f"
   },
   "outputs": [
    {
     "name": "stdout",
     "output_type": "stream",
     "text": [
      "Login attempt made by an approved user during organization hours.\n"
     ]
    }
   ],
   "source": [
    "# Assign `approved_list` to a list of approved usernames\n",
    "\n",
    "approved_list = [\"elarson\", \"bmoreno\", \"tshah\", \"sgilmore\", \"eraab\"]\n",
    "\n",
    "# Assign `username` to the username of a specific user trying to log in\n",
    "\n",
    "username = \"bmoreno\"\n",
    "\n",
    "# Assign `organization_hours` to a Boolean value that represents whether the user is trying to log in during organization hours\n",
    "\n",
    "organization_hours = True\n",
    "\n",
    "# If the user is among the approved users and they are logging in during organization hours, then convey that the user is logged in\n",
    "# Otherwise, convey that either the username is not approved or the login attempt was made outside of organization hours\n",
    "\n",
    "if username in approved_list and organization_hours == True:\n",
    "    print(\"Login attempt made by an approved user during organization hours.\")\n",
    "else:\n",
    "    print(\"Username not approved or login attempt made outside of organization hours.\")\n"
   ]
  },
  {
   "cell_type": "markdown",
   "metadata": {
    "id": "985cd541"
   },
   "source": [
    "<details>\n",
    "    <summary><h4><strong>Hint 1</strong></h4></summary>\n",
    "\n",
    "Use the logical operator that would allow you to check both conditions in the `if` statement (the condition that the entered username is in the approved list and the condition that the login attempt is occurring during organization hours).\n",
    "\n",
    "</details>"
   ]
  },
  {
   "cell_type": "markdown",
   "metadata": {
    "id": "68556c1b"
   },
   "source": [
    "<details>\n",
    "    <summary><h4><strong>Hint 2</strong></h4></summary>\n",
    "\n",
    "Use the `and` logical operator to check both conditions in the `if` statement (the condition that the entered username is in the approved list and the condition that the login attempt is occurring during organization hours).\n",
    "\n",
    "</details>"
   ]
  },
  {
   "cell_type": "markdown",
   "metadata": {
    "id": "7dd439a9"
   },
   "source": [
    "#### **Question 8**\n",
    "**In this setup, what happens when the user trying to log in is an approved user and doing so during organization hours? What happens when the user either is not approved or attempts to log in outside of organization hours?**"
   ]
  },
  {
   "cell_type": "markdown",
   "metadata": {
    "id": "fd8f8d2b"
   },
   "source": [
    "of they are approved they will be shown a message based on the casae."
   ]
  },
  {
   "cell_type": "markdown",
   "metadata": {
    "id": "d47250b6"
   },
   "source": [
    "## Conclusion\n",
    "**What are your key takeaways from this lab?**\n",
    "\n",
    "[Double-click to enter your responses here.]"
   ]
  }
 ],
 "metadata": {
  "colab": {
   "provenance": [
    {
     "file_id": "1KtE2DAbz5pj_IP34uE9K5nils1RUHVKg",
     "timestamp": 1667953394971
    }
   ]
  },
  "kernelspec": {
   "display_name": "Python 3",
   "language": "python",
   "name": "python3"
  },
  "language_info": {
   "codemirror_mode": {
    "name": "ipython",
    "version": 3
   },
   "file_extension": ".py",
   "mimetype": "text/x-python",
   "name": "python",
   "nbconvert_exporter": "python",
   "pygments_lexer": "ipython3",
   "version": "3.7.6"
  }
 },
 "nbformat": 4,
 "nbformat_minor": 5
}
